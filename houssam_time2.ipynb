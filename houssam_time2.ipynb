{
 "cells": [
  {
   "cell_type": "markdown",
   "id": "59c493e8",
   "metadata": {},
   "source": [
    "<a href=\"https://www.kaggle.com/code/theongy/getting-started-maneuver-detection?scriptVersionId=120424735\" target=\"_blank\"><img align=\"left\" alt=\"Kaggle\" title=\"Open in Kaggle\" src=\"https://kaggle.com/static/images/open-in-kaggle.svg\"></a>"
   ]
  },
  {
   "cell_type": "code",
   "execution_count": 1,
   "id": "e0c03931",
   "metadata": {
    "_cell_guid": "b1076dfc-b9ad-4769-8c92-a6c4dae69d19",
    "_uuid": "8f2839f25d086af736a60e9eeb907d3b93b6e0e5",
    "execution": {
     "iopub.execute_input": "2023-02-26T22:56:56.710033Z",
     "iopub.status.busy": "2023-02-26T22:56:56.709662Z",
     "iopub.status.idle": "2023-02-26T22:57:04.286993Z",
     "shell.execute_reply": "2023-02-26T22:57:04.286097Z"
    },
    "papermill": {
     "duration": 7.585766,
     "end_time": "2023-02-26T22:57:04.289437",
     "exception": false,
     "start_time": "2023-02-26T22:56:56.703671",
     "status": "completed"
    },
    "tags": []
   },
   "outputs": [
    {
     "name": "stdout",
     "output_type": "stream",
     "text": [
      "cp: cannot stat '../input/maneuver-detection/': No such file or directory\r\n"
     ]
    }
   ],
   "source": [
    "\"\"\"Command line to load the data (valid only for this notebook)\"\"\"\n",
    "import sys\n",
    "package_paths = [\n",
    "    '../input/hackathon2023/',\n",
    "]\n",
    "\n",
    "for pth in package_paths:\n",
    "    sys.path.append(pth)\n",
    "!cp -r '../input/maneuver-detection/' '/kaggle/working'"
   ]
  },
  {
   "cell_type": "markdown",
   "id": "f6bd9c23",
   "metadata": {
    "papermill": {
     "duration": 0.003146,
     "end_time": "2023-02-26T22:57:04.296402",
     "exception": false,
     "start_time": "2023-02-26T22:57:04.293256",
     "status": "completed"
    },
    "tags": []
   },
   "source": [
    "# Loading the dataset"
   ]
  },
  {
   "cell_type": "markdown",
   "id": "9d2d6390",
   "metadata": {
    "papermill": {
     "duration": 0.003266,
     "end_time": "2023-02-26T22:57:04.303071",
     "exception": false,
     "start_time": "2023-02-26T22:57:04.299805",
     "status": "completed"
    },
    "tags": []
   },
   "source": [
    "A custom pytorch dataset is provided. It will parse the json dataset can be used with the pytorch loader. Since loading can sometimes take time, it is recommanded to execute the following cell at the beginning separately."
   ]
  },
  {
   "cell_type": "code",
   "execution_count": 4,
   "id": "2d2d4b10",
   "metadata": {
    "execution": {
     "iopub.execute_input": "2023-02-26T22:57:04.312083Z",
     "iopub.status.busy": "2023-02-26T22:57:04.311242Z",
     "iopub.status.idle": "2023-02-26T22:57:13.241991Z",
     "shell.execute_reply": "2023-02-26T22:57:13.240298Z"
    },
    "papermill": {
     "duration": 8.939039,
     "end_time": "2023-02-26T22:57:13.245521",
     "exception": false,
     "start_time": "2023-02-26T22:57:04.306482",
     "status": "completed"
    },
    "tags": []
   },
   "outputs": [
    {
     "name": "stdout",
     "output_type": "stream",
     "text": [
      "\n",
      "\n",
      "**********TRAIN DATASET *********\n",
      "Validation/Train ratio: 0.1\n",
      "Samples filtered? MANEUVER_ONLY\n",
      "Samples evenly spaced? False\n",
      "path: TRAIN_1_IRREGULAR_STEPS_V2.json\n",
      "loading dataset. Ready in a minute!\n",
      "TRAIN Dataset loaded. Size: 17902\n"
     ]
    }
   ],
   "source": [
    "from ManeuverDetectionDataset import ManeuverDetectionDataset\n",
    "dataset_path=\"TRAIN_1_IRREGULAR_STEPS_V2.json\"\n",
    "train_dataset= ManeuverDetectionDataset(dataset_path,filter_samples=\"MANEUVER_ONLY\")"
   ]
  },
  {
   "cell_type": "code",
   "execution_count": 5,
   "id": "c4004302",
   "metadata": {},
   "outputs": [
    {
     "name": "stdout",
     "output_type": "stream",
     "text": [
      "\n",
      "\n",
      "**********TRAIN DATASET *********\n",
      "Validation/Train ratio: 0.1\n",
      "Samples filtered? NO\n",
      "Samples evenly spaced? False\n",
      "path: TRAIN_1_IRREGULAR_STEPS_V2.json\n",
      "TRAIN Dataset loaded. Size: 17902\n"
     ]
    }
   ],
   "source": [
    "from ManeuverDetectionDataset import ManeuverDetectionDataset\n",
    "train_dataset= ManeuverDetectionDataset(dataset_path,imported_dataset=train_dataset.dataset)"
   ]
  },
  {
   "cell_type": "markdown",
   "id": "c87edb68",
   "metadata": {
    "papermill": {
     "duration": 0.003569,
     "end_time": "2023-02-26T22:57:13.25339",
     "exception": false,
     "start_time": "2023-02-26T22:57:13.249821",
     "status": "completed"
    },
    "tags": []
   },
   "source": [
    "As you can see, by default, the dataset is considered as a train dataset and 10% is not loaded for validation. To build the validation dataset, yo can do the same and you don't need to load again the json to save time ! **Beware : if you modify the code, you should take care to avoid to validate your model with the trained data!**"
   ]
  },
  {
   "cell_type": "code",
   "execution_count": 39,
   "id": "93cb18ca",
   "metadata": {
    "execution": {
     "iopub.execute_input": "2023-02-26T22:57:13.262774Z",
     "iopub.status.busy": "2023-02-26T22:57:13.261592Z",
     "iopub.status.idle": "2023-02-26T22:57:13.276583Z",
     "shell.execute_reply": "2023-02-26T22:57:13.275256Z"
    },
    "papermill": {
     "duration": 0.022585,
     "end_time": "2023-02-26T22:57:13.279536",
     "exception": false,
     "start_time": "2023-02-26T22:57:13.256951",
     "status": "completed"
    },
    "tags": []
   },
   "outputs": [
    {
     "name": "stdout",
     "output_type": "stream",
     "text": [
      "\n",
      "\n",
      "**********VALIDATION DATASET *********\n",
      "Validation/Train ratio: 0.1\n",
      "Samples filtered? MANEUVER_ONLY\n",
      "Samples evenly spaced? False\n",
      "path: TRAIN_1_IRREGULAR_STEPS_V2.json\n",
      "VALIDATION Dataset loaded. Size: 1989\n"
     ]
    }
   ],
   "source": [
    "dataset= ManeuverDetectionDataset(dataset_path,dataset_type=\"VALIDATION\",imported_dataset=train_dataset.dataset,filter_samples=\"MANEUVER_ONLY\")"
   ]
  },
  {
   "cell_type": "code",
   "execution_count": 40,
   "id": "83317e53",
   "metadata": {
    "execution": {
     "iopub.execute_input": "2023-02-26T22:57:13.289317Z",
     "iopub.status.busy": "2023-02-26T22:57:13.28865Z",
     "iopub.status.idle": "2023-02-26T22:57:13.294082Z",
     "shell.execute_reply": "2023-02-26T22:57:13.293048Z"
    },
    "papermill": {
     "duration": 0.013093,
     "end_time": "2023-02-26T22:57:13.296618",
     "exception": false,
     "start_time": "2023-02-26T22:57:13.283525",
     "status": "completed"
    },
    "tags": []
   },
   "outputs": [
    {
     "name": "stdout",
     "output_type": "stream",
     "text": [
      "\n",
      "\n",
      "**********VALIDATION DATASET *********\n",
      "Validation/Train ratio: 0.1\n",
      "Samples filtered? MANEUVER_ONLY\n",
      "Samples evenly spaced? False\n",
      "path: TRAIN_1_IRREGULAR_STEPS_V2.json\n",
      "VALIDATION Dataset loaded. Size: 1989\n"
     ]
    }
   ],
   "source": [
    "validation_dataset= ManeuverDetectionDataset(dataset_path,dataset_type=\"VALIDATION\",imported_dataset=train_dataset.dataset,filter_samples=\"MANEUVER_ONLY\")"
   ]
  },
  {
   "cell_type": "code",
   "execution_count": 37,
   "id": "d27b86bf",
   "metadata": {},
   "outputs": [
    {
     "name": "stderr",
     "output_type": "stream",
     "text": [
      "<>:170: SyntaxWarning: \"is\" with a literal. Did you mean \"==\"?\n",
      "<>:172: SyntaxWarning: \"is\" with a literal. Did you mean \"==\"?\n",
      "<>:175: SyntaxWarning: \"is\" with a literal. Did you mean \"==\"?\n",
      "<>:170: SyntaxWarning: \"is\" with a literal. Did you mean \"==\"?\n",
      "<>:172: SyntaxWarning: \"is\" with a literal. Did you mean \"==\"?\n",
      "<>:175: SyntaxWarning: \"is\" with a literal. Did you mean \"==\"?\n",
      "C:\\Users\\drag-\\AppData\\Local\\Temp\\ipykernel_19856\\3137077108.py:170: SyntaxWarning: \"is\" with a literal. Did you mean \"==\"?\n",
      "  if filter_samples is \"NO\":\n",
      "C:\\Users\\drag-\\AppData\\Local\\Temp\\ipykernel_19856\\3137077108.py:172: SyntaxWarning: \"is\" with a literal. Did you mean \"==\"?\n",
      "  elif filter_samples is \"MANEUVER_ONLY\":\n",
      "C:\\Users\\drag-\\AppData\\Local\\Temp\\ipykernel_19856\\3137077108.py:175: SyntaxWarning: \"is\" with a literal. Did you mean \"==\"?\n",
      "  elif filter_samples is \"WITHOUT_MANEUVER_ONLY\":\n"
     ]
    }
   ],
   "source": [
    "import json\n",
    "import os\n",
    "import numpy as np\n",
    "import torch\n",
    "from torch.utils.data import Dataset\n",
    "\n",
    "HOUR = 3600\n",
    "DURATION_KEY = \"duration_from_last_measurement\"\n",
    "OBSERVATION_TIME_SPAN = 48 * HOUR\n",
    "KEY_IDENTIFIER = \"keys\"\n",
    "INDEX_KEY = \"Case index\"\n",
    "MANEUVER_TIME_KEY = \"Maneuver Time (s)\"\n",
    "DELTA_V_KEY = \"Delta V (m/s)\"\n",
    "SAMPLE_INFO_KEY = \"task\"\n",
    "SK_TYPE_KEY = \"Sk type\"\n",
    "MANEUVERS_KEY = \"maneuvers\"\n",
    "MAXIMUM_MEASUREMENT_COUNT_BY_SAMPLE = 1000\n",
    "RESIDUAL_KEY = \"residuals\"\n",
    "RIGHT_ASCENSION_KEY = \"RA\"\n",
    "DECLINATION_KEY = \"DEC\"\n",
    "\n",
    "class ManeuverDetectionDataset(Dataset):\n",
    "    \"\"\"Parser for the maneuver detection dataset\n",
    "\n",
    "        Parameters\n",
    "        ----------\n",
    "        dataset_path : str\n",
    "            The dataset location.\n",
    "        dataset_type : str, optional (default is TRAIN).\n",
    "            Either \"TRAIN\",\"VALIDATION\" or \"TEST\". Train and Validation are created from the\n",
    "            dataset file according to the validation_size_ratio. Test dataset does not\n",
    "            return any maneuver information in the __iter__: function.\n",
    "        validation_size_ratio:float, optional (default is 0.1)\n",
    "            The size of the Validation dataset will be validation_size_ratio*total_dataset_length\n",
    "            The size of the Train dataset will be (1-validation_size_ratio)*total_dataset_length\n",
    "        max_size:int, optional (default is None)\n",
    "            If None, the whole dataset will be kept. If specified, the dataset will not exceed this size.\n",
    "        imported_dataset:dict, optional (default is None)\n",
    "            If None, the dataset will be imported from the dataset_path. Else, the dictionary given (with the correct\n",
    "            dataset structure) will be used. It is usefull to avoid to load in RAM twice the dataset for the validation\n",
    "            and the train dataset.\n",
    "        filter_samples:str, optional (default is \"NO\")\n",
    "            Either \"NO\",\"MANEUVER_ONLY\",\"WITHOUT_MANEUVER_ONLY\". It helps to filter the relevant samples (for example,\n",
    "            you may want to use only the maneuvers to train the networks to estimate the date and the dv of the maneuver)\n",
    "        fixed_step:bool, optional (default is False)\n",
    "            If False, the features are padded with 0 to fit a fixed size of 1000 measurements by sample.\n",
    "            If True, the features are not padded (to use with evenly spaced measurements dataset where the number of\n",
    "            measurements is the same for every sample)\n",
    "        add_time_feature:bool, optional (default is True)\n",
    "            If true, the features will have the following shape (measurements_count_by_sample,3).the first two features\n",
    "            are the residuals (Right Ascension and declination). The second feature is the duration from the start of the\n",
    "            observation.\n",
    "            If false, the features will have the following shape (measurements_count_by_sample,2)\n",
    "        \"\"\"\n",
    "    def __init__(self, dataset_path, dataset_type=\"TRAIN\", validation_size_ratio=0.1, max_size=None,\n",
    "                 imported_dataset=None, filter_samples=\"NO\", fixed_step=False, add_time_feature=True):\n",
    "        check_arguments(dataset_type, filter_samples)\n",
    "        print(\"\\n\\n**********\" + dataset_type + \" DATASET *********\")\n",
    "        print(f\"Validation/Train ratio: {validation_size_ratio}\")\n",
    "        print(f\"Samples filtered? {filter_samples}\")\n",
    "        print(f\"Samples evenly spaced? {fixed_step}\")\n",
    "        self.dataset_type = dataset_type\n",
    "        self.filter_samples = filter_samples\n",
    "        self.add_time_feature = add_time_feature\n",
    "        self.dataset_path = dataset_path\n",
    "        print(\"path: \" + self.dataset_path)\n",
    "        self.dataset = import_dataset(dataset_path, imported_dataset, filter_samples)\n",
    "        self.measurements_count_by_sample = MAXIMUM_MEASUREMENT_COUNT_BY_SAMPLE if not fixed_step \\\n",
    "            else fixed_measurement_count_by_sample(self.dataset)\n",
    "        self.length = compute_length(dataset_type, validation_size_ratio, len(self.dataset[KEY_IDENTIFIER]), max_size)\n",
    "        print(f\"{dataset_type} Dataset loaded. Size: {self.length}\")\n",
    "\n",
    "    def __len__(self):\n",
    "        return self.length\n",
    "\n",
    "    def __getitem__(self, torch_loader_index):\n",
    "        dataset_index = torch_loader_index if (self.dataset_type == \"TRAIN\" or self.dataset_type == \"TEST\") else -torch_loader_index-1\n",
    "        sample_key = self.dataset[KEY_IDENTIFIER][dataset_index]\n",
    "        sample = self.dataset[sample_key]\n",
    "        features = parse_sample(sample, self.measurements_count_by_sample, self.add_time_feature)\n",
    "        if self.dataset_type==\"TEST\":\n",
    "            return features,0,0.,0.\n",
    "        else:\n",
    "            maneuver_info = get_maneuver_info(sample)\n",
    "            return features, is_maneuver(sample), maneuver_info[DELTA_V_KEY], maneuver_info[MANEUVER_TIME_KEY]\n",
    "\n",
    "\n",
    "def compute_length(dataset_type, validation_size_ratio, total_dataset_length, max_size):\n",
    "    length = total_dataset_length if max_size is None else min(max_size, total_dataset_length)\n",
    "    if dataset_type == \"TRAIN\":\n",
    "        return round(length * (1 - validation_size_ratio))\n",
    "    elif dataset_type == \"VALIDATION\":\n",
    "        return round(length * validation_size_ratio)\n",
    "    elif dataset_type == \"TEST\":\n",
    "        return length\n",
    "\n",
    "\n",
    "def load(dataset_path):\n",
    "    print(\"loading dataset. Ready in a minute!\")\n",
    "    with open(dataset_path, \"r\") as dataset_file:\n",
    "        return json.load(dataset_file)\n",
    "\n",
    "\n",
    "def is_maneuver(sample):\n",
    "    return 0 if OBSERVATION_TIME_SPAN < get_maneuver_info(sample)[MANEUVER_TIME_KEY] else 1\n",
    "\n",
    "\n",
    "def get_maneuver_info(sample):\n",
    "    return {DELTA_V_KEY: 0., MANEUVER_TIME_KEY: 2 * OBSERVATION_TIME_SPAN} if len(\n",
    "        sample[SAMPLE_INFO_KEY][MANEUVERS_KEY]) == 0 else sample[SAMPLE_INFO_KEY][MANEUVERS_KEY][0]\n",
    "\n",
    "\n",
    "def get_observation_time_span(file_name):\n",
    "    dates_string = file_name.split(os.path.sep)[1].split(\" \")[5]\n",
    "    observation_start = dates_string.split(\"to\")[0]\n",
    "    observation_end = dates_string.split(\"to\")[1]\n",
    "    return observation_end, observation_start\n",
    "\n",
    "\n",
    "def get_residuals(sample, key):\n",
    "    return sample[RESIDUAL_KEY][key]\n",
    "\n",
    "\n",
    "def get_duration(sample):\n",
    "    return sample[RESIDUAL_KEY][DURATION_KEY]\n",
    "\n",
    "\n",
    "def check_arguments(dataset_type, filter_samples):\n",
    "    dataset_type_keys = {\"TRAIN\", \"TEST\", \"VALIDATION\"}\n",
    "    assert dataset_type in dataset_type_keys, f\"Invalid 'dataset type' argument {dataset_type}. \" \\\n",
    "                                              f\"dataset_type should be in {dataset_type_keys}\"\n",
    "    filter_samples_keys = {\"NO\", \"MANEUVER_ONLY\", \"WITHOUT_MANEUVER_ONLY\"}\n",
    "    assert filter_samples in filter_samples_keys, f\"Invalid 'filter sample' argument {filter_samples}. \" \\\n",
    "                                                  f\"'filter sample' should be in {filter_samples_keys}\"\n",
    "    if dataset_type==\"TEST\":\n",
    "        assert  filter_samples==\"NO\",\"Impossible to filter maneuvers, since you don't know them in the TEST dataset... \" \\\n",
    "                                     \"nice try :P \"\n",
    "\n",
    "def fixed_measurement_count_by_sample(dataset):\n",
    "    return len(get_residuals(dataset[dataset[KEY_IDENTIFIER][0]], RIGHT_ASCENSION_KEY))\n",
    "\n",
    "def parse_sample(sample, measurements_count_by_sample, time_feature):\n",
    "    feature_count = 3 if time_feature else 2\n",
    "    features = np.zeros((measurements_count_by_sample, feature_count))\n",
    "  \n",
    "    for i, key in enumerate([RIGHT_ASCENSION_KEY, DECLINATION_KEY]):\n",
    "        residuals = get_residuals(sample, key)\n",
    "        features[:len(residuals), i] = residuals\n",
    "    if time_feature:\n",
    "        duration = get_duration(sample)\n",
    "        features[:len(duration), 2] = duration\n",
    "     \n",
    "    valid_index=[]\n",
    "    features=torch.from_numpy(features)\n",
    "    for idx in range(features.shape[0]):\n",
    "        if not torch.all(features[idx,:]==0):\n",
    "            valid_index.append(idx)\n",
    "    features=features[valid_index,:]\n",
    "    features=features.reshape(1,features.shape[0],features.shape[1])\n",
    "    features_transpose=features.transpose(1,2)\n",
    "    features_interpolate=torch.nn.functional.interpolate(features_transpose,size=1000,mode=\"linear\",align_corners=False)\n",
    "    features_interpolate=torch.nn.functional.interpolate(features_transpose,size=5000,mode=\"linear\",align_corners=False)\n",
    "    features_interpolate=features_interpolate.transpose(1,2)\n",
    "    features_interpolate=features_interpolate[0]\n",
    "    features_interpolate[:,2]=features_interpolate[:,2]/(48*3600)\n",
    "    \n",
    "    return features_interpolate\n",
    "def import_dataset(dataset_path, imported_dataset, filter_samples):\n",
    "    dataset = imported_dataset if imported_dataset is not None else load(dataset_path)\n",
    "    if filter_samples is \"NO\":\n",
    "        return dataset\n",
    "    elif filter_samples is \"MANEUVER_ONLY\":\n",
    "        maneuver_keys_index = [True if is_maneuver(dataset[key]) else False for key in dataset[KEY_IDENTIFIER]]\n",
    "        dataset[KEY_IDENTIFIER] = list(np.array(dataset[KEY_IDENTIFIER])[maneuver_keys_index])\n",
    "    elif filter_samples is \"WITHOUT_MANEUVER_ONLY\":\n",
    "        without_maneuver_keys_index = [True if not is_maneuver(dataset[key]) else False for key in\n",
    "                                       dataset[KEY_IDENTIFIER]]\n",
    "        dataset[KEY_IDENTIFIER] = list(np.array(dataset[KEY_IDENTIFIER])[without_maneuver_keys_index])\n",
    "    return dataset\n"
   ]
  },
  {
   "cell_type": "code",
   "execution_count": 9,
   "id": "0f910771",
   "metadata": {},
   "outputs": [
    {
     "name": "stdout",
     "output_type": "stream",
     "text": [
      "\n",
      "\n",
      "**********TRAIN DATASET *********\n",
      "Validation/Train ratio: 0.1\n",
      "Samples filtered? MANEUVER_ONLY\n",
      "Samples evenly spaced? False\n",
      "path: TRAIN_1_IRREGULAR_STEPS_V2.json\n",
      "TRAIN Dataset loaded. Size: 17902\n"
     ]
    }
   ],
   "source": [
    "train_dataset= ManeuverDetectionDataset(dataset_path,imported_dataset=train_dataset.dataset,filter_samples=\"MANEUVER_ONLY\")"
   ]
  },
  {
   "cell_type": "markdown",
   "id": "b2576fda",
   "metadata": {
    "papermill": {
     "duration": 0.003523,
     "end_time": "2023-02-26T22:57:13.304191",
     "exception": false,
     "start_time": "2023-02-26T22:57:13.300668",
     "status": "completed"
    },
    "tags": []
   },
   "source": [
    "Finally, you can create your pytorch loader and have fun with your networks !"
   ]
  },
  {
   "cell_type": "code",
   "execution_count": 10,
   "id": "edb6208c",
   "metadata": {
    "execution": {
     "iopub.execute_input": "2023-02-26T22:57:13.313512Z",
     "iopub.status.busy": "2023-02-26T22:57:13.313171Z",
     "iopub.status.idle": "2023-02-26T22:57:13.368676Z",
     "shell.execute_reply": "2023-02-26T22:57:13.367379Z"
    },
    "papermill": {
     "duration": 0.063223,
     "end_time": "2023-02-26T22:57:13.371128",
     "exception": false,
     "start_time": "2023-02-26T22:57:13.307905",
     "status": "completed"
    },
    "tags": []
   },
   "outputs": [],
   "source": [
    "from torch.utils.data import DataLoader\n",
    "\n",
    "\n",
    "# 1550 batch = nb de sats observés\n",
    "loader = DataLoader(train_dataset, batch_size=17902, drop_last=True)\n",
    "feature,is_maneuver,maneuver_dv,maneuver_time =next(iter(loader))\n",
    "#print(f\"features shape (batch size * nb of meas * nb of feature):{feature.shape}\\nis maneuver: {is_maneuver.item()}\\ndv (m/s): {maneuver_dv.item()}\\nmaneuver date (seconds from the observation start): {maneuver_time.item()}\")"
   ]
  },
  {
   "cell_type": "code",
   "execution_count": 11,
   "id": "54ab2bfd",
   "metadata": {},
   "outputs": [],
   "source": [
    "import pickle\n",
    "with open(\"maneuver_time.pickle\",'wb') as f:\n",
    "    pickle.dump(maneuver_time,f)"
   ]
  },
  {
   "cell_type": "code",
   "execution_count": 8,
   "id": "91afaac3",
   "metadata": {},
   "outputs": [
    {
     "data": {
      "text/plain": [
       "torch.Size([17902, 5000, 3])"
      ]
     },
     "execution_count": 8,
     "metadata": {},
     "output_type": "execute_result"
    }
   ],
   "source": [
    "feature.shape"
   ]
  },
  {
   "cell_type": "code",
   "execution_count": null,
   "id": "4b2e4c73",
   "metadata": {},
   "outputs": [],
   "source": []
  },
  {
   "cell_type": "code",
   "execution_count": 12,
   "id": "33f286f9",
   "metadata": {},
   "outputs": [
    {
     "data": {
      "text/plain": [
       "torch.Size([500, 1000, 3])"
      ]
     },
     "execution_count": 12,
     "metadata": {},
     "output_type": "execute_result"
    }
   ],
   "source": [
    "feature.shape"
   ]
  },
  {
   "cell_type": "code",
   "execution_count": 1,
   "id": "63c34db1",
   "metadata": {},
   "outputs": [],
   "source": [
    "import matplotlib.pyplot as plt"
   ]
  },
  {
   "cell_type": "code",
   "execution_count": 2,
   "id": "a746c03a",
   "metadata": {},
   "outputs": [
    {
     "data": {
      "text/plain": [
       "[<matplotlib.lines.Line2D at 0x291379a9a30>]"
      ]
     },
     "execution_count": 2,
     "metadata": {},
     "output_type": "execute_result"
    },
    {
     "data": {
      "image/png": "[encoded data removed]",
      "text/plain": [
       "<Figure size 640x480 with 1 Axes>"
      ]
     },
     "metadata": {},
     "output_type": "display_data"
    }
   ],
   "source": [
    "plt.plot([1,2,3],[2,3,4])"
   ]
  },
  {
   "cell_type": "code",
   "execution_count": null,
   "id": "9bd93488",
   "metadata": {},
   "outputs": [],
   "source": [
    "plt.scatter(feature[0][:,2].numpy(),feature[0][:,1].numpy())"
   ]
  },
  {
   "cell_type": "code",
   "execution_count": 435,
   "id": "5448493a",
   "metadata": {},
   "outputs": [
    {
     "name": "stdout",
     "output_type": "stream",
     "text": [
      "0\n"
     ]
    }
   ],
   "source": [
    "'''\n",
    "for batch in range(17902):\n",
    "    if batch%1000==0:\n",
    "        print(batch)\n",
    "    data=feature[batch]\n",
    "    valid_index=[]\n",
    "    for idx in range(data.size(0)):\n",
    "        if not torch.all(data[idx,:]==0):\n",
    "            valid_index.append(idx)\n",
    "    data=data[valid_index,:]\n",
    "    data=data.reshape(1,data.shape[0],data.shape[1])\n",
    "    data_transpose=data.transpose(1,2)\n",
    "    data_interpolate=torch.nn.functional.interpolate(data_transpose[:,:,1:],size=1000,mode=\"linear\",align_corners=False)\n",
    "    data_interpolate=data_interpolate.transpose(1,2)\n",
    "    feature[batch]=data_interpolate[0]\n",
    "'''"
   ]
  },
  {
   "cell_type": "code",
   "execution_count": 16,
   "id": "8a78b584",
   "metadata": {},
   "outputs": [],
   "source": [
    "feature_transpose=feature.transpose(1,2)\n",
    "feature_interpolate=torch.nn.functional.interpolate(feature_transpose,size=5000,mode=\"linear\",align_corners=False)\n",
    "feature_interpolate=feature_interpolate.transpose(1,2)"
   ]
  },
  {
   "cell_type": "code",
   "execution_count": 17,
   "id": "d46ea463",
   "metadata": {},
   "outputs": [
    {
     "data": {
      "text/plain": [
       "torch.Size([500, 5000, 3])"
      ]
     },
     "execution_count": 17,
     "metadata": {},
     "output_type": "execute_result"
    }
   ],
   "source": [
    "feature_interpolate.shape"
   ]
  },
  {
   "cell_type": "code",
   "execution_count": 12,
   "id": "8825b965",
   "metadata": {},
   "outputs": [],
   "source": [
    "import matplotlib.pyplot as plt"
   ]
  },
  {
   "cell_type": "code",
   "execution_count": 19,
   "id": "e4bd7061",
   "metadata": {},
   "outputs": [
    {
     "data": {
      "text/plain": [
       "<matplotlib.collections.PathCollection at 0x169242fe640>"
      ]
     },
     "execution_count": 19,
     "metadata": {},
     "output_type": "execute_result"
    },
    {
     "data": {
      "image/png": "[encoded data removed]",
      "text/plain": [
       "<Figure size 640x480 with 1 Axes>"
      ]
     },
     "metadata": {},
     "output_type": "display_data"
    }
   ],
   "source": [
    "plt.scatter(feature_interpolate[0][:,2].numpy(),feature_interpolate[0][:,1].numpy())"
   ]
  },
  {
   "cell_type": "code",
   "execution_count": 20,
   "id": "7067aeaf",
   "metadata": {},
   "outputs": [],
   "source": [
    "\n",
    "maneuver_min=maneuver_time.min()\n",
    "maneuver_max=maneuver_time.max()\n",
    "maneuver_time=(maneuver_time-maneuver_min)/(maneuver_max-maneuver_min)"
   ]
  },
  {
   "cell_type": "code",
   "execution_count": 398,
   "id": "c15702ba",
   "metadata": {},
   "outputs": [
    {
     "data": {
      "text/plain": [
       "tensor([[4.8176e-01, 4.4237e-01, 6.7522e-05],\n",
       "        [4.8176e-01, 4.4237e-01, 6.7522e-05],\n",
       "        [4.8176e-01, 4.4237e-01, 6.7522e-05],\n",
       "        ...,\n",
       "        [1.3894e-01, 6.4875e-01, 9.9389e-01],\n",
       "        [1.3894e-01, 6.4875e-01, 9.9389e-01],\n",
       "        [1.3894e-01, 6.4875e-01, 9.9389e-01]], dtype=torch.float64)"
      ]
     },
     "execution_count": 398,
     "metadata": {},
     "output_type": "execute_result"
    }
   ],
   "source": [
    "feature_interpolate[0]"
   ]
  },
  {
   "cell_type": "code",
   "execution_count": 21,
   "id": "90c2640f",
   "metadata": {},
   "outputs": [
    {
     "data": {
      "text/plain": [
       "tensor([[0.4344, 0.4344, 0.4344,  ..., 0.7336, 0.7336, 0.7336],\n",
       "        [0.4965, 0.4965, 0.4965,  ..., 0.2649, 0.2649, 0.2649],\n",
       "        [0.5797, 0.5797, 0.5797,  ..., 0.5806, 0.5806, 0.5806],\n",
       "        ...,\n",
       "        [0.3499, 0.3499, 0.3499,  ..., 0.2596, 0.2596, 0.2596],\n",
       "        [0.3789, 0.3789, 0.3789,  ..., 0.4774, 0.4774, 0.4774],\n",
       "        [0.2816, 0.2816, 0.2816,  ..., 0.6375, 0.6375, 0.6375]],\n",
       "       dtype=torch.float64)"
      ]
     },
     "execution_count": 21,
     "metadata": {},
     "output_type": "execute_result"
    }
   ],
   "source": [
    "feature_interpolate_norm[:,:,1]"
   ]
  },
  {
   "cell_type": "code",
   "execution_count": 400,
   "id": "277f075b",
   "metadata": {},
   "outputs": [
    {
     "data": {
      "text/plain": [
       "(torch.Size([17902, 1000, 3]),\n",
       " torch.Size([17902]),\n",
       " torch.Size([17902]),\n",
       " torch.Size([17902]))"
      ]
     },
     "execution_count": 400,
     "metadata": {},
     "output_type": "execute_result"
    }
   ],
   "source": [
    "feature.shape, is_maneuver.shape, maneuver_dv.shape, maneuver_time.shape"
   ]
  },
  {
   "cell_type": "code",
   "execution_count": 307,
   "id": "8b5d13de",
   "metadata": {},
   "outputs": [],
   "source": [
    "input_feature = feature_interpolate_norm.numpy()\n",
    "input_is_man = is_maneuver.numpy()\n",
    "input_dv = maneuver_dv.numpy()\n",
    "input_time = maneuver_time.numpy()"
   ]
  },
  {
   "cell_type": "code",
   "execution_count": 115,
   "id": "0251e2ef",
   "metadata": {},
   "outputs": [
    {
     "data": {
      "text/plain": [
       "array([1, 1, 1, ..., 1, 1, 1], dtype=int64)"
      ]
     },
     "execution_count": 115,
     "metadata": {},
     "output_type": "execute_result"
    }
   ],
   "source": [
    "input_feature[9][:]\n",
    "input_is_man"
   ]
  },
  {
   "cell_type": "code",
   "execution_count": 1,
   "id": "b4770050",
   "metadata": {},
   "outputs": [],
   "source": [
    "import matplotlib.pyplot as plt"
   ]
  },
  {
   "cell_type": "code",
   "execution_count": 2,
   "id": "f5f3fa66",
   "metadata": {},
   "outputs": [
    {
     "data": {
      "text/plain": [
       "[<matplotlib.lines.Line2D at 0x1678b3ea970>]"
      ]
     },
     "execution_count": 2,
     "metadata": {},
     "output_type": "execute_result"
    },
    {
     "data": {
      "image/png": "[encoded data removed]",
      "text/plain": [
       "<Figure size 640x480 with 1 Axes>"
      ]
     },
     "metadata": {},
     "output_type": "display_data"
    }
   ],
   "source": [
    "plt.plot([1,2,3],[4,5,7])"
   ]
  },
  {
   "cell_type": "code",
   "execution_count": null,
   "id": "2b5f41db",
   "metadata": {},
   "outputs": [],
   "source": [
    "import matplotlib.pyplot as plt\n",
    "\n",
    "fig,ax=plt.subplots(nrows=10, ncols=2, figsize=(12,40))\n",
    "for i in range(10):\n",
    "    ax[i][0].scatter(input_feature[i][:,2], input_feature[i][:,0])\n",
    "    ax[i][0].set_title(\"Maneuver \"+str(input_is_man[i]))\n",
    "    ax[i][1].scatter(input_feature[i][:,2], input_feature[i][:,1])\n",
    "    ax[i][1].set_title(\"Maneuver \"+str(input_is_man[i]))"
   ]
  },
  {
   "cell_type": "code",
   "execution_count": 1,
   "id": "d8665f13",
   "metadata": {},
   "outputs": [
    {
     "ename": "NameError",
     "evalue": "name 'plt' is not defined",
     "output_type": "error",
     "traceback": [
      "\u001b[1;31m---------------------------------------------------------------------------\u001b[0m",
      "\u001b[1;31mNameError\u001b[0m                                 Traceback (most recent call last)",
      "\u001b[1;32m~\\AppData\\Local\\Temp\\ipykernel_14216\\3176578922.py\u001b[0m in \u001b[0;36m<module>\u001b[1;34m\u001b[0m\n\u001b[1;32m----> 1\u001b[1;33m \u001b[0mplt\u001b[0m\u001b[1;33m.\u001b[0m\u001b[0mscatter\u001b[0m\u001b[1;33m(\u001b[0m\u001b[0minput_feature\u001b[0m\u001b[1;33m[\u001b[0m\u001b[1;36m6\u001b[0m\u001b[1;33m]\u001b[0m\u001b[1;33m[\u001b[0m\u001b[1;33m:\u001b[0m\u001b[1;33m,\u001b[0m\u001b[1;36m2\u001b[0m\u001b[1;33m]\u001b[0m\u001b[1;33m,\u001b[0m \u001b[0minput_feature\u001b[0m\u001b[1;33m[\u001b[0m\u001b[1;36m6\u001b[0m\u001b[1;33m]\u001b[0m\u001b[1;33m[\u001b[0m\u001b[1;33m:\u001b[0m\u001b[1;33m,\u001b[0m\u001b[1;36m1\u001b[0m\u001b[1;33m]\u001b[0m\u001b[1;33m)\u001b[0m\u001b[1;33m\u001b[0m\u001b[1;33m\u001b[0m\u001b[0m\n\u001b[0m",
      "\u001b[1;31mNameError\u001b[0m: name 'plt' is not defined"
     ]
    }
   ],
   "source": [
    "plt.scatter(input_feature[6][:,2], input_feature[6][:,1])"
   ]
  },
  {
   "cell_type": "markdown",
   "id": "03165823",
   "metadata": {},
   "source": [
    "## Try with simple NN "
   ]
  },
  {
   "cell_type": "code",
   "execution_count": 17,
   "id": "72d1db02",
   "metadata": {},
   "outputs": [],
   "source": [
    "import torch\n",
    "import torch.nn as nn"
   ]
  },
  {
   "cell_type": "code",
   "execution_count": 326,
   "id": "8dcc6555",
   "metadata": {},
   "outputs": [],
   "source": [
    "n_input, n_hidden, n_out, batch_size, learning_rate = 2000, 500, 1, 35762, 0.005"
   ]
  },
  {
   "cell_type": "code",
   "execution_count": 327,
   "id": "505df1ad",
   "metadata": {},
   "outputs": [],
   "source": [
    "data_x = feature_interpolate\n",
    "data_y = is_maneuver.double()"
   ]
  },
  {
   "cell_type": "code",
   "execution_count": 328,
   "id": "e8d8b1be",
   "metadata": {},
   "outputs": [
    {
     "name": "stdout",
     "output_type": "stream",
     "text": [
      "torch.Size([17902, 8000, 3])\n",
      "torch.Size([17902])\n"
     ]
    }
   ],
   "source": [
    "print(data_x.size())\n",
    "print(data_y.size())"
   ]
  },
  {
   "cell_type": "code",
   "execution_count": 16,
   "id": "3ef9695a",
   "metadata": {},
   "outputs": [
    {
     "name": "stdout",
     "output_type": "stream",
     "text": [
      "Sequential(\n",
      "  (0): Linear(in_features=2000, out_features=500, bias=True)\n",
      "  (1): ReLU()\n",
      "  (2): Linear(in_features=500, out_features=1, bias=True)\n",
      "  (3): Sigmoid()\n",
      ")\n"
     ]
    }
   ],
   "source": [
    "model = nn.Sequential(nn.Linear(n_input, n_hidden),\n",
    "                      nn.ReLU(),\n",
    "                      nn.Linear(n_hidden, n_out),\n",
    "                      nn.Sigmoid())\n",
    "model.double()\n",
    "print(model)"
   ]
  },
  {
   "cell_type": "code",
   "execution_count": 17,
   "id": "afad6e86",
   "metadata": {},
   "outputs": [],
   "source": [
    "#loss_function = nn.MSELoss()\n",
    "#optimizer = torch.optim.SGD(model.parameters(), lr=learning_rate)\n",
    "loss_function = nn.BCELoss()\n",
    "optimizer = torch.optim.Adam(model.parameters(), lr=learning_rate)"
   ]
  },
  {
   "cell_type": "code",
   "execution_count": 18,
   "id": "3e6940c6",
   "metadata": {
    "scrolled": true
   },
   "outputs": [
    {
     "name": "stdout",
     "output_type": "stream",
     "text": [
      "Epoch 0\n",
      "Epoch 1\n",
      "Epoch 2\n",
      "Epoch 3\n",
      "Epoch 4\n",
      "Epoch 5\n",
      "Epoch 6\n",
      "Epoch 7\n",
      "Epoch 8\n",
      "Epoch 9\n",
      "Epoch 10\n",
      "Epoch 11\n",
      "Epoch 12\n",
      "Epoch 13\n",
      "Epoch 14\n",
      "Epoch 15\n",
      "Epoch 16\n",
      "Epoch 17\n",
      "Epoch 18\n",
      "Epoch 19\n",
      "Epoch 20\n",
      "Epoch 21\n",
      "Epoch 22\n",
      "Epoch 23\n",
      "Epoch 24\n",
      "Epoch 25\n",
      "Epoch 26\n",
      "Epoch 27\n",
      "Epoch 28\n",
      "Epoch 29\n",
      "Epoch 30\n",
      "Epoch 31\n",
      "Epoch 32\n",
      "Epoch 33\n",
      "Epoch 34\n",
      "Epoch 35\n",
      "Epoch 36\n",
      "Epoch 37\n",
      "Epoch 38\n",
      "Epoch 39\n",
      "Epoch 40\n",
      "Epoch 41\n",
      "Epoch 42\n",
      "Epoch 43\n",
      "Epoch 44\n",
      "Epoch 45\n",
      "Epoch 46\n",
      "Epoch 47\n",
      "Epoch 48\n",
      "Epoch 49\n",
      "Epoch 50\n",
      "Epoch 51\n",
      "Epoch 52\n",
      "Epoch 53\n",
      "Epoch 54\n",
      "Epoch 55\n",
      "Epoch 56\n",
      "Epoch 57\n",
      "Epoch 58\n",
      "Epoch 59\n",
      "Epoch 60\n",
      "Epoch 61\n",
      "Epoch 62\n",
      "Epoch 63\n",
      "Epoch 64\n",
      "Epoch 65\n",
      "Epoch 66\n",
      "Epoch 67\n",
      "Epoch 68\n",
      "Epoch 69\n",
      "Epoch 70\n",
      "Epoch 71\n",
      "Epoch 72\n",
      "Epoch 73\n",
      "Epoch 74\n",
      "Epoch 75\n",
      "Epoch 76\n",
      "Epoch 77\n",
      "Epoch 78\n",
      "Epoch 79\n",
      "Epoch 80\n",
      "Epoch 81\n",
      "Epoch 82\n",
      "Epoch 83\n",
      "Epoch 84\n",
      "Epoch 85\n",
      "Epoch 86\n",
      "Epoch 87\n",
      "Epoch 88\n",
      "Epoch 89\n",
      "Epoch 90\n",
      "Epoch 91\n",
      "Epoch 92\n",
      "Epoch 93\n",
      "Epoch 94\n",
      "Epoch 95\n",
      "Epoch 96\n",
      "Epoch 97\n",
      "Epoch 98\n",
      "Epoch 99\n",
      "Epoch 100\n",
      "Epoch 101\n",
      "Epoch 102\n",
      "Epoch 103\n",
      "Epoch 104\n",
      "Epoch 105\n",
      "Epoch 106\n",
      "Epoch 107\n",
      "Epoch 108\n",
      "Epoch 109\n",
      "Epoch 110\n",
      "Epoch 111\n",
      "Epoch 112\n",
      "Epoch 113\n",
      "Epoch 114\n",
      "Epoch 115\n",
      "Epoch 116\n",
      "Epoch 117\n",
      "Epoch 118\n",
      "Epoch 119\n",
      "Epoch 120\n",
      "Epoch 121\n",
      "Epoch 122\n",
      "Epoch 123\n",
      "Epoch 124\n",
      "Epoch 125\n",
      "Epoch 126\n",
      "Epoch 127\n",
      "Epoch 128\n",
      "Epoch 129\n",
      "Epoch 130\n",
      "Epoch 131\n",
      "Epoch 132\n",
      "Epoch 133\n",
      "Epoch 134\n",
      "Epoch 135\n",
      "Epoch 136\n",
      "Epoch 137\n",
      "Epoch 138\n",
      "Epoch 139\n",
      "Epoch 140\n",
      "Epoch 141\n",
      "Epoch 142\n",
      "Epoch 143\n",
      "Epoch 144\n",
      "Epoch 145\n",
      "Epoch 146\n",
      "Epoch 147\n",
      "Epoch 148\n",
      "Epoch 149\n",
      "Epoch 150\n",
      "Epoch 151\n",
      "Epoch 152\n",
      "Epoch 153\n",
      "Epoch 154\n",
      "Epoch 155\n",
      "Epoch 156\n",
      "Epoch 157\n",
      "Epoch 158\n",
      "Epoch 159\n",
      "Epoch 160\n",
      "Epoch 161\n",
      "Epoch 162\n",
      "Epoch 163\n",
      "Epoch 164\n",
      "Epoch 165\n",
      "Epoch 166\n",
      "Epoch 167\n",
      "Epoch 168\n",
      "Epoch 169\n",
      "Epoch 170\n",
      "Epoch 171\n",
      "Epoch 172\n",
      "Epoch 173\n",
      "Epoch 174\n",
      "Epoch 175\n",
      "Epoch 176\n",
      "Epoch 177\n",
      "Epoch 178\n",
      "Epoch 179\n",
      "Epoch 180\n",
      "Epoch 181\n",
      "Epoch 182\n",
      "Epoch 183\n",
      "Epoch 184\n",
      "Epoch 185\n",
      "Epoch 186\n",
      "Epoch 187\n",
      "Epoch 188\n",
      "Epoch 189\n",
      "Epoch 190\n",
      "Epoch 191\n",
      "Epoch 192\n",
      "Epoch 193\n",
      "Epoch 194\n",
      "Epoch 195\n",
      "Epoch 196\n",
      "Epoch 197\n",
      "Epoch 198\n",
      "Epoch 199\n",
      "Epoch 200\n",
      "Epoch 201\n",
      "Epoch 202\n",
      "Epoch 203\n",
      "Epoch 204\n",
      "Epoch 205\n",
      "Epoch 206\n",
      "Epoch 207\n",
      "Epoch 208\n",
      "Epoch 209\n",
      "Epoch 210\n",
      "Epoch 211\n",
      "Epoch 212\n",
      "Epoch 213\n",
      "Epoch 214\n",
      "Epoch 215\n",
      "Epoch 216\n",
      "Epoch 217\n",
      "Epoch 218\n",
      "Epoch 219\n",
      "Epoch 220\n",
      "Epoch 221\n",
      "Epoch 222\n",
      "Epoch 223\n",
      "Epoch 224\n",
      "Epoch 225\n",
      "Epoch 226\n",
      "Epoch 227\n",
      "Epoch 228\n",
      "Epoch 229\n",
      "Epoch 230\n",
      "Epoch 231\n",
      "Epoch 232\n",
      "Epoch 233\n",
      "Epoch 234\n",
      "Epoch 235\n",
      "Epoch 236\n",
      "Epoch 237\n",
      "Epoch 238\n",
      "Epoch 239\n",
      "Epoch 240\n",
      "Epoch 241\n",
      "Epoch 242\n",
      "Epoch 243\n",
      "Epoch 244\n",
      "Epoch 245\n",
      "Epoch 246\n",
      "Epoch 247\n",
      "Epoch 248\n",
      "Epoch 249\n",
      "Epoch 250\n",
      "Epoch 251\n",
      "Epoch 252\n",
      "Epoch 253\n",
      "Epoch 254\n",
      "Epoch 255\n",
      "Epoch 256\n",
      "Epoch 257\n",
      "Epoch 258\n",
      "Epoch 259\n",
      "Epoch 260\n",
      "Epoch 261\n",
      "Epoch 262\n",
      "Epoch 263\n",
      "Epoch 264\n",
      "Epoch 265\n",
      "Epoch 266\n",
      "Epoch 267\n",
      "Epoch 268\n",
      "Epoch 269\n",
      "Epoch 270\n",
      "Epoch 271\n",
      "Epoch 272\n",
      "Epoch 273\n",
      "Epoch 274\n",
      "Epoch 275\n",
      "Epoch 276\n",
      "Epoch 277\n",
      "Epoch 278\n",
      "Epoch 279\n",
      "Epoch 280\n",
      "Epoch 281\n",
      "Epoch 282\n",
      "Epoch 283\n",
      "Epoch 284\n",
      "Epoch 285\n",
      "Epoch 286\n",
      "Epoch 287\n",
      "Epoch 288\n",
      "Epoch 289\n",
      "Epoch 290\n",
      "Epoch 291\n",
      "Epoch 292\n",
      "Epoch 293\n",
      "Epoch 294\n",
      "Epoch 295\n",
      "Epoch 296\n",
      "Epoch 297\n",
      "Epoch 298\n",
      "Epoch 299\n"
     ]
    }
   ],
   "source": [
    "losses = []\n",
    "for epoch in range(300):\n",
    "    print(\"Epoch \"+str(epoch))\n",
    "    pred_y = model(data_x.reshape(-1, 2000))\n",
    "    loss = loss_function(pred_y.reshape(batch_size), data_y)\n",
    "    losses.append(loss.item())\n",
    "\n",
    "    model.zero_grad()\n",
    "    loss.backward()\n",
    "\n",
    "    optimizer.step()"
   ]
  },
  {
   "cell_type": "code",
   "execution_count": 19,
   "id": "2fc5f7d4",
   "metadata": {},
   "outputs": [
    {
     "data": {
      "image/png": "[encoded data removed]",
      "text/plain": [
       "<Figure size 640x480 with 1 Axes>"
      ]
     },
     "metadata": {},
     "output_type": "display_data"
    }
   ],
   "source": [
    "import matplotlib.pyplot as plt\n",
    "plt.plot(losses)\n",
    "plt.ylabel('loss')\n",
    "plt.xlabel('epoch')\n",
    "plt.title(\"Learning rate %f\"%(learning_rate))\n",
    "plt.show()"
   ]
  },
  {
   "cell_type": "code",
   "execution_count": 505,
   "id": "66674134",
   "metadata": {},
   "outputs": [],
   "source": [
    "#Save the mpdel\n",
    "PATH = './model_manoeuvre.pth'\n",
    "torch.save(model.state_dict(), PATH)"
   ]
  },
  {
   "cell_type": "code",
   "execution_count": 41,
   "id": "0da5c789",
   "metadata": {},
   "outputs": [],
   "source": [
    "valid_batch_size = 1989\n",
    "loader2 = DataLoader(validation_dataset, batch_size=valid_batch_size, drop_last=True)\n",
    "feature2,is_maneuver2,maneuver_dv2,maneuver_time2 =next(iter(loader2))"
   ]
  },
  {
   "cell_type": "code",
   "execution_count": 112,
   "id": "4c106a12",
   "metadata": {},
   "outputs": [
    {
     "data": {
      "text/plain": [
       "torch.Size([1989, 5000, 3])"
      ]
     },
     "execution_count": 112,
     "metadata": {},
     "output_type": "execute_result"
    }
   ],
   "source": [
    "feature2.shape"
   ]
  },
  {
   "cell_type": "code",
   "execution_count": 147,
   "id": "a6722764",
   "metadata": {},
   "outputs": [],
   "source": []
  },
  {
   "cell_type": "code",
   "execution_count": null,
   "id": "36dfc137",
   "metadata": {},
   "outputs": [],
   "source": []
  },
  {
   "cell_type": "code",
   "execution_count": 42,
   "id": "8a141023",
   "metadata": {},
   "outputs": [],
   "source": [
    "pred2 = model_time(feature2.reshape(-1, 15000))"
   ]
  },
  {
   "cell_type": "code",
   "execution_count": 114,
   "id": "0efec6a3",
   "metadata": {},
   "outputs": [
    {
     "data": {
      "text/plain": [
       "torch.Size([1989, 1])"
      ]
     },
     "execution_count": 114,
     "metadata": {},
     "output_type": "execute_result"
    }
   ],
   "source": [
    "pred2.shape"
   ]
  },
  {
   "cell_type": "code",
   "execution_count": 45,
   "id": "e8fb3663",
   "metadata": {},
   "outputs": [
    {
     "data": {
      "text/plain": [
       "tensor(0.1619, dtype=torch.float64, grad_fn=<MeanBackward0>)"
      ]
     },
     "execution_count": 45,
     "metadata": {},
     "output_type": "execute_result"
    }
   ],
   "source": [
    "y_valid=(maneuver_time2-maneuver_time.min())/(maneuver_time.max()-maneuver_time.min())\n",
    "loss = loss_function(pred2.reshape(valid_batch_size),y_valid)\n",
    "loss"
   ]
  },
  {
   "cell_type": "code",
   "execution_count": 24,
   "id": "4ca53776",
   "metadata": {},
   "outputs": [
    {
     "name": "stdout",
     "output_type": "stream",
     "text": [
      "\n",
      "TP TN FP FN\n",
      "1345 1958 37 634\n",
      "0\n",
      "Accuracy 83.11524911927529 %\n"
     ]
    }
   ],
   "source": [
    "TT, FT, TF, FF = 0, 0, 0, 0\n",
    "NC = 0\n",
    "\n",
    "pred_maneuver = []\n",
    "\n",
    "for i in range(len(pred2)):\n",
    "    #print(pred2[i].detach().numpy()[0] - is_maneuver2.numpy()[i])\n",
    "    val = pred2[i].detach().numpy()[0] - is_maneuver2.numpy()[i]\n",
    "    if (abs(val) < 0.5) & (is_maneuver2.numpy()[i] == 1):\n",
    "        TT += 1\n",
    "        pred_maneuver.append(1)\n",
    "    elif (abs(val) < 0.5) & (is_maneuver2.numpy()[i] == 0):\n",
    "        TF += 1\n",
    "        pred_maneuver.append(0)\n",
    "    elif (abs(val) > 0.5) & (is_maneuver2.numpy()[i] == 0):\n",
    "        FT += 1\n",
    "        pred_maneuver.append(1)\n",
    "    elif (abs(val) > 0.5) & (is_maneuver2.numpy()[i] == 1):\n",
    "        FF += 1\n",
    "        pred_maneuver.append(0)\n",
    "    else:\n",
    "        NC += 1\n",
    "        print(pred2[i].detach().numpy()[0])\n",
    "print(\"\")\n",
    "print('TP', 'TN', 'FP', 'FN')\n",
    "print(TT, TF, FT, FF)\n",
    "print(NC)\n",
    "print('Accuracy', (TT+TF)/valid_batch_size *100, '%')"
   ]
  },
  {
   "cell_type": "code",
   "execution_count": 25,
   "id": "82adcf91",
   "metadata": {},
   "outputs": [
    {
     "name": "stdout",
     "output_type": "stream",
     "text": [
      "              precision    recall  f1-score   support\n",
      "\n",
      "           0       0.76      0.98      0.85      1995\n",
      "           1       0.97      0.68      0.80      1979\n",
      "\n",
      "    accuracy                           0.83      3974\n",
      "   macro avg       0.86      0.83      0.83      3974\n",
      "weighted avg       0.86      0.83      0.83      3974\n",
      "\n"
     ]
    }
   ],
   "source": [
    "from sklearn.metrics import classification_report\n",
    "import numpy as np\n",
    "\n",
    "pred_maneuver = np.array(pred_maneuver)\n",
    "real_maneuver = is_maneuver2.numpy()\n",
    "\n",
    "print(classification_report(real_maneuver, pred_maneuver))"
   ]
  },
  {
   "cell_type": "markdown",
   "id": "b1cee262",
   "metadata": {},
   "source": [
    "### Time prediction"
   ]
  },
  {
   "cell_type": "code",
   "execution_count": 12,
   "id": "65d67507",
   "metadata": {},
   "outputs": [],
   "source": [
    "n_input, n_hidden, n_out, batch_size, learning_rate = 15000, 1000,1,17902 , 0.005"
   ]
  },
  {
   "cell_type": "code",
   "execution_count": 13,
   "id": "4df4fc3e",
   "metadata": {},
   "outputs": [],
   "source": [
    "data_x = feature\n",
    "data_y = (maneuver_time-maneuver_time.min())/(maneuver_time.max()-maneuver_time.min()).double()"
   ]
  },
  {
   "cell_type": "code",
   "execution_count": 14,
   "id": "de8b7a1b",
   "metadata": {},
   "outputs": [
    {
     "data": {
      "text/plain": [
       "tensor([0.2453, 0.8612, 0.9463,  ..., 0.9780, 0.6315, 0.4409],\n",
       "       dtype=torch.float64)"
      ]
     },
     "execution_count": 14,
     "metadata": {},
     "output_type": "execute_result"
    }
   ],
   "source": [
    "data_y"
   ]
  },
  {
   "cell_type": "code",
   "execution_count": null,
   "id": "c7a743f0",
   "metadata": {},
   "outputs": [],
   "source": []
  },
  {
   "cell_type": "code",
   "execution_count": 62,
   "id": "befd0c1f",
   "metadata": {},
   "outputs": [
    {
     "name": "stdout",
     "output_type": "stream",
     "text": [
      "Sequential(\n",
      "  (0): Linear(in_features=15000, out_features=1000, bias=True)\n",
      "  (1): ReLU()\n",
      "  (2): Linear(in_features=1000, out_features=1, bias=True)\n",
      "  (3): Tanh()\n",
      ")\n"
     ]
    }
   ],
   "source": [
    "model_time = nn.Sequential(nn.Linear(n_input, n_hidden),\n",
    "                      nn.ReLU(),\n",
    "                      nn.Linear(n_hidden, n_out),\n",
    "                      nn.Tanh())\n",
    "model_time.double()\n",
    "print(model_time)"
   ]
  },
  {
   "cell_type": "code",
   "execution_count": 63,
   "id": "35f15047",
   "metadata": {},
   "outputs": [
    {
     "data": {
      "text/plain": [
       "Sequential(\n",
       "  (0): Linear(in_features=15000, out_features=1000, bias=True)\n",
       "  (1): ReLU()\n",
       "  (2): Linear(in_features=1000, out_features=1, bias=True)\n",
       "  (3): Tanh()\n",
       ")"
      ]
     },
     "execution_count": 63,
     "metadata": {},
     "output_type": "execute_result"
    }
   ],
   "source": [
    "model_time.load_state_dict(torch.load(\"model_time.pth\"))\n",
    "model_time.eval()"
   ]
  },
  {
   "cell_type": "code",
   "execution_count": 64,
   "id": "13b7fbc0",
   "metadata": {},
   "outputs": [],
   "source": [
    "loss_function = nn.L1Loss()\n",
    "optimizer = torch.optim.SGD(model_time.parameters(), lr=learning_rate)"
   ]
  },
  {
   "cell_type": "code",
   "execution_count": null,
   "id": "f01160e2",
   "metadata": {
    "scrolled": true
   },
   "outputs": [
    {
     "name": "stdout",
     "output_type": "stream",
     "text": [
      "Epoch 0\n",
      "Epoch 1\n"
     ]
    }
   ],
   "source": [
    "losses = []\n",
    "for epoch in range(10):\n",
    "    print(\"Epoch \"+str(epoch))\n",
    "    pred_y = model_time(data_x.reshape(-1,15000))\n",
    "    loss = loss_function(pred_y.reshape(batch_size), data_y)\n",
    "    losses.append(loss.item())\n",
    "\n",
    "    model_time.zero_grad()\n",
    "    loss.backward()\n",
    "\n",
    "    optimizer.step()"
   ]
  },
  {
   "cell_type": "code",
   "execution_count": 68,
   "id": "402e1843",
   "metadata": {},
   "outputs": [
    {
     "data": {
      "image/png": "[encoded data removed]",
      "text/plain": [
       "<Figure size 640x480 with 1 Axes>"
      ]
     },
     "metadata": {},
     "output_type": "display_data"
    }
   ],
   "source": [
    "import matplotlib.pyplot as plt\n",
    "plt.plot(losses)\n",
    "plt.ylabel('loss')\n",
    "plt.xlabel('epoch')\n",
    "plt.title(\"Learning rate %f\"%(learning_rate))\n",
    "plt.show()"
   ]
  },
  {
   "cell_type": "code",
   "execution_count": 107,
   "id": "3cb4c1e9",
   "metadata": {},
   "outputs": [],
   "source": [
    "import pickle\n",
    "with open(\"feature.pickle\",'wb') as f:\n",
    "    pickle.dump(feature,f)"
   ]
  },
  {
   "cell_type": "code",
   "execution_count": 171,
   "id": "ed491234",
   "metadata": {},
   "outputs": [],
   "source": [
    "#Save the mpdel\n",
    "PATH = './model_time.pth'\n",
    "torch.save(model_time.state_dict(), PATH)"
   ]
  },
  {
   "cell_type": "markdown",
   "id": "473e7936",
   "metadata": {},
   "source": [
    "## Florian test"
   ]
  },
  {
   "cell_type": "code",
   "execution_count": 258,
   "id": "db0a472f",
   "metadata": {},
   "outputs": [],
   "source": [
    "# Paramètres du modèle\n",
    "\n",
    "# number of features (len of X cols)\n",
    "input_dim = 10000\n",
    "# number of nodes first hidden layer\n",
    "hidden_nodes_layer_1 = 500\n",
    "# number of nodes second hidden layer\n",
    "hidden_nodes_layer_2 = 100\n",
    "\n",
    "# number of classes (unique of y)\n",
    "output_dim = 1\n",
    "# learning rate\n",
    "lr = 0.001\n",
    "\n",
    "# Construction du modèle\n",
    "\n",
    "class Network(nn.Module):\n",
    "    def __init__(self):\n",
    "        super(Network, self).__init__()\n",
    "        self.fc1 = nn.Linear(input_dim, hidden_nodes_layer_1)\n",
    "        self.fc2 = nn.Linear(hidden_nodes_layer_1, hidden_nodes_layer_2)\n",
    "        self.fc3 = nn.Linear(hidden_nodes_layer_2, output_dim)  \n",
    "    \n",
    "    def forward(self, x):\n",
    "        x = F.relu(self.fc1(x))\n",
    "        x = F.relu(self.fc2(x))\n",
    "        x = torch.sigmoid(self.fc3(x))\n",
    "        return x\n",
    "  \n",
    "# Initialisiation du modèle\n",
    "model = Network()\n",
    "model.double()\n",
    "criterion = nn.BCELoss()\n"
   ]
  },
  {
   "cell_type": "code",
   "execution_count": 357,
   "id": "26423b8a",
   "metadata": {},
   "outputs": [],
   "source": [
    "lr=0.00008\n",
    "optimizer = torch.optim.Adam(model.parameters(), lr=lr)"
   ]
  },
  {
   "cell_type": "code",
   "execution_count": 260,
   "id": "6aa4da66",
   "metadata": {},
   "outputs": [],
   "source": [
    "data_x = feature[:,:,:2]\n",
    "data_y = is_maneuver.double()"
   ]
  },
  {
   "cell_type": "code",
   "execution_count": 259,
   "id": "9510f97e",
   "metadata": {},
   "outputs": [
    {
     "data": {
      "text/plain": [
       "torch.Size([35762, 5000, 2])"
      ]
     },
     "execution_count": 259,
     "metadata": {},
     "output_type": "execute_result"
    }
   ],
   "source": [
    "data_x.shape"
   ]
  },
  {
   "cell_type": "code",
   "execution_count": 207,
   "id": "d0a10bc3",
   "metadata": {},
   "outputs": [],
   "source": [
    "import torch.nn .functional as F"
   ]
  },
  {
   "cell_type": "code",
   "execution_count": 358,
   "id": "10951ae5",
   "metadata": {},
   "outputs": [
    {
     "name": "stdout",
     "output_type": "stream",
     "text": [
      "Epoch 0\n",
      "Epoch 1\n",
      "Epoch 2\n",
      "Epoch 3\n",
      "Epoch 4\n",
      "Epoch 5\n",
      "Epoch 6\n",
      "Epoch 7\n",
      "Epoch 8\n",
      "Epoch 9\n",
      "Epoch 10\n",
      "Epoch 11\n",
      "Epoch 12\n",
      "Epoch 13\n",
      "Epoch 14\n",
      "Epoch 15\n",
      "Epoch 16\n",
      "Epoch 17\n",
      "Epoch 18\n",
      "Epoch 19\n",
      "Epoch 20\n",
      "Epoch 21\n",
      "Epoch 22\n",
      "Epoch 23\n",
      "Epoch 24\n",
      "Epoch 25\n",
      "Epoch 26\n",
      "Epoch 27\n",
      "Epoch 28\n",
      "Epoch 29\n",
      "Epoch 30\n",
      "Epoch 31\n",
      "Epoch 32\n",
      "Epoch 33\n",
      "Epoch 34\n",
      "Epoch 35\n",
      "Epoch 36\n",
      "Epoch 37\n",
      "Epoch 38\n",
      "Epoch 39\n",
      "Epoch 40\n",
      "Epoch 41\n",
      "Epoch 42\n",
      "Epoch 43\n",
      "Epoch 44\n",
      "Epoch 45\n",
      "Epoch 46\n",
      "Epoch 47\n",
      "Epoch 48\n",
      "Epoch 49\n"
     ]
    }
   ],
   "source": [
    "losses = []\n",
    "for epoch in range(50):\n",
    "    print(\"Epoch \"+str(epoch))\n",
    "    pred_y = model(data_x.reshape(-1, 10000))\n",
    "    loss = criterion(pred_y.reshape(35762), data_y)\n",
    "    losses.append(loss.item())\n",
    "\n",
    "    model.zero_grad()\n",
    "    loss.backward()\n",
    "\n",
    "    optimizer.step()"
   ]
  },
  {
   "cell_type": "code",
   "execution_count": 359,
   "id": "5ccd0164",
   "metadata": {},
   "outputs": [
    {
     "data": {
      "image/png": "[encoded data removed]",
      "text/plain": [
       "<Figure size 640x480 with 1 Axes>"
      ]
     },
     "metadata": {},
     "output_type": "display_data"
    }
   ],
   "source": [
    "plt.plot(losses)\n",
    "plt.ylabel('loss')\n",
    "plt.xlabel('epoch')\n",
    "plt.title(\"Learning rate %f\"%(lr))\n",
    "plt.show()"
   ]
  },
  {
   "cell_type": "code",
   "execution_count": 20,
   "id": "921fa868",
   "metadata": {},
   "outputs": [
    {
     "name": "stdout",
     "output_type": "stream",
     "text": [
      "[[0. 0. 0.]\n",
      " [0. 0. 0.]\n",
      " [0. 0. 0.]\n",
      " ...\n",
      " [0. 0. 0.]\n",
      " [0. 0. 0.]\n",
      " [0. 0. 0.]]\n",
      "[[ 9.7650000e-02 -8.4490000e-04  5.9021896e+04]\n",
      " [ 9.7700000e-02 -1.0210000e-03  5.9033259e+04]\n",
      " [ 9.7630000e-02 -9.4340000e-04  5.9044645e+04]\n",
      " ...\n",
      " [ 0.0000000e+00  0.0000000e+00  0.0000000e+00]\n",
      " [ 0.0000000e+00  0.0000000e+00  0.0000000e+00]\n",
      " [ 0.0000000e+00  0.0000000e+00  0.0000000e+00]]\n"
     ]
    },
    {
     "ename": "TypeError",
     "evalue": "all(): argument 'input' (position 1) must be Tensor, not numpy.ndarray",
     "output_type": "error",
     "traceback": [
      "\u001b[1;31m---------------------------------------------------------------------------\u001b[0m",
      "\u001b[1;31mTypeError\u001b[0m                                 Traceback (most recent call last)",
      "\u001b[1;32m~\\AppData\\Local\\Temp\\ipykernel_19856\\4106302349.py\u001b[0m in \u001b[0;36m<module>\u001b[1;34m\u001b[0m\n\u001b[0;32m      1\u001b[0m \u001b[0mloader2\u001b[0m \u001b[1;33m=\u001b[0m \u001b[0mDataLoader\u001b[0m\u001b[1;33m(\u001b[0m\u001b[0mvalidation_dataset\u001b[0m\u001b[1;33m,\u001b[0m \u001b[0mbatch_size\u001b[0m\u001b[1;33m=\u001b[0m\u001b[1;36m1789\u001b[0m\u001b[1;33m,\u001b[0m \u001b[0mdrop_last\u001b[0m\u001b[1;33m=\u001b[0m\u001b[1;32mTrue\u001b[0m\u001b[1;33m)\u001b[0m\u001b[1;33m\u001b[0m\u001b[1;33m\u001b[0m\u001b[0m\n\u001b[1;32m----> 2\u001b[1;33m \u001b[0mfeature2\u001b[0m\u001b[1;33m,\u001b[0m\u001b[0mis_maneuver2\u001b[0m\u001b[1;33m,\u001b[0m\u001b[0mmaneuver_dv2\u001b[0m\u001b[1;33m,\u001b[0m\u001b[0mmaneuver_time2\u001b[0m \u001b[1;33m=\u001b[0m\u001b[0mnext\u001b[0m\u001b[1;33m(\u001b[0m\u001b[0miter\u001b[0m\u001b[1;33m(\u001b[0m\u001b[0mloader2\u001b[0m\u001b[1;33m)\u001b[0m\u001b[1;33m)\u001b[0m\u001b[1;33m\u001b[0m\u001b[1;33m\u001b[0m\u001b[0m\n\u001b[0m",
      "\u001b[1;32m~\\anaconda3\\lib\\site-packages\\torch\\utils\\data\\dataloader.py\u001b[0m in \u001b[0;36m__next__\u001b[1;34m(self)\u001b[0m\n\u001b[0;32m    626\u001b[0m                 \u001b[1;31m# TODO(https://github.com/pytorch/pytorch/issues/76750)\u001b[0m\u001b[1;33m\u001b[0m\u001b[1;33m\u001b[0m\u001b[0m\n\u001b[0;32m    627\u001b[0m                 \u001b[0mself\u001b[0m\u001b[1;33m.\u001b[0m\u001b[0m_reset\u001b[0m\u001b[1;33m(\u001b[0m\u001b[1;33m)\u001b[0m  \u001b[1;31m# type: ignore[call-arg]\u001b[0m\u001b[1;33m\u001b[0m\u001b[1;33m\u001b[0m\u001b[0m\n\u001b[1;32m--> 628\u001b[1;33m             \u001b[0mdata\u001b[0m \u001b[1;33m=\u001b[0m \u001b[0mself\u001b[0m\u001b[1;33m.\u001b[0m\u001b[0m_next_data\u001b[0m\u001b[1;33m(\u001b[0m\u001b[1;33m)\u001b[0m\u001b[1;33m\u001b[0m\u001b[1;33m\u001b[0m\u001b[0m\n\u001b[0m\u001b[0;32m    629\u001b[0m             \u001b[0mself\u001b[0m\u001b[1;33m.\u001b[0m\u001b[0m_num_yielded\u001b[0m \u001b[1;33m+=\u001b[0m \u001b[1;36m1\u001b[0m\u001b[1;33m\u001b[0m\u001b[1;33m\u001b[0m\u001b[0m\n\u001b[0;32m    630\u001b[0m             \u001b[1;32mif\u001b[0m \u001b[0mself\u001b[0m\u001b[1;33m.\u001b[0m\u001b[0m_dataset_kind\u001b[0m \u001b[1;33m==\u001b[0m \u001b[0m_DatasetKind\u001b[0m\u001b[1;33m.\u001b[0m\u001b[0mIterable\u001b[0m \u001b[1;32mand\u001b[0m\u001b[0;31m \u001b[0m\u001b[0;31m\\\u001b[0m\u001b[1;33m\u001b[0m\u001b[1;33m\u001b[0m\u001b[0m\n",
      "\u001b[1;32m~\\anaconda3\\lib\\site-packages\\torch\\utils\\data\\dataloader.py\u001b[0m in \u001b[0;36m_next_data\u001b[1;34m(self)\u001b[0m\n\u001b[0;32m    669\u001b[0m     \u001b[1;32mdef\u001b[0m \u001b[0m_next_data\u001b[0m\u001b[1;33m(\u001b[0m\u001b[0mself\u001b[0m\u001b[1;33m)\u001b[0m\u001b[1;33m:\u001b[0m\u001b[1;33m\u001b[0m\u001b[1;33m\u001b[0m\u001b[0m\n\u001b[0;32m    670\u001b[0m         \u001b[0mindex\u001b[0m \u001b[1;33m=\u001b[0m \u001b[0mself\u001b[0m\u001b[1;33m.\u001b[0m\u001b[0m_next_index\u001b[0m\u001b[1;33m(\u001b[0m\u001b[1;33m)\u001b[0m  \u001b[1;31m# may raise StopIteration\u001b[0m\u001b[1;33m\u001b[0m\u001b[1;33m\u001b[0m\u001b[0m\n\u001b[1;32m--> 671\u001b[1;33m         \u001b[0mdata\u001b[0m \u001b[1;33m=\u001b[0m \u001b[0mself\u001b[0m\u001b[1;33m.\u001b[0m\u001b[0m_dataset_fetcher\u001b[0m\u001b[1;33m.\u001b[0m\u001b[0mfetch\u001b[0m\u001b[1;33m(\u001b[0m\u001b[0mindex\u001b[0m\u001b[1;33m)\u001b[0m  \u001b[1;31m# may raise StopIteration\u001b[0m\u001b[1;33m\u001b[0m\u001b[1;33m\u001b[0m\u001b[0m\n\u001b[0m\u001b[0;32m    672\u001b[0m         \u001b[1;32mif\u001b[0m \u001b[0mself\u001b[0m\u001b[1;33m.\u001b[0m\u001b[0m_pin_memory\u001b[0m\u001b[1;33m:\u001b[0m\u001b[1;33m\u001b[0m\u001b[1;33m\u001b[0m\u001b[0m\n\u001b[0;32m    673\u001b[0m             \u001b[0mdata\u001b[0m \u001b[1;33m=\u001b[0m \u001b[0m_utils\u001b[0m\u001b[1;33m.\u001b[0m\u001b[0mpin_memory\u001b[0m\u001b[1;33m.\u001b[0m\u001b[0mpin_memory\u001b[0m\u001b[1;33m(\u001b[0m\u001b[0mdata\u001b[0m\u001b[1;33m,\u001b[0m \u001b[0mself\u001b[0m\u001b[1;33m.\u001b[0m\u001b[0m_pin_memory_device\u001b[0m\u001b[1;33m)\u001b[0m\u001b[1;33m\u001b[0m\u001b[1;33m\u001b[0m\u001b[0m\n",
      "\u001b[1;32m~\\anaconda3\\lib\\site-packages\\torch\\utils\\data\\_utils\\fetch.py\u001b[0m in \u001b[0;36mfetch\u001b[1;34m(self, possibly_batched_index)\u001b[0m\n\u001b[0;32m     56\u001b[0m                 \u001b[0mdata\u001b[0m \u001b[1;33m=\u001b[0m \u001b[0mself\u001b[0m\u001b[1;33m.\u001b[0m\u001b[0mdataset\u001b[0m\u001b[1;33m.\u001b[0m\u001b[0m__getitems__\u001b[0m\u001b[1;33m(\u001b[0m\u001b[0mpossibly_batched_index\u001b[0m\u001b[1;33m)\u001b[0m\u001b[1;33m\u001b[0m\u001b[1;33m\u001b[0m\u001b[0m\n\u001b[0;32m     57\u001b[0m             \u001b[1;32melse\u001b[0m\u001b[1;33m:\u001b[0m\u001b[1;33m\u001b[0m\u001b[1;33m\u001b[0m\u001b[0m\n\u001b[1;32m---> 58\u001b[1;33m                 \u001b[0mdata\u001b[0m \u001b[1;33m=\u001b[0m \u001b[1;33m[\u001b[0m\u001b[0mself\u001b[0m\u001b[1;33m.\u001b[0m\u001b[0mdataset\u001b[0m\u001b[1;33m[\u001b[0m\u001b[0midx\u001b[0m\u001b[1;33m]\u001b[0m \u001b[1;32mfor\u001b[0m \u001b[0midx\u001b[0m \u001b[1;32min\u001b[0m \u001b[0mpossibly_batched_index\u001b[0m\u001b[1;33m]\u001b[0m\u001b[1;33m\u001b[0m\u001b[1;33m\u001b[0m\u001b[0m\n\u001b[0m\u001b[0;32m     59\u001b[0m         \u001b[1;32melse\u001b[0m\u001b[1;33m:\u001b[0m\u001b[1;33m\u001b[0m\u001b[1;33m\u001b[0m\u001b[0m\n\u001b[0;32m     60\u001b[0m             \u001b[0mdata\u001b[0m \u001b[1;33m=\u001b[0m \u001b[0mself\u001b[0m\u001b[1;33m.\u001b[0m\u001b[0mdataset\u001b[0m\u001b[1;33m[\u001b[0m\u001b[0mpossibly_batched_index\u001b[0m\u001b[1;33m]\u001b[0m\u001b[1;33m\u001b[0m\u001b[1;33m\u001b[0m\u001b[0m\n",
      "\u001b[1;32m~\\anaconda3\\lib\\site-packages\\torch\\utils\\data\\_utils\\fetch.py\u001b[0m in \u001b[0;36m<listcomp>\u001b[1;34m(.0)\u001b[0m\n\u001b[0;32m     56\u001b[0m                 \u001b[0mdata\u001b[0m \u001b[1;33m=\u001b[0m \u001b[0mself\u001b[0m\u001b[1;33m.\u001b[0m\u001b[0mdataset\u001b[0m\u001b[1;33m.\u001b[0m\u001b[0m__getitems__\u001b[0m\u001b[1;33m(\u001b[0m\u001b[0mpossibly_batched_index\u001b[0m\u001b[1;33m)\u001b[0m\u001b[1;33m\u001b[0m\u001b[1;33m\u001b[0m\u001b[0m\n\u001b[0;32m     57\u001b[0m             \u001b[1;32melse\u001b[0m\u001b[1;33m:\u001b[0m\u001b[1;33m\u001b[0m\u001b[1;33m\u001b[0m\u001b[0m\n\u001b[1;32m---> 58\u001b[1;33m                 \u001b[0mdata\u001b[0m \u001b[1;33m=\u001b[0m \u001b[1;33m[\u001b[0m\u001b[0mself\u001b[0m\u001b[1;33m.\u001b[0m\u001b[0mdataset\u001b[0m\u001b[1;33m[\u001b[0m\u001b[0midx\u001b[0m\u001b[1;33m]\u001b[0m \u001b[1;32mfor\u001b[0m \u001b[0midx\u001b[0m \u001b[1;32min\u001b[0m \u001b[0mpossibly_batched_index\u001b[0m\u001b[1;33m]\u001b[0m\u001b[1;33m\u001b[0m\u001b[1;33m\u001b[0m\u001b[0m\n\u001b[0m\u001b[0;32m     59\u001b[0m         \u001b[1;32melse\u001b[0m\u001b[1;33m:\u001b[0m\u001b[1;33m\u001b[0m\u001b[1;33m\u001b[0m\u001b[0m\n\u001b[0;32m     60\u001b[0m             \u001b[0mdata\u001b[0m \u001b[1;33m=\u001b[0m \u001b[0mself\u001b[0m\u001b[1;33m.\u001b[0m\u001b[0mdataset\u001b[0m\u001b[1;33m[\u001b[0m\u001b[0mpossibly_batched_index\u001b[0m\u001b[1;33m]\u001b[0m\u001b[1;33m\u001b[0m\u001b[1;33m\u001b[0m\u001b[0m\n",
      "\u001b[1;32m~\\OneDrive\\Desktop\\Hackathon_SDD_2023_commons\\ManeuverDetectionDataset.py\u001b[0m in \u001b[0;36m__getitem__\u001b[1;34m(self, torch_loader_index)\u001b[0m\n\u001b[0;32m     78\u001b[0m         \u001b[0msample_key\u001b[0m \u001b[1;33m=\u001b[0m \u001b[0mself\u001b[0m\u001b[1;33m.\u001b[0m\u001b[0mdataset\u001b[0m\u001b[1;33m[\u001b[0m\u001b[0mKEY_IDENTIFIER\u001b[0m\u001b[1;33m]\u001b[0m\u001b[1;33m[\u001b[0m\u001b[0mdataset_index\u001b[0m\u001b[1;33m]\u001b[0m\u001b[1;33m\u001b[0m\u001b[1;33m\u001b[0m\u001b[0m\n\u001b[0;32m     79\u001b[0m         \u001b[0msample\u001b[0m \u001b[1;33m=\u001b[0m \u001b[0mself\u001b[0m\u001b[1;33m.\u001b[0m\u001b[0mdataset\u001b[0m\u001b[1;33m[\u001b[0m\u001b[0msample_key\u001b[0m\u001b[1;33m]\u001b[0m\u001b[1;33m\u001b[0m\u001b[1;33m\u001b[0m\u001b[0m\n\u001b[1;32m---> 80\u001b[1;33m         \u001b[0mfeatures\u001b[0m \u001b[1;33m=\u001b[0m \u001b[0mparse_sample\u001b[0m\u001b[1;33m(\u001b[0m\u001b[0msample\u001b[0m\u001b[1;33m,\u001b[0m \u001b[0mself\u001b[0m\u001b[1;33m.\u001b[0m\u001b[0mmeasurements_count_by_sample\u001b[0m\u001b[1;33m,\u001b[0m \u001b[0mself\u001b[0m\u001b[1;33m.\u001b[0m\u001b[0madd_time_feature\u001b[0m\u001b[1;33m)\u001b[0m\u001b[1;33m\u001b[0m\u001b[1;33m\u001b[0m\u001b[0m\n\u001b[0m\u001b[0;32m     81\u001b[0m         \u001b[1;32mif\u001b[0m \u001b[0mself\u001b[0m\u001b[1;33m.\u001b[0m\u001b[0mdataset_type\u001b[0m\u001b[1;33m==\u001b[0m\u001b[1;34m\"TEST\"\u001b[0m\u001b[1;33m:\u001b[0m\u001b[1;33m\u001b[0m\u001b[1;33m\u001b[0m\u001b[0m\n\u001b[0;32m     82\u001b[0m             \u001b[1;32mreturn\u001b[0m \u001b[0mfeatures\u001b[0m\u001b[1;33m,\u001b[0m\u001b[1;36m0\u001b[0m\u001b[1;33m,\u001b[0m\u001b[1;36m0.\u001b[0m\u001b[1;33m,\u001b[0m\u001b[1;36m0.\u001b[0m\u001b[1;33m\u001b[0m\u001b[1;33m\u001b[0m\u001b[0m\n",
      "\u001b[1;32m~\\OneDrive\\Desktop\\Hackathon_SDD_2023_commons\\ManeuverDetectionDataset.py\u001b[0m in \u001b[0;36mparse_sample\u001b[1;34m(sample, measurements_count_by_sample, time_feature)\u001b[0m\n\u001b[0;32m    154\u001b[0m     \u001b[0mprint\u001b[0m\u001b[1;33m(\u001b[0m\u001b[0mfeatures\u001b[0m\u001b[1;33m)\u001b[0m\u001b[1;33m\u001b[0m\u001b[1;33m\u001b[0m\u001b[0m\n\u001b[0;32m    155\u001b[0m     \u001b[1;32mfor\u001b[0m \u001b[0midx\u001b[0m \u001b[1;32min\u001b[0m \u001b[0mrange\u001b[0m\u001b[1;33m(\u001b[0m\u001b[0mfeatures\u001b[0m\u001b[1;33m.\u001b[0m\u001b[0mshape\u001b[0m\u001b[1;33m[\u001b[0m\u001b[1;36m0\u001b[0m\u001b[1;33m]\u001b[0m\u001b[1;33m)\u001b[0m\u001b[1;33m:\u001b[0m\u001b[1;33m\u001b[0m\u001b[1;33m\u001b[0m\u001b[0m\n\u001b[1;32m--> 156\u001b[1;33m         \u001b[1;32mif\u001b[0m \u001b[1;32mnot\u001b[0m \u001b[0mtorch\u001b[0m\u001b[1;33m.\u001b[0m\u001b[0mall\u001b[0m\u001b[1;33m(\u001b[0m\u001b[0mfeatures\u001b[0m\u001b[1;33m[\u001b[0m\u001b[0midx\u001b[0m\u001b[1;33m,\u001b[0m\u001b[1;33m:\u001b[0m\u001b[1;33m]\u001b[0m\u001b[1;33m==\u001b[0m\u001b[1;36m0\u001b[0m\u001b[1;33m)\u001b[0m\u001b[1;33m:\u001b[0m\u001b[1;33m\u001b[0m\u001b[1;33m\u001b[0m\u001b[0m\n\u001b[0m\u001b[0;32m    157\u001b[0m             \u001b[0mvalid_index\u001b[0m\u001b[1;33m.\u001b[0m\u001b[0mappend\u001b[0m\u001b[1;33m(\u001b[0m\u001b[0midx\u001b[0m\u001b[1;33m)\u001b[0m\u001b[1;33m\u001b[0m\u001b[1;33m\u001b[0m\u001b[0m\n\u001b[0;32m    158\u001b[0m     \u001b[0mfeatures\u001b[0m\u001b[1;33m=\u001b[0m\u001b[0mfeatures\u001b[0m\u001b[1;33m[\u001b[0m\u001b[0mvalid_index\u001b[0m\u001b[1;33m,\u001b[0m\u001b[1;33m:\u001b[0m\u001b[1;33m]\u001b[0m\u001b[1;33m\u001b[0m\u001b[1;33m\u001b[0m\u001b[0m\n",
      "\u001b[1;31mTypeError\u001b[0m: all(): argument 'input' (position 1) must be Tensor, not numpy.ndarray"
     ]
    }
   ],
   "source": [
    "loader2 = DataLoader(validation_dataset, batch_size=1789, drop_last=True)\n",
    "feature2,is_maneuver2,maneuver_dv2,maneuver_time2 =next(iter(loader2))"
   ]
  },
  {
   "cell_type": "code",
   "execution_count": 360,
   "id": "1865f08c",
   "metadata": {},
   "outputs": [],
   "source": [
    "pred = model(feature2[:,:,:2].reshape(-1, 10000))"
   ]
  },
  {
   "cell_type": "code",
   "execution_count": 326,
   "id": "ec550c25",
   "metadata": {},
   "outputs": [
    {
     "data": {
      "text/plain": [
       "torch.Size([3974, 1])"
      ]
     },
     "execution_count": 326,
     "metadata": {},
     "output_type": "execute_result"
    }
   ],
   "source": [
    "pred.shape"
   ]
  },
  {
   "cell_type": "code",
   "execution_count": 361,
   "id": "4988a9ec",
   "metadata": {},
   "outputs": [],
   "source": [
    "#fonction pour passer les scores en prédictions\n",
    "def tri(outputs):\n",
    "    outputs_np = outputs.detach().numpy()\n",
    "    \n",
    "    for i in range(len(outputs_np)):\n",
    "        if outputs_np[i] > 0.5:\n",
    "            outputs_np[i]=1\n",
    "        elif outputs_np[i]<=0.5:\n",
    "            outputs_np[i]=0\n",
    "\n",
    "    return outputs_np.reshape(-1)"
   ]
  },
  {
   "cell_type": "code",
   "execution_count": 362,
   "id": "c6ea128f",
   "metadata": {},
   "outputs": [
    {
     "name": "stdout",
     "output_type": "stream",
     "text": [
      "              precision    recall  f1-score   support\n",
      "\n",
      "           0       0.83      1.00      0.90      1995\n",
      "           1       0.99      0.79      0.88      1979\n",
      "\n",
      "    accuracy                           0.89      3974\n",
      "   macro avg       0.91      0.89      0.89      3974\n",
      "weighted avg       0.91      0.89      0.89      3974\n",
      "\n"
     ]
    }
   ],
   "source": [
    "from sklearn.metrics import classification_report\n",
    "\n",
    "pred=tri(pred)\n",
    "print(classification_report(is_maneuver2, pred))\n"
   ]
  },
  {
   "cell_type": "markdown",
   "id": "f59dc72c",
   "metadata": {},
   "source": [
    "--------------------------------------------------------------------------------"
   ]
  },
  {
   "cell_type": "markdown",
   "id": "a824684b",
   "metadata": {
    "papermill": {
     "duration": 0.003731,
     "end_time": "2023-02-26T22:57:13.379353",
     "exception": false,
     "start_time": "2023-02-26T22:57:13.375622",
     "status": "completed"
    },
    "tags": []
   },
   "source": [
    "To load the test dataset, you should set the dataset type to TEST:"
   ]
  },
  {
   "cell_type": "code",
   "execution_count": 46,
   "id": "f61557be",
   "metadata": {
    "execution": {
     "iopub.execute_input": "2023-02-26T22:57:13.388812Z",
     "iopub.status.busy": "2023-02-26T22:57:13.388463Z",
     "iopub.status.idle": "2023-02-26T22:57:14.194171Z",
     "shell.execute_reply": "2023-02-26T22:57:14.192965Z"
    },
    "papermill": {
     "duration": 0.81301,
     "end_time": "2023-02-26T22:57:14.196148",
     "exception": false,
     "start_time": "2023-02-26T22:57:13.383138",
     "status": "completed"
    },
    "tags": []
   },
   "outputs": [
    {
     "name": "stdout",
     "output_type": "stream",
     "text": [
      "\n",
      "\n",
      "**********TEST DATASET *********\n",
      "Validation/Train ratio: 0.1\n",
      "Samples filtered? NO\n",
      "Samples evenly spaced? False\n",
      "path: TEST_FILE_PUBLIC.json\n",
      "loading dataset. Ready in a minute!\n",
      "TEST Dataset loaded. Size: 1559\n"
     ]
    }
   ],
   "source": [
    "test_dataset_path=\"TEST_FILE_PUBLIC.json\"\n",
    "test_dataset= ManeuverDetectionDataset(test_dataset_path,dataset_type=\"TEST\")\n",
    "test_loader = DataLoader(test_dataset, batch_size=1559, drop_last=True)\n",
    "feature_test, is_maneuver_test ,maneuver_dv_test, maneuver_time_test =next(iter(test_loader))\n",
    "#print(f\"features shape (batch size * nb of meas * nb of feature):{feature.shape}\\nis maneuver: {is_maneuver.item()}\\ndv (m/s): {maneuver_dv.item()}\\nmaneuver date (seconds from the observation start): {maneuver_time.item()}\")\n"
   ]
  },
  {
   "cell_type": "code",
   "execution_count": 47,
   "id": "ffc43170",
   "metadata": {},
   "outputs": [
    {
     "data": {
      "text/plain": [
       "torch.Size([1559, 5000, 3])"
      ]
     },
     "execution_count": 47,
     "metadata": {},
     "output_type": "execute_result"
    }
   ],
   "source": [
    "feature_test.shape"
   ]
  },
  {
   "cell_type": "code",
   "execution_count": 48,
   "id": "87ababe5",
   "metadata": {},
   "outputs": [
    {
     "data": {
      "text/plain": [
       "1559"
      ]
     },
     "execution_count": 48,
     "metadata": {},
     "output_type": "execute_result"
    }
   ],
   "source": [
    "len(test_dataset)"
   ]
  },
  {
   "cell_type": "code",
   "execution_count": 515,
   "id": "9c8d249d",
   "metadata": {},
   "outputs": [
    {
     "data": {
      "text/plain": [
       "torch.Size([1559, 1000, 3])"
      ]
     },
     "execution_count": 515,
     "metadata": {},
     "output_type": "execute_result"
    }
   ],
   "source": [
    "feature_test.shape"
   ]
  },
  {
   "cell_type": "code",
   "execution_count": 49,
   "id": "c73d5021",
   "metadata": {},
   "outputs": [],
   "source": [
    "pred_test = model_time(feature_test.reshape(-1, 15000))"
   ]
  },
  {
   "cell_type": "code",
   "execution_count": 50,
   "id": "ea3fdb9b",
   "metadata": {},
   "outputs": [
    {
     "data": {
      "text/plain": [
       "torch.Size([1559, 1])"
      ]
     },
     "execution_count": 50,
     "metadata": {},
     "output_type": "execute_result"
    }
   ],
   "source": [
    "pred_test.shape"
   ]
  },
  {
   "cell_type": "code",
   "execution_count": 520,
   "id": "4802b4bb",
   "metadata": {},
   "outputs": [],
   "source": [
    "loss_function = nn.BCELoss()\n",
    "#optimizer = torch.optim.Adam(model.parameters(), lr=learning_rate)"
   ]
  },
  {
   "cell_type": "code",
   "execution_count": 51,
   "id": "f7016a98",
   "metadata": {},
   "outputs": [],
   "source": [
    "pred_test_renorm=pred_test*(maneuver_time.max()-maneuver_time.min())+maneuver_time.min()"
   ]
  },
  {
   "cell_type": "code",
   "execution_count": 53,
   "id": "f0f4c010",
   "metadata": {},
   "outputs": [
    {
     "data": {
      "text/plain": [
       "tensor(156787.9719, dtype=torch.float64, grad_fn=<MaxBackward1>)"
      ]
     },
     "execution_count": 53,
     "metadata": {},
     "output_type": "execute_result"
    }
   ],
   "source": [
    "pred_test_renorm.max()"
   ]
  },
  {
   "cell_type": "code",
   "execution_count": 376,
   "id": "5252fedc",
   "metadata": {},
   "outputs": [
    {
     "data": {
      "text/plain": [
       "tensor(313576.0638, dtype=torch.float64, grad_fn=<MaxBackward1>)"
      ]
     },
     "execution_count": 376,
     "metadata": {},
     "output_type": "execute_result"
    }
   ],
   "source": [
    "pred_test_renorm.max()"
   ]
  },
  {
   "cell_type": "code",
   "execution_count": 55,
   "id": "0311591f",
   "metadata": {},
   "outputs": [],
   "source": [
    "import pandas as pd"
   ]
  },
  {
   "cell_type": "code",
   "execution_count": 56,
   "id": "ede71f53",
   "metadata": {},
   "outputs": [],
   "source": [
    "sub=pd.read_csv(\"prediction.csv\",delimiter=\";\")"
   ]
  },
  {
   "cell_type": "code",
   "execution_count": 57,
   "id": "fbe988ee",
   "metadata": {},
   "outputs": [
    {
     "data": {
      "text/plain": [
       "0       1\n",
       "1       1\n",
       "2       0\n",
       "3       0\n",
       "4       0\n",
       "       ..\n",
       "1554    0\n",
       "1555    0\n",
       "1556    0\n",
       "1557    0\n",
       "1558    0\n",
       "Name: detection, Length: 1559, dtype: int64"
      ]
     },
     "execution_count": 57,
     "metadata": {},
     "output_type": "execute_result"
    }
   ],
   "source": [
    "sub[\"detection\"]"
   ]
  },
  {
   "cell_type": "markdown",
   "id": "0d6d4347",
   "metadata": {
    "papermill": {
     "duration": 0.004098,
     "end_time": "2023-02-26T22:57:14.204646",
     "exception": false,
     "start_time": "2023-02-26T22:57:14.200548",
     "status": "completed"
    },
    "tags": []
   },
   "source": [
    "for evenly spaced dataset, you should use the option fixed_step : \n"
   ]
  },
  {
   "cell_type": "code",
   "execution_count": null,
   "id": "7e1456a7",
   "metadata": {
    "execution": {
     "iopub.execute_input": "2023-02-26T22:57:14.216184Z",
     "iopub.status.busy": "2023-02-26T22:57:14.215152Z",
     "iopub.status.idle": "2023-02-26T22:57:21.836549Z",
     "shell.execute_reply": "2023-02-26T22:57:21.835147Z"
    },
    "papermill": {
     "duration": 7.630304,
     "end_time": "2023-02-26T22:57:21.839182",
     "exception": false,
     "start_time": "2023-02-26T22:57:14.208878",
     "status": "completed"
    },
    "tags": []
   },
   "outputs": [
    {
     "name": "stdout",
     "output_type": "stream",
     "text": [
      "\n",
      "\n",
      "**********TRAIN DATASET *********\n",
      "Validation/Train ratio: 0.1\n",
      "Samples filtered? NO\n",
      "Samples evenly spaced? True\n",
      "path: TRAIN_1_EVENLY_SPACED_V2.json/TRAIN_1_EVENLY_SPACED_V2.json\n",
      "loading dataset. Ready in a minute!\n"
     ]
    }
   ],
   "source": [
    "evenly_spaced_dataset_path=\"TRAIN_1_EVENLY_SPACED_V2.json/TRAIN_1_EVENLY_SPACED_V2.json\"\n",
    "evenly_spaced_dataset= ManeuverDetectionDataset(evenly_spaced_dataset_path,fixed_step=True)\n",
    "evenly_spaced_loader = DataLoader(evenly_spaced_dataset, batch_size=1, drop_last=True)\n",
    "feature,is_maneuver,maneuver_dv,maneuver_time =next(iter(evenly_spaced_loader))\n",
    "print(f\"features shape (batch size * nb of meas * nb of feature):{feature.shape}\\nis maneuver: {is_maneuver.item()}\\ndv (m/s): {maneuver_dv.item()}\\nmaneuver date (seconds from the observation start): {maneuver_time.item()}\")\n"
   ]
  },
  {
   "cell_type": "markdown",
   "id": "9af5e9f0",
   "metadata": {
    "papermill": {
     "duration": 0.003807,
     "end_time": "2023-02-26T22:57:21.847303",
     "exception": false,
     "start_time": "2023-02-26T22:57:21.843496",
     "status": "completed"
    },
    "tags": []
   },
   "source": [
    "#  It is time to submit !"
   ]
  },
  {
   "cell_type": "markdown",
   "id": "fe3349a7",
   "metadata": {
    "papermill": {
     "duration": 0.00385,
     "end_time": "2023-02-26T22:57:21.855064",
     "exception": false,
     "start_time": "2023-02-26T22:57:21.851214",
     "status": "completed"
    },
    "tags": []
   },
   "source": [
    "When you think that your score is great you can submit ! To get started, you can generate your prediction file :"
   ]
  },
  {
   "cell_type": "code",
   "execution_count": 8,
   "id": "dca845b8",
   "metadata": {
    "execution": {
     "iopub.execute_input": "2023-02-26T22:57:21.864964Z",
     "iopub.status.busy": "2023-02-26T22:57:21.864043Z",
     "iopub.status.idle": "2023-02-26T22:57:21.880968Z",
     "shell.execute_reply": "2023-02-26T22:57:21.88006Z"
    },
    "papermill": {
     "duration": 0.024084,
     "end_time": "2023-02-26T22:57:21.88304",
     "exception": false,
     "start_time": "2023-02-26T22:57:21.858956",
     "status": "completed"
    },
    "tags": []
   },
   "outputs": [],
   "source": [
    "from SubmissionGenerator import create_submission\n",
    "import numpy as np\n",
    "#fake prediction\n",
    "pred=np.zeros((len(test_dataset),3))\n",
    "pred[:,0]=sub[\"detection\"] # classification\n",
    "pred[:,1]=0.01*np.ones((len(test_dataset))) #dv\n",
    "pred[:,2]=pred_test_renorm #time of the maneuver\n",
    "create_submission(pred,\"/kaggle/working/prediction\")\n"
   ]
  },
  {
   "cell_type": "code",
   "execution_count": 526,
   "id": "f2c50a84",
   "metadata": {},
   "outputs": [
    {
     "data": {
      "text/plain": [
       "list"
      ]
     },
     "execution_count": 526,
     "metadata": {},
     "output_type": "execute_result"
    }
   ],
   "source": [
    "model_maneuver"
   ]
  },
  {
   "cell_type": "code",
   "execution_count": 60,
   "id": "0b12b2a9",
   "metadata": {},
   "outputs": [],
   "source": [
    "from SubmissionGenerator import create_submission\n",
    "import numpy as np\n",
    "#fake prediction\n",
    "pred=np.zeros((len(test_dataset),3))\n",
    "pred[:,0]=sub[\"detection\"] # classification\n",
    "pred[:,1]=0.01*np.ones((len(test_dataset))) #dv\n",
    "pred[:,2]=pred_test_renorm.detach().numpy().reshape(-1) #time of the maneuver\n",
    "create_submission(pred,\"./prediction4.csv\")"
   ]
  },
  {
   "cell_type": "code",
   "execution_count": 154,
   "id": "35cca999",
   "metadata": {},
   "outputs": [
    {
     "data": {
      "text/plain": [
       "array([63156.75392668, 49568.68907975, 91123.14804298, ...,\n",
       "       56709.49589308, 69294.57413386, 53983.53991283])"
      ]
     },
     "execution_count": 154,
     "metadata": {},
     "output_type": "execute_result"
    }
   ],
   "source": []
  },
  {
   "cell_type": "markdown",
   "id": "bf54c60a",
   "metadata": {
    "papermill": {
     "duration": 0.003972,
     "end_time": "2023-02-26T22:57:21.891452",
     "exception": false,
     "start_time": "2023-02-26T22:57:21.88748",
     "status": "completed"
    },
    "tags": []
   },
   "source": [
    "Then, commit the file prediction.csv in the gitlab repository of your team. Don't forget to pull the repo before!\n",
    "https://gitlab.com/TheoNguyen611/team-1-la-photomentalteam.git\n",
    "\n",
    "https://gitlab.com/TheoNguyen611/team-2-avada-kedavra.git\n",
    "\n",
    "https://gitlab.com/TheoNguyen611/team-3-frosty-gould.git\n",
    "\n",
    "Wait a few moment and you should see your score appear in the leaderboard : http://34.163.85.74:5006/dashboard"
   ]
  }
 ],
 "metadata": {
  "kernelspec": {
   "display_name": "Python 3 (ipykernel)",
   "language": "python",
   "name": "python3"
  },
  "language_info": {
   "codemirror_mode": {
    "name": "ipython",
    "version": 3
   },
   "file_extension": ".py",
   "mimetype": "text/x-python",
   "name": "python",
   "nbconvert_exporter": "python",
   "pygments_lexer": "ipython3",
   "version": "3.9.13"
  },
  "papermill": {
   "default_parameters": {},
   "duration": 36.74028,
   "end_time": "2023-02-26T22:57:24.515339",
   "environment_variables": {},
   "exception": null,
   "input_path": "__notebook__.ipynb",
   "output_path": "__notebook__.ipynb",
   "parameters": {},
   "start_time": "2023-02-26T22:56:47.775059",
   "version": "2.4.0"
  }
 },
 "nbformat": 4,
 "nbformat_minor": 5
}
