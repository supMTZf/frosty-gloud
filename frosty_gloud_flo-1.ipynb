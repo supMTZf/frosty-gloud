{
 "cells": [
  {
   "cell_type": "markdown",
   "id": "555a6956",
   "metadata": {},
   "source": [
    "<a href=\"https://www.kaggle.com/code/theongy/getting-started-maneuver-detection?scriptVersionId=120424735\" target=\"_blank\"><img align=\"left\" alt=\"Kaggle\" title=\"Open in Kaggle\" src=\"https://kaggle.com/static/images/open-in-kaggle.svg\"></a>"
   ]
  },
  {
   "cell_type": "code",
   "execution_count": 1,
   "id": "e0c03931",
   "metadata": {
    "_cell_guid": "b1076dfc-b9ad-4769-8c92-a6c4dae69d19",
    "_uuid": "8f2839f25d086af736a60e9eeb907d3b93b6e0e5",
    "execution": {
     "iopub.execute_input": "2023-02-26T22:56:56.710033Z",
     "iopub.status.busy": "2023-02-26T22:56:56.709662Z",
     "iopub.status.idle": "2023-02-26T22:57:04.286993Z",
     "shell.execute_reply": "2023-02-26T22:57:04.286097Z"
    },
    "papermill": {
     "duration": 7.585766,
     "end_time": "2023-02-26T22:57:04.289437",
     "exception": false,
     "start_time": "2023-02-26T22:56:56.703671",
     "status": "completed"
    },
    "tags": []
   },
   "outputs": [
    {
     "name": "stdout",
     "output_type": "stream",
     "text": [
      "cp: ../input/maneuver-detection/: No such file or directory\n"
     ]
    }
   ],
   "source": [
    "\"\"\"Command line to load the data (valid only for this notebook)\"\"\"\n",
    "import sys\n",
    "package_paths = [\n",
    "    '../input/hackathon2023/',\n",
    "]\n",
    "\n",
    "for pth in package_paths:\n",
    "    sys.path.append(pth)\n",
    "!cp -r '../input/maneuver-detection/' '/kaggle/working'"
   ]
  },
  {
   "cell_type": "code",
   "execution_count": 2,
   "id": "3c7770b8",
   "metadata": {},
   "outputs": [],
   "source": [
    "import matplotlib.pyplot as plt"
   ]
  },
  {
   "cell_type": "markdown",
   "id": "f6bd9c23",
   "metadata": {
    "papermill": {
     "duration": 0.003146,
     "end_time": "2023-02-26T22:57:04.296402",
     "exception": false,
     "start_time": "2023-02-26T22:57:04.293256",
     "status": "completed"
    },
    "tags": []
   },
   "source": [
    "# Loading the dataset"
   ]
  },
  {
   "cell_type": "markdown",
   "id": "9d2d6390",
   "metadata": {
    "papermill": {
     "duration": 0.003266,
     "end_time": "2023-02-26T22:57:04.303071",
     "exception": false,
     "start_time": "2023-02-26T22:57:04.299805",
     "status": "completed"
    },
    "tags": []
   },
   "source": [
    "A custom pytorch dataset is provided. It will parse the json dataset can be used with the pytorch loader. Since loading can sometimes take time, it is recommanded to execute the following cell at the beginning separately."
   ]
  },
  {
   "cell_type": "code",
   "execution_count": 3,
   "id": "2d2d4b10",
   "metadata": {
    "execution": {
     "iopub.execute_input": "2023-02-26T22:57:04.312083Z",
     "iopub.status.busy": "2023-02-26T22:57:04.311242Z",
     "iopub.status.idle": "2023-02-26T22:57:13.241991Z",
     "shell.execute_reply": "2023-02-26T22:57:13.240298Z"
    },
    "papermill": {
     "duration": 8.939039,
     "end_time": "2023-02-26T22:57:13.245521",
     "exception": false,
     "start_time": "2023-02-26T22:57:04.306482",
     "status": "completed"
    },
    "tags": []
   },
   "outputs": [
    {
     "name": "stdout",
     "output_type": "stream",
     "text": [
      "\n",
      "\n",
      "**********TRAIN DATASET *********\n",
      "Validation/Train ratio: 0.1\n",
      "Samples filtered? NO\n",
      "Samples evenly spaced? False\n",
      "path: /Users/FlorianLudwig/Supaero 2023/SDD_ML/hackaton/Hackathon_SDD_2023_commons/TRAIN_1_IRREGULAR_STEPS_V2.json\n",
      "loading dataset. Ready in a minute!\n",
      "TRAIN Dataset loaded. Size: 35762\n"
     ]
    }
   ],
   "source": [
    "from ManeuverDetectionDataset import ManeuverDetectionDataset\n",
    "dataset_path=\"/Users/FlorianLudwig/Supaero 2023/SDD_ML/hackaton/Hackathon_SDD_2023_commons/TRAIN_1_IRREGULAR_STEPS_V2.json\"\n",
    "train_dataset= ManeuverDetectionDataset(dataset_path,\n",
    "                                        add_time_feature=False)"
   ]
  },
  {
   "cell_type": "markdown",
   "id": "c87edb68",
   "metadata": {
    "papermill": {
     "duration": 0.003569,
     "end_time": "2023-02-26T22:57:13.25339",
     "exception": false,
     "start_time": "2023-02-26T22:57:13.249821",
     "status": "completed"
    },
    "tags": []
   },
   "source": [
    "As you can see, by default, the dataset is considered as a train dataset and 10% is not loaded for validation. To build the validation dataset, yo can do the same and you don't need to load again the json to save time ! **Beware : if you modify the code, you should take care to avoid to validate your model with the trained data!**"
   ]
  },
  {
   "cell_type": "code",
   "execution_count": 4,
   "id": "93cb18ca",
   "metadata": {
    "execution": {
     "iopub.execute_input": "2023-02-26T22:57:13.262774Z",
     "iopub.status.busy": "2023-02-26T22:57:13.261592Z",
     "iopub.status.idle": "2023-02-26T22:57:13.276583Z",
     "shell.execute_reply": "2023-02-26T22:57:13.275256Z"
    },
    "papermill": {
     "duration": 0.022585,
     "end_time": "2023-02-26T22:57:13.279536",
     "exception": false,
     "start_time": "2023-02-26T22:57:13.256951",
     "status": "completed"
    },
    "scrolled": true,
    "tags": []
   },
   "outputs": [
    {
     "name": "stdout",
     "output_type": "stream",
     "text": [
      "\n",
      "\n",
      "**********VALIDATION DATASET *********\n",
      "Validation/Train ratio: 0.1\n",
      "Samples filtered? NO\n",
      "Samples evenly spaced? False\n",
      "path: /Users/FlorianLudwig/Supaero 2023/SDD_ML/hackaton/Hackathon_SDD_2023_commons/TRAIN_1_IRREGULAR_STEPS_V2.json\n",
      "VALIDATION Dataset loaded. Size: 3974\n"
     ]
    }
   ],
   "source": [
    "dataset= ManeuverDetectionDataset(dataset_path,dataset_type=\"VALIDATION\",imported_dataset=train_dataset.dataset, \n",
    "                                  add_time_feature=True)"
   ]
  },
  {
   "cell_type": "code",
   "execution_count": 5,
   "id": "83317e53",
   "metadata": {
    "execution": {
     "iopub.execute_input": "2023-02-26T22:57:13.289317Z",
     "iopub.status.busy": "2023-02-26T22:57:13.28865Z",
     "iopub.status.idle": "2023-02-26T22:57:13.294082Z",
     "shell.execute_reply": "2023-02-26T22:57:13.293048Z"
    },
    "papermill": {
     "duration": 0.013093,
     "end_time": "2023-02-26T22:57:13.296618",
     "exception": false,
     "start_time": "2023-02-26T22:57:13.283525",
     "status": "completed"
    },
    "tags": []
   },
   "outputs": [
    {
     "name": "stdout",
     "output_type": "stream",
     "text": [
      "\n",
      "\n",
      "**********VALIDATION DATASET *********\n",
      "Validation/Train ratio: 0.1\n",
      "Samples filtered? NO\n",
      "Samples evenly spaced? False\n",
      "path: /Users/FlorianLudwig/Supaero 2023/SDD_ML/hackaton/Hackathon_SDD_2023_commons/TRAIN_1_IRREGULAR_STEPS_V2.json\n",
      "VALIDATION Dataset loaded. Size: 3974\n"
     ]
    }
   ],
   "source": [
    "validation_dataset= ManeuverDetectionDataset(dataset_path,dataset_type=\"VALIDATION\",\n",
    "                                             imported_dataset=train_dataset.dataset,\n",
    "                                            add_time_feature=False)"
   ]
  },
  {
   "cell_type": "markdown",
   "id": "b2576fda",
   "metadata": {
    "papermill": {
     "duration": 0.003523,
     "end_time": "2023-02-26T22:57:13.304191",
     "exception": false,
     "start_time": "2023-02-26T22:57:13.300668",
     "status": "completed"
    },
    "tags": []
   },
   "source": [
    "Finally, you can create your pytorch loader and have fun with your networks !\n",
    "\n",
    "#### Train dataset :"
   ]
  },
  {
   "cell_type": "code",
   "execution_count": 77,
   "id": "edb6208c",
   "metadata": {
    "execution": {
     "iopub.execute_input": "2023-02-26T22:57:13.313512Z",
     "iopub.status.busy": "2023-02-26T22:57:13.313171Z",
     "iopub.status.idle": "2023-02-26T22:57:13.368676Z",
     "shell.execute_reply": "2023-02-26T22:57:13.367379Z"
    },
    "papermill": {
     "duration": 0.063223,
     "end_time": "2023-02-26T22:57:13.371128",
     "exception": false,
     "start_time": "2023-02-26T22:57:13.307905",
     "status": "completed"
    },
    "scrolled": true,
    "tags": []
   },
   "outputs": [],
   "source": [
    "from torch.utils.data import DataLoader\n",
    "batch_size = 500\n",
    "\n",
    "loader = DataLoader(train_dataset, batch_size=batch_size, drop_last=True) \n",
    "feature,is_maneuver,maneuver_dv,maneuver_time =next(iter(loader))\n",
    "#print(f\"features shape (batch size * nb of meas * nb of feature):{feature.shape}\\nis maneuver: {is_maneuver.item()}\\ndv (m/s): {maneuver_dv.item()}\\nmaneuver date (seconds from the observation start): {maneuver_time.item()}\")"
   ]
  },
  {
   "cell_type": "markdown",
   "id": "54f33344",
   "metadata": {},
   "source": [
    "#### Plots"
   ]
  },
  {
   "cell_type": "code",
   "execution_count": 7,
   "id": "6ff8b361",
   "metadata": {
    "scrolled": false
   },
   "outputs": [
    {
     "ename": "IndexError",
     "evalue": "index 2 is out of bounds for axis 1 with size 2",
     "output_type": "error",
     "traceback": [
      "\u001b[0;31m---------------------------------------------------------------------------\u001b[0m",
      "\u001b[0;31mIndexError\u001b[0m                                Traceback (most recent call last)",
      "Cell \u001b[0;32mIn [7], line 3\u001b[0m\n\u001b[1;32m      1\u001b[0m inputs_klm \u001b[39m=\u001b[39m feature[\u001b[39m47\u001b[39m]\u001b[39m.\u001b[39mnumpy()\n\u001b[1;32m      2\u001b[0m     \u001b[39m#feature[x]; x --> numéro de batch\u001b[39;00m\n\u001b[0;32m----> 3\u001b[0m plt\u001b[39m.\u001b[39mscatter(inputs_klm[:,\u001b[39m2\u001b[39;49m],inputs_klm[:,\u001b[39m0\u001b[39m])\n",
      "\u001b[0;31mIndexError\u001b[0m: index 2 is out of bounds for axis 1 with size 2"
     ]
    }
   ],
   "source": [
    "inputs_klm = feature[47].numpy()\n",
    "    #feature[x]; x --> numéro de batch\n",
    "plt.scatter(inputs_klm[:,2],inputs_klm[:,0]); \n",
    "    # inputs [:,0] --> ascension droite\n",
    "    # inputs[:,2] --> temps (48h)"
   ]
  },
  {
   "cell_type": "code",
   "execution_count": null,
   "id": "951aaa5e",
   "metadata": {
    "scrolled": true
   },
   "outputs": [
    {
     "ename": "IndexError",
     "evalue": "index 2 is out of bounds for axis 1 with size 2",
     "output_type": "error",
     "traceback": [
      "\u001b[0;31m---------------------------------------------------------------------------\u001b[0m",
      "\u001b[0;31mIndexError\u001b[0m                                Traceback (most recent call last)",
      "Cell \u001b[0;32mIn[7], line 1\u001b[0m\n\u001b[0;32m----> 1\u001b[0m plt\u001b[38;5;241m.\u001b[39mscatter(\u001b[43minputs_klm\u001b[49m\u001b[43m[\u001b[49m\u001b[43m:\u001b[49m\u001b[43m,\u001b[49m\u001b[38;5;241;43m2\u001b[39;49m\u001b[43m]\u001b[49m,inputs_klm[:,\u001b[38;5;241m1\u001b[39m])\n",
      "\u001b[0;31mIndexError\u001b[0m: index 2 is out of bounds for axis 1 with size 2"
     ]
    }
   ],
   "source": [
    "plt.scatter(inputs_klm[:,2],inputs_klm[:,1]); # inputs[:,1] --> déclinaison"
   ]
  },
  {
   "cell_type": "markdown",
   "id": "656c7da4",
   "metadata": {},
   "source": [
    "#### NN"
   ]
  },
  {
   "cell_type": "code",
   "execution_count": 114,
   "id": "345091f7",
   "metadata": {},
   "outputs": [],
   "source": [
    "import torch\n",
    "import torch.nn as nn"
   ]
  },
  {
   "cell_type": "code",
   "execution_count": 115,
   "id": "d503273a",
   "metadata": {},
   "outputs": [],
   "source": [
    "#fonction pour passer les scores en prédictions\n",
    "def tri(outputs):\n",
    "    outputs_np = outputs.detach().numpy()\n",
    "    \n",
    "    for i in range(len(outputs_np)):\n",
    "        if outputs_np[i] > 0.5:\n",
    "            outputs_np[i]=1\n",
    "        elif outputs_np[i]<=0.5:\n",
    "            outputs_np[i]=0\n",
    "\n",
    "    return outputs_np.reshape(-1)"
   ]
  },
  {
   "cell_type": "code",
   "execution_count": 116,
   "id": "be54c30e",
   "metadata": {},
   "outputs": [],
   "source": [
    "# Paramètres du modèle\n",
    "\n",
    "# number of features (len of X cols)\n",
    "input_dim = 2000\n",
    "# number of nodes first hidden layer\n",
    "hidden_nodes_layer_1 = 500\n",
    "# number of nodes second hidden layer\n",
    "hidden_nodes_layer_2 = 100\n",
    "\n",
    "# number of classes (unique of y)\n",
    "output_dim = 1\n",
    "# learning rate\n",
    "lr = 0.001\n",
    "\n",
    "# Construction du modèle\n",
    "\n",
    "class Network(nn.Module):\n",
    "    def __init__(self):\n",
    "        super(Network, self).__init__()\n",
    "        self.fc1 = nn.Linear(input_dim, hidden_nodes_layer_1)\n",
    "        self.fc2 = nn.Linear(hidden_nodes_layer_1, hidden_nodes_layer_2)\n",
    "        self.fc3 = nn.Linear(hidden_nodes_layer_2, output_dim)  \n",
    "    \n",
    "    def forward(self, x):\n",
    "        x = torch.flatten(x, 1).float()\n",
    "        x = F.relu(self.fc1(x))\n",
    "        x = F.relu(self.fc2(x))\n",
    "        x = torch.sigmoid(self.fc3(x))\n",
    "        return x\n",
    "  \n",
    "# Initialisiation du modèle\n",
    "model = Network()\n",
    "criterion = nn.BCELoss()\n",
    "optimizer = torch.optim.Adam(model.parameters(), lr=lr)"
   ]
  },
  {
   "cell_type": "code",
   "execution_count": 117,
   "id": "266f6944",
   "metadata": {},
   "outputs": [
    {
     "name": "stdout",
     "output_type": "stream",
     "text": [
      "[1,    71] loss: 0.01718\n",
      "0.824\n",
      "[2,    71] loss: 0.01473\n",
      "0.84\n",
      "[3,    71] loss: 0.01446\n",
      "0.844\n",
      "[4,    71] loss: 0.01424\n",
      "0.852\n",
      "[5,    71] loss: 0.01409\n",
      "0.858\n",
      "[6,    71] loss: 0.01396\n",
      "0.858\n",
      "[7,    71] loss: 0.01384\n",
      "0.858\n",
      "[8,    71] loss: 0.01374\n",
      "0.856\n",
      "[9,    71] loss: 0.01362\n",
      "0.858\n",
      "[10,    71] loss: 0.01354\n",
      "0.858\n",
      "[11,    71] loss: 0.01345\n",
      "0.856\n",
      "[12,    71] loss: 0.01336\n",
      "0.86\n",
      "[13,    71] loss: 0.01333\n",
      "0.862\n",
      "[14,    71] loss: 0.01324\n",
      "0.86\n",
      "[15,    71] loss: 0.01316\n",
      "0.86\n",
      "[16,    71] loss: 0.01307\n",
      "0.862\n",
      "[17,    71] loss: 0.01299\n",
      "0.862\n",
      "[18,    71] loss: 0.01292\n",
      "0.864\n",
      "[19,    71] loss: 0.01292\n",
      "0.862\n",
      "[20,    71] loss: 0.01283\n",
      "0.866\n",
      "[21,    71] loss: 0.01283\n",
      "0.862\n",
      "[22,    71] loss: 0.01270\n",
      "0.864\n",
      "[23,    71] loss: 0.01268\n",
      "0.864\n",
      "[24,    71] loss: 0.01264\n",
      "0.868\n",
      "[25,    71] loss: 0.01265\n",
      "0.868\n",
      "[26,    71] loss: 0.01257\n",
      "0.866\n",
      "[27,    71] loss: 0.01247\n",
      "0.87\n",
      "[28,    71] loss: 0.01244\n",
      "0.872\n",
      "[29,    71] loss: 0.01236\n",
      "0.868\n",
      "[30,    71] loss: 0.01236\n",
      "0.868\n",
      "[31,    71] loss: 0.01233\n",
      "0.87\n",
      "[32,    71] loss: 0.01217\n",
      "0.87\n",
      "[33,    71] loss: 0.01237\n",
      "0.868\n",
      "[34,    71] loss: 0.01218\n",
      "0.874\n",
      "[35,    71] loss: 0.01219\n",
      "0.872\n",
      "[36,    71] loss: 0.01215\n",
      "0.872\n",
      "[37,    71] loss: 0.01207\n",
      "0.87\n",
      "[38,    71] loss: 0.01196\n",
      "0.88\n",
      "[39,    71] loss: 0.01197\n",
      "0.878\n",
      "[40,    71] loss: 0.01193\n",
      "0.876\n",
      "[41,    71] loss: 0.01193\n",
      "0.874\n",
      "[42,    71] loss: 0.01192\n",
      "0.882\n",
      "[43,    71] loss: 0.01180\n",
      "0.874\n",
      "[44,    71] loss: 0.01185\n",
      "0.874\n",
      "[45,    71] loss: 0.01179\n",
      "0.876\n",
      "[46,    71] loss: 0.01156\n",
      "0.874\n",
      "[47,    71] loss: 0.01163\n",
      "0.88\n",
      "[48,    71] loss: 0.01149\n",
      "0.882\n",
      "[49,    71] loss: 0.01197\n",
      "0.878\n",
      "[50,    71] loss: 0.01150\n",
      "0.882\n",
      "[51,    71] loss: 0.01159\n",
      "0.874\n",
      "[52,    71] loss: 0.01143\n",
      "0.882\n",
      "[53,    71] loss: 0.01158\n",
      "0.878\n",
      "[54,    71] loss: 0.01129\n",
      "0.876\n",
      "[55,    71] loss: 0.01124\n",
      "0.876\n",
      "[56,    71] loss: 0.01187\n",
      "0.88\n",
      "[57,    71] loss: 0.01137\n",
      "0.878\n",
      "[58,    71] loss: 0.01130\n",
      "0.882\n",
      "[59,    71] loss: 0.01113\n",
      "0.88\n",
      "[60,    71] loss: 0.01128\n",
      "0.88\n",
      "[61,    71] loss: 0.01105\n",
      "0.88\n",
      "[62,    71] loss: 0.01100\n",
      "0.882\n",
      "[63,    71] loss: 0.01124\n",
      "0.884\n",
      "[64,    71] loss: 0.01104\n",
      "0.89\n",
      "[65,    71] loss: 0.01083\n",
      "0.88\n",
      "[66,    71] loss: 0.01126\n",
      "0.882\n",
      "[67,    71] loss: 0.01101\n",
      "0.89\n",
      "[68,    71] loss: 0.01086\n",
      "0.888\n",
      "[69,    71] loss: 0.01070\n",
      "0.878\n",
      "[70,    71] loss: 0.01074\n",
      "0.892\n",
      "[71,    71] loss: 0.01072\n",
      "0.888\n",
      "[72,    71] loss: 0.01065\n",
      "0.878\n",
      "[73,    71] loss: 0.01076\n",
      "0.888\n",
      "[74,    71] loss: 0.01048\n",
      "0.892\n",
      "[75,    71] loss: 0.01069\n",
      "0.884\n",
      "[76,    71] loss: 0.01084\n",
      "0.878\n",
      "[77,    71] loss: 0.01075\n",
      "0.88\n",
      "[78,    71] loss: 0.01113\n",
      "0.884\n",
      "[79,    71] loss: 0.01052\n",
      "0.89\n",
      "[80,    71] loss: 0.01048\n",
      "0.886\n",
      "[81,    71] loss: 0.01052\n",
      "0.896\n",
      "[82,    71] loss: 0.01030\n",
      "0.888\n",
      "[83,    71] loss: 0.01019\n",
      "0.892\n",
      "[84,    71] loss: 0.01055\n",
      "0.892\n",
      "[85,    71] loss: 0.01034\n",
      "0.89\n",
      "[86,    71] loss: 0.01025\n",
      "0.894\n",
      "[87,    71] loss: 0.01017\n",
      "0.894\n",
      "[88,    71] loss: 0.01033\n",
      "0.896\n",
      "[89,    71] loss: 0.01004\n",
      "0.894\n",
      "[90,    71] loss: 0.01002\n",
      "0.896\n",
      "[91,    71] loss: 0.01002\n",
      "0.89\n",
      "[92,    71] loss: 0.01010\n",
      "0.896\n",
      "[93,    71] loss: 0.00989\n",
      "0.896\n",
      "[94,    71] loss: 0.00989\n",
      "0.902\n",
      "[95,    71] loss: 0.00975\n",
      "0.902\n",
      "[96,    71] loss: 0.00986\n",
      "0.898\n",
      "[97,    71] loss: 0.00972\n",
      "0.9\n",
      "[98,    71] loss: 0.00960\n",
      "0.902\n",
      "[99,    71] loss: 0.00945\n",
      "0.904\n",
      "[100,    71] loss: 0.00942\n",
      "0.9\n"
     ]
    }
   ],
   "source": [
    "from sklearn.metrics import accuracy_score\n",
    "\n",
    "epochs = 100\n",
    "losses = []\n",
    "accuracies = []\n",
    "\n",
    "# Entrainement du réseau\n",
    "\n",
    "for epoch in range(epochs):\n",
    "    running_loss = 0.0\n",
    "    for i, data in enumerate(loader):\n",
    "        inputs, labels , _ , _ = data\n",
    "        \n",
    "        # set optimizer to zero grad to remove previous epoch gradients\n",
    "        optimizer.zero_grad()\n",
    "        \n",
    "        # forward propagation\n",
    "        outputs = model.float()(inputs)        \n",
    "        outputs = outputs.reshape(batch_size)                \n",
    "        labels = labels.float()\n",
    "        \n",
    "        # loss        \n",
    "        loss = criterion(outputs, labels)\n",
    "        losses.append(loss.item())\n",
    "        \n",
    "        # backward propagation\n",
    "        loss.backward()\n",
    "        \n",
    "        # optimize\n",
    "        optimizer.step()\n",
    "        running_loss += loss.item()\n",
    "                \n",
    "        # accuracy \n",
    "        accuracies.append(accuracy_score(labels.numpy(),tri(outputs)))\n",
    "                \n",
    "      # display statistics\n",
    "    print(f'[{epoch + 1}, {i + 1:5d}] loss: {running_loss / 2000:.5f}')\n",
    "    print(accuracy_score(labels.numpy(),tri(outputs)))\n"
   ]
  },
  {
   "cell_type": "code",
   "execution_count": 118,
   "id": "d743de24",
   "metadata": {},
   "outputs": [
    {
     "data": {
      "image/png": "[encoded data removed]",
      "text/plain": [
       "<Figure size 640x480 with 1 Axes>"
      ]
     },
     "metadata": {},
     "output_type": "display_data"
    }
   ],
   "source": [
    "# Plot des loss\n",
    "plt.plot(losses)\n",
    "plt.ylabel('loss')\n",
    "plt.xlabel('epoch')\n",
    "plt.title(\"Learning rate %f\"%(lr))\n",
    "plt.show()"
   ]
  },
  {
   "cell_type": "code",
   "execution_count": 119,
   "id": "a4de2f22",
   "metadata": {},
   "outputs": [
    {
     "data": {
      "image/png": "[encoded data removed]",
      "text/plain": [
       "<Figure size 640x480 with 1 Axes>"
      ]
     },
     "metadata": {},
     "output_type": "display_data"
    }
   ],
   "source": [
    "# Plot des accuracies\n",
    "plt.plot(accuracies)\n",
    "plt.ylabel('accuracy')\n",
    "plt.xlabel('epoch')\n",
    "plt.title(\"Learning rate %f\"%(lr))\n",
    "plt.show()"
   ]
  },
  {
   "cell_type": "code",
   "execution_count": 120,
   "id": "4989bae6",
   "metadata": {},
   "outputs": [
    {
     "name": "stdout",
     "output_type": "stream",
     "text": [
      "              precision    recall  f1-score   support\n",
      "\n",
      "           0       0.78      0.97      0.87      1995\n",
      "           1       0.96      0.73      0.83      1979\n",
      "\n",
      "    accuracy                           0.85      3974\n",
      "   macro avg       0.87      0.85      0.85      3974\n",
      "weighted avg       0.87      0.85      0.85      3974\n",
      "\n"
     ]
    }
   ],
   "source": [
    "from sklearn.metrics import classification_report\n",
    "\n",
    "# chargement du validation dataset\n",
    "valoader = DataLoader(validation_dataset, batch_size = len(validation_dataset) , drop_last = True)\n",
    "valfeat,val_is_man,val_man_dv2,val_time_time = next(iter(valoader))\n",
    "\n",
    "# test sur la validation dataset\n",
    "for data in valoader:\n",
    "        inputs, labels,_,_ = data\n",
    "        # calculate output by running through the network\n",
    "        outputs = model(inputs)\n",
    "        #print(accuracy_score(labels.numpy(),tri(outputs)))\n",
    "\n",
    "pred_maneuver = tri(outputs)\n",
    "real_maneuver = val_is_man.numpy()\n",
    "\n",
    "print(classification_report(real_maneuver, pred_maneuver))"
   ]
  },
  {
   "cell_type": "code",
   "execution_count": 121,
   "id": "ac6bf117",
   "metadata": {},
   "outputs": [],
   "source": [
    "PATH = './model_x.pth'\n",
    "torch.save(model.state_dict(),PATH)"
   ]
  },
  {
   "cell_type": "markdown",
   "id": "e4534e4e",
   "metadata": {},
   "source": [
    "### TEST"
   ]
  },
  {
   "cell_type": "markdown",
   "id": "a824684b",
   "metadata": {
    "papermill": {
     "duration": 0.003731,
     "end_time": "2023-02-26T22:57:13.379353",
     "exception": false,
     "start_time": "2023-02-26T22:57:13.375622",
     "status": "completed"
    },
    "tags": []
   },
   "source": [
    "To load the test dataset, you should set the dataset type to TEST:"
   ]
  },
  {
   "cell_type": "code",
   "execution_count": 139,
   "id": "f61557be",
   "metadata": {
    "execution": {
     "iopub.execute_input": "2023-02-26T22:57:13.388812Z",
     "iopub.status.busy": "2023-02-26T22:57:13.388463Z",
     "iopub.status.idle": "2023-02-26T22:57:14.194171Z",
     "shell.execute_reply": "2023-02-26T22:57:14.192965Z"
    },
    "papermill": {
     "duration": 0.81301,
     "end_time": "2023-02-26T22:57:14.196148",
     "exception": false,
     "start_time": "2023-02-26T22:57:13.383138",
     "status": "completed"
    },
    "tags": []
   },
   "outputs": [
    {
     "name": "stdout",
     "output_type": "stream",
     "text": [
      "\n",
      "\n",
      "**********TEST DATASET *********\n",
      "Validation/Train ratio: 0.1\n",
      "Samples filtered? NO\n",
      "Samples evenly spaced? False\n",
      "path: /Users/FlorianLudwig/Supaero 2023/SDD_ML/hackaton/Hackathon_SDD_2023_commons/TEST_FILE_PUBLIC.json\n",
      "loading dataset. Ready in a minute!\n",
      "TEST Dataset loaded. Size: 1559\n"
     ]
    }
   ],
   "source": [
    "test_dataset_path=\"/Users/FlorianLudwig/Supaero 2023/SDD_ML/hackaton/Hackathon_SDD_2023_commons/TEST_FILE_PUBLIC.json\"\n",
    "test_dataset= ManeuverDetectionDataset(test_dataset_path,dataset_type=\"TEST\",add_time_feature=False)\n",
    "test_loader = DataLoader(test_dataset, batch_size=1559, drop_last=True)\n",
    "feature_test,is_maneuver,maneuver_dv,maneuver_time =next(iter(test_loader))\n",
    "#print(f\"features shape (batch size * nb of meas * nb of feature):{feature.shape}\\nis maneuver: {is_maneuver.item()}\\ndv (m/s): {maneuver_dv.item()}\\nmaneuver date (seconds from the observation start): {maneuver_time.item()}\")\n"
   ]
  },
  {
   "cell_type": "code",
   "execution_count": 140,
   "id": "105843a0",
   "metadata": {},
   "outputs": [],
   "source": [
    "pred_test_modelx = model(feature_test)"
   ]
  },
  {
   "cell_type": "code",
   "execution_count": 141,
   "id": "4fb8838b",
   "metadata": {},
   "outputs": [],
   "source": [
    "pred_test_ = tri(pred_test_modelx)"
   ]
  },
  {
   "cell_type": "markdown",
   "id": "0d6d4347",
   "metadata": {
    "papermill": {
     "duration": 0.004098,
     "end_time": "2023-02-26T22:57:14.204646",
     "exception": false,
     "start_time": "2023-02-26T22:57:14.200548",
     "status": "completed"
    },
    "tags": []
   },
   "source": [
    "for evenly spaced dataset, you should use the option fixed_step : \n"
   ]
  },
  {
   "cell_type": "code",
   "execution_count": null,
   "id": "7e1456a7",
   "metadata": {
    "execution": {
     "iopub.execute_input": "2023-02-26T22:57:14.216184Z",
     "iopub.status.busy": "2023-02-26T22:57:14.215152Z",
     "iopub.status.idle": "2023-02-26T22:57:21.836549Z",
     "shell.execute_reply": "2023-02-26T22:57:21.835147Z"
    },
    "papermill": {
     "duration": 7.630304,
     "end_time": "2023-02-26T22:57:21.839182",
     "exception": false,
     "start_time": "2023-02-26T22:57:14.208878",
     "status": "completed"
    },
    "tags": []
   },
   "outputs": [],
   "source": [
    "evenly_spaced_dataset_path=\"/Users/FlorianLudwig/Supaero 2023/SDD_ML/hackaton/Hackathon_SDD_2023_commons/TRAIN_1_EVENLY_SPACED_V2.json\"\n",
    "evenly_spaced_dataset= ManeuverDetectionDataset(evenly_spaced_dataset_path,fixed_step=True)\n",
    "evenly_spaced_loader = DataLoader(evenly_spaced_dataset, batch_size=1, drop_last=True)\n",
    "feature,is_maneuver,maneuver_dv,maneuver_time =next(iter(evenly_spaced_loader))\n",
    "print(f\"features shape (batch size * nb of meas * nb of feature):{feature.shape}\\nis maneuver: {is_maneuver.item()}\\ndv (m/s): {maneuver_dv.item()}\\nmaneuver date (seconds from the observation start): {maneuver_time.item()}\")\n"
   ]
  },
  {
   "cell_type": "markdown",
   "id": "9af5e9f0",
   "metadata": {
    "papermill": {
     "duration": 0.003807,
     "end_time": "2023-02-26T22:57:21.847303",
     "exception": false,
     "start_time": "2023-02-26T22:57:21.843496",
     "status": "completed"
    },
    "tags": []
   },
   "source": [
    "#  It is time to submit !"
   ]
  },
  {
   "cell_type": "markdown",
   "id": "fe3349a7",
   "metadata": {
    "papermill": {
     "duration": 0.00385,
     "end_time": "2023-02-26T22:57:21.855064",
     "exception": false,
     "start_time": "2023-02-26T22:57:21.851214",
     "status": "completed"
    },
    "tags": []
   },
   "source": [
    "When you think that your score is great you can submit ! To get started, you can generate your prediction file :"
   ]
  },
  {
   "cell_type": "code",
   "execution_count": 146,
   "id": "323d032d",
   "metadata": {},
   "outputs": [
    {
     "data": {
      "text/plain": [
       "0       0.365490\n",
       "1       0.286856\n",
       "2       0.527333\n",
       "3       0.657202\n",
       "4       0.662408\n",
       "          ...   \n",
       "1554    0.559766\n",
       "1555    0.328250\n",
       "1556    0.328180\n",
       "1557    0.401010\n",
       "1558    0.312405\n",
       "Name: date, Length: 1559, dtype: float64"
      ]
     },
     "execution_count": 146,
     "metadata": {},
     "output_type": "execute_result"
    }
   ],
   "source": [
    "import pandas as pd\n",
    "\n",
    "nx = pd.read_csv('prediction2.csv',delimiter=';')\n",
    "mx = nx['date']\n",
    "mx"
   ]
  },
  {
   "cell_type": "code",
   "execution_count": 147,
   "id": "dca845b8",
   "metadata": {
    "execution": {
     "iopub.execute_input": "2023-02-26T22:57:21.864964Z",
     "iopub.status.busy": "2023-02-26T22:57:21.864043Z",
     "iopub.status.idle": "2023-02-26T22:57:21.880968Z",
     "shell.execute_reply": "2023-02-26T22:57:21.88006Z"
    },
    "papermill": {
     "duration": 0.024084,
     "end_time": "2023-02-26T22:57:21.88304",
     "exception": false,
     "start_time": "2023-02-26T22:57:21.858956",
     "status": "completed"
    },
    "tags": []
   },
   "outputs": [],
   "source": [
    "from SubmissionGenerator import create_submission\n",
    "import numpy as np\n",
    "#fake prediction\n",
    "pred=np.zeros((len(test_dataset),3))\n",
    "pred[:,0]=pred_test_ # classification\n",
    "pred[:,1]=0.01*np.ones((len(test_dataset))) #dv\n",
    "pred[:,2]=mx #time of the maneuver\n",
    "create_submission(pred,\"./prediction_test_3.csv\")\n"
   ]
  },
  {
   "cell_type": "markdown",
   "id": "bf54c60a",
   "metadata": {
    "papermill": {
     "duration": 0.003972,
     "end_time": "2023-02-26T22:57:21.891452",
     "exception": false,
     "start_time": "2023-02-26T22:57:21.88748",
     "status": "completed"
    },
    "tags": []
   },
   "source": [
    "Then, commit the file prediction.csv in the gitlab repository of your team. Don't forget to pull the repo before!\n",
    "https://gitlab.com/TheoNguyen611/team-1-la-photomentalteam.git\n",
    "\n",
    "https://gitlab.com/TheoNguyen611/team-2-avada-kedavra.git\n",
    "\n",
    "https://gitlab.com/TheoNguyen611/team-3-frosty-gould.git\n",
    "\n",
    "Wait a few moment and you should see your score appear in the leaderboard : http://34.163.85.74:5006/dashboard"
   ]
  }
 ],
 "metadata": {
  "kernelspec": {
   "display_name": "Python 3",
   "language": "python",
   "name": "python3"
  },
  "language_info": {
   "codemirror_mode": {
    "name": "ipython",
    "version": 3
   },
   "file_extension": ".py",
   "mimetype": "text/x-python",
   "name": "python",
   "nbconvert_exporter": "python",
   "pygments_lexer": "ipython3",
   "version": "3.10.8"
  },
  "papermill": {
   "default_parameters": {},
   "duration": 36.74028,
   "end_time": "2023-02-26T22:57:24.515339",
   "environment_variables": {},
   "exception": null,
   "input_path": "__notebook__.ipynb",
   "output_path": "__notebook__.ipynb",
   "parameters": {},
   "start_time": "2023-02-26T22:56:47.775059",
   "version": "2.4.0"
  },
  "vscode": {
   "interpreter": {
    "hash": "aee8b7b246df8f9039afb4144a1f6fd8d2ca17a180786b69acc140d282b71a49"
   }
  }
 },
 "nbformat": 4,
 "nbformat_minor": 5
}
