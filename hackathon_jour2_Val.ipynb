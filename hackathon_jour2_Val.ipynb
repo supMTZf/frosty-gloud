{
 "cells": [
  {
   "cell_type": "markdown",
   "id": "59c493e8",
   "metadata": {},
   "source": [
    "<a href=\"https://www.kaggle.com/code/theongy/getting-started-maneuver-detection?scriptVersionId=120424735\" target=\"_blank\"><img align=\"left\" alt=\"Kaggle\" title=\"Open in Kaggle\" src=\"https://kaggle.com/static/images/open-in-kaggle.svg\"></a>"
   ]
  },
  {
   "cell_type": "code",
   "execution_count": 1,
   "id": "e0c03931",
   "metadata": {
    "_cell_guid": "b1076dfc-b9ad-4769-8c92-a6c4dae69d19",
    "_uuid": "8f2839f25d086af736a60e9eeb907d3b93b6e0e5",
    "execution": {
     "iopub.execute_input": "2023-02-26T22:56:56.710033Z",
     "iopub.status.busy": "2023-02-26T22:56:56.709662Z",
     "iopub.status.idle": "2023-02-26T22:57:04.286993Z",
     "shell.execute_reply": "2023-02-26T22:57:04.286097Z"
    },
    "papermill": {
     "duration": 7.585766,
     "end_time": "2023-02-26T22:57:04.289437",
     "exception": false,
     "start_time": "2023-02-26T22:56:56.703671",
     "status": "completed"
    },
    "tags": []
   },
   "outputs": [
    {
     "name": "stdout",
     "output_type": "stream",
     "text": [
      "cp: cannot stat '../input/maneuver-detection/': No such file or directory\r\n"
     ]
    }
   ],
   "source": [
    "\"\"\"Command line to load the data (valid only for this notebook)\"\"\"\n",
    "import sys\n",
    "package_paths = [\n",
    "    '../input/hackathon2023/',\n",
    "]\n",
    "\n",
    "for pth in package_paths:\n",
    "    sys.path.append(pth)\n",
    "!cp -r '../input/maneuver-detection/' '/kaggle/working'"
   ]
  },
  {
   "cell_type": "markdown",
   "id": "f6bd9c23",
   "metadata": {
    "papermill": {
     "duration": 0.003146,
     "end_time": "2023-02-26T22:57:04.296402",
     "exception": false,
     "start_time": "2023-02-26T22:57:04.293256",
     "status": "completed"
    },
    "tags": []
   },
   "source": [
    "# Loading the dataset"
   ]
  },
  {
   "cell_type": "markdown",
   "id": "9d2d6390",
   "metadata": {
    "papermill": {
     "duration": 0.003266,
     "end_time": "2023-02-26T22:57:04.303071",
     "exception": false,
     "start_time": "2023-02-26T22:57:04.299805",
     "status": "completed"
    },
    "tags": []
   },
   "source": [
    "A custom pytorch dataset is provided. It will parse the json dataset can be used with the pytorch loader. Since loading can sometimes take time, it is recommanded to execute the following cell at the beginning separately."
   ]
  },
  {
   "cell_type": "code",
   "execution_count": 133,
   "id": "2d2d4b10",
   "metadata": {
    "execution": {
     "iopub.execute_input": "2023-02-26T22:57:04.312083Z",
     "iopub.status.busy": "2023-02-26T22:57:04.311242Z",
     "iopub.status.idle": "2023-02-26T22:57:13.241991Z",
     "shell.execute_reply": "2023-02-26T22:57:13.240298Z"
    },
    "papermill": {
     "duration": 8.939039,
     "end_time": "2023-02-26T22:57:13.245521",
     "exception": false,
     "start_time": "2023-02-26T22:57:04.306482",
     "status": "completed"
    },
    "tags": []
   },
   "outputs": [
    {
     "name": "stdout",
     "output_type": "stream",
     "text": [
      "\n",
      "\n",
      "**********TRAIN DATASET *********\n",
      "Validation/Train ratio: 0.1\n",
      "Samples filtered? NO\n",
      "Samples evenly spaced? False\n",
      "path: TRAIN_1_IRREGULAR_STEPS_V2.json/TRAIN_1_IRREGULAR_STEPS_V2.json\n",
      "loading dataset. Ready in a minute!\n",
      "TRAIN Dataset loaded. Size: 35762\n"
     ]
    }
   ],
   "source": [
    "from ManeuverDetectionDataset import ManeuverDetectionDataset\n",
    "dataset_path=\"TRAIN_1_IRREGULAR_STEPS_V2.json/TRAIN_1_IRREGULAR_STEPS_V2.json\"\n",
    "train_dataset= ManeuverDetectionDataset(dataset_path)"
   ]
  },
  {
   "cell_type": "markdown",
   "id": "c87edb68",
   "metadata": {
    "papermill": {
     "duration": 0.003569,
     "end_time": "2023-02-26T22:57:13.25339",
     "exception": false,
     "start_time": "2023-02-26T22:57:13.249821",
     "status": "completed"
    },
    "tags": []
   },
   "source": [
    "As you can see, by default, the dataset is considered as a train dataset and 10% is not loaded for validation. To build the validation dataset, yo can do the same and you don't need to load again the json to save time ! **Beware : if you modify the code, you should take care to avoid to validate your model with the trained data!**"
   ]
  },
  {
   "cell_type": "code",
   "execution_count": 134,
   "id": "93cb18ca",
   "metadata": {
    "execution": {
     "iopub.execute_input": "2023-02-26T22:57:13.262774Z",
     "iopub.status.busy": "2023-02-26T22:57:13.261592Z",
     "iopub.status.idle": "2023-02-26T22:57:13.276583Z",
     "shell.execute_reply": "2023-02-26T22:57:13.275256Z"
    },
    "papermill": {
     "duration": 0.022585,
     "end_time": "2023-02-26T22:57:13.279536",
     "exception": false,
     "start_time": "2023-02-26T22:57:13.256951",
     "status": "completed"
    },
    "tags": []
   },
   "outputs": [
    {
     "name": "stdout",
     "output_type": "stream",
     "text": [
      "\n",
      "\n",
      "**********VALIDATION DATASET *********\n",
      "Validation/Train ratio: 0.1\n",
      "Samples filtered? NO\n",
      "Samples evenly spaced? False\n",
      "path: TRAIN_1_IRREGULAR_STEPS_V2.json/TRAIN_1_IRREGULAR_STEPS_V2.json\n",
      "VALIDATION Dataset loaded. Size: 3974\n"
     ]
    }
   ],
   "source": [
    "dataset= ManeuverDetectionDataset(dataset_path,dataset_type=\"VALIDATION\",imported_dataset=train_dataset.dataset)"
   ]
  },
  {
   "cell_type": "code",
   "execution_count": 135,
   "id": "83317e53",
   "metadata": {
    "execution": {
     "iopub.execute_input": "2023-02-26T22:57:13.289317Z",
     "iopub.status.busy": "2023-02-26T22:57:13.28865Z",
     "iopub.status.idle": "2023-02-26T22:57:13.294082Z",
     "shell.execute_reply": "2023-02-26T22:57:13.293048Z"
    },
    "papermill": {
     "duration": 0.013093,
     "end_time": "2023-02-26T22:57:13.296618",
     "exception": false,
     "start_time": "2023-02-26T22:57:13.283525",
     "status": "completed"
    },
    "tags": []
   },
   "outputs": [
    {
     "name": "stdout",
     "output_type": "stream",
     "text": [
      "\n",
      "\n",
      "**********VALIDATION DATASET *********\n",
      "Validation/Train ratio: 0.1\n",
      "Samples filtered? NO\n",
      "Samples evenly spaced? False\n",
      "path: TRAIN_1_IRREGULAR_STEPS_V2.json/TRAIN_1_IRREGULAR_STEPS_V2.json\n",
      "VALIDATION Dataset loaded. Size: 3974\n"
     ]
    }
   ],
   "source": [
    "validation_dataset= ManeuverDetectionDataset(dataset_path,dataset_type=\"VALIDATION\",imported_dataset=train_dataset.dataset)"
   ]
  },
  {
   "cell_type": "markdown",
   "id": "b2576fda",
   "metadata": {
    "papermill": {
     "duration": 0.003523,
     "end_time": "2023-02-26T22:57:13.304191",
     "exception": false,
     "start_time": "2023-02-26T22:57:13.300668",
     "status": "completed"
    },
    "tags": []
   },
   "source": [
    "Finally, you can create your pytorch loader and have fun with your networks !"
   ]
  },
  {
   "cell_type": "code",
   "execution_count": 136,
   "id": "edb6208c",
   "metadata": {
    "execution": {
     "iopub.execute_input": "2023-02-26T22:57:13.313512Z",
     "iopub.status.busy": "2023-02-26T22:57:13.313171Z",
     "iopub.status.idle": "2023-02-26T22:57:13.368676Z",
     "shell.execute_reply": "2023-02-26T22:57:13.367379Z"
    },
    "papermill": {
     "duration": 0.063223,
     "end_time": "2023-02-26T22:57:13.371128",
     "exception": false,
     "start_time": "2023-02-26T22:57:13.307905",
     "status": "completed"
    },
    "tags": []
   },
   "outputs": [],
   "source": [
    "from torch.utils.data import DataLoader\n",
    "\n",
    "# 1550 batch = nb de sats observés\n",
    "loader = DataLoader(train_dataset, batch_size=35762, drop_last=True)\n",
    "feature,is_maneuver,maneuver_dv,maneuver_time =next(iter(loader))\n",
    "#print(f\"features shape (batch size * nb of meas * nb of feature):{feature.shape}\\nis maneuver: {is_maneuver.item()}\\ndv (m/s): {maneuver_dv.item()}\\nmaneuver date (seconds from the observation start): {maneuver_time.item()}\")"
   ]
  },
  {
   "cell_type": "code",
   "execution_count": 137,
   "id": "b2ed5e55",
   "metadata": {},
   "outputs": [
    {
     "data": {
      "text/plain": [
       "(torch.Size([35762, 1000, 3]),\n",
       " torch.Size([35762]),\n",
       " torch.Size([35762]),\n",
       " torch.Size([35762]))"
      ]
     },
     "execution_count": 137,
     "metadata": {},
     "output_type": "execute_result"
    }
   ],
   "source": [
    "feature.shape, is_maneuver.shape, maneuver_dv.shape, maneuver_time.shape"
   ]
  },
  {
   "cell_type": "code",
   "execution_count": 94,
   "id": "c8246a7c",
   "metadata": {},
   "outputs": [],
   "source": [
    "input_feature = feature.numpy()\n",
    "input_is_man = is_maneuver.numpy()\n",
    "input_dv = maneuver_dv.numpy()\n",
    "input_time = maneuver_time.numpy()"
   ]
  },
  {
   "cell_type": "code",
   "execution_count": 359,
   "id": "54723a70",
   "metadata": {},
   "outputs": [
    {
     "data": {
      "image/png": "[encoded data removed]",
      "text/plain": [
       "<Figure size 1200x4000 with 20 Axes>"
      ]
     },
     "metadata": {},
     "output_type": "display_data"
    }
   ],
   "source": [
    "import matplotlib.pyplot as plt\n",
    "\n",
    "fig,ax=plt.subplots(nrows=10, ncols=2, figsize=(12,40))\n",
    "for i in range(10):\n",
    "    ax[i][0].scatter(input_feature[i][:,2], input_feature[i][:,0])\n",
    "    ax[i][0].set_title(\"Maneuver \"+str(input_is_man[i]))\n",
    "    ax[i][1].scatter(input_feature[i][:,2], input_feature[i][:,1])\n",
    "    ax[i][1].set_title(\"Maneuver \"+str(input_is_man[i]))"
   ]
  },
  {
   "cell_type": "code",
   "execution_count": 360,
   "id": "f268e43a",
   "metadata": {},
   "outputs": [
    {
     "data": {
      "text/plain": [
       "<matplotlib.collections.PathCollection at 0x7ffb46c5b2e0>"
      ]
     },
     "execution_count": 360,
     "metadata": {},
     "output_type": "execute_result"
    },
    {
     "data": {
      "image/png": "[encoded data removed]",
      "text/plain": [
       "<Figure size 640x480 with 1 Axes>"
      ]
     },
     "metadata": {},
     "output_type": "display_data"
    }
   ],
   "source": [
    "plt.scatter(input_feature[6][:,2], input_feature[6][:,1])"
   ]
  },
  {
   "cell_type": "markdown",
   "id": "133540e0",
   "metadata": {},
   "source": [
    "## Try with simple NN "
   ]
  },
  {
   "cell_type": "code",
   "execution_count": 138,
   "id": "a6ffa182",
   "metadata": {},
   "outputs": [],
   "source": [
    "import torch\n",
    "import torch.nn as nn"
   ]
  },
  {
   "cell_type": "code",
   "execution_count": 141,
   "id": "df54fefb",
   "metadata": {},
   "outputs": [],
   "source": [
    "n_input, n_hidden1, n_hidden2, n_out, batch_size, learning_rate = 2000, 1000, 500, 1, 35762, 0.005"
   ]
  },
  {
   "cell_type": "code",
   "execution_count": 142,
   "id": "2ff6da55",
   "metadata": {},
   "outputs": [],
   "source": [
    "data_x = feature[:,:,:2]\n",
    "data_y = is_maneuver.double()"
   ]
  },
  {
   "cell_type": "code",
   "execution_count": 143,
   "id": "e1eff914",
   "metadata": {},
   "outputs": [
    {
     "name": "stdout",
     "output_type": "stream",
     "text": [
      "torch.Size([35762, 1000, 2])\n",
      "torch.Size([35762])\n"
     ]
    }
   ],
   "source": [
    "print(data_x.size())\n",
    "print(data_y.size())"
   ]
  },
  {
   "cell_type": "code",
   "execution_count": 145,
   "id": "38ed1db1",
   "metadata": {},
   "outputs": [
    {
     "name": "stdout",
     "output_type": "stream",
     "text": [
      "Sequential(\n",
      "  (0): Linear(in_features=2000, out_features=1000, bias=True)\n",
      "  (1): ReLU()\n",
      "  (2): Linear(in_features=1000, out_features=500, bias=True)\n",
      "  (3): ReLU()\n",
      "  (4): Linear(in_features=500, out_features=1, bias=True)\n",
      "  (5): Sigmoid()\n",
      ")\n"
     ]
    }
   ],
   "source": [
    "model = nn.Sequential(nn.Linear(n_input, n_hidden1),\n",
    "                      nn.ReLU(),\n",
    "                      nn.Linear(n_hidden1, n_hidden2),\n",
    "                      nn.ReLU(),\n",
    "                      nn.Linear(n_hidden2, n_out),\n",
    "                      nn.Sigmoid())\n",
    "model.double()\n",
    "print(model)"
   ]
  },
  {
   "cell_type": "code",
   "execution_count": 146,
   "id": "87010bad",
   "metadata": {},
   "outputs": [],
   "source": [
    "#loss_function = nn.MSELoss()\n",
    "#optimizer = torch.optim.SGD(model.parameters(), lr=learning_rate)\n",
    "loss_function = nn.BCELoss()\n",
    "optimizer = torch.optim.Adam(model.parameters(), lr=learning_rate)"
   ]
  },
  {
   "cell_type": "code",
   "execution_count": 147,
   "id": "41169cbe",
   "metadata": {
    "scrolled": true
   },
   "outputs": [
    {
     "name": "stdout",
     "output_type": "stream",
     "text": [
      "Epoch 0\n",
      "Epoch 1\n",
      "Epoch 2\n",
      "Epoch 3\n",
      "Epoch 4\n",
      "Epoch 5\n",
      "Epoch 6\n",
      "Epoch 7\n",
      "Epoch 8\n",
      "Epoch 9\n",
      "Epoch 10\n",
      "Epoch 11\n",
      "Epoch 12\n",
      "Epoch 13\n",
      "Epoch 14\n",
      "Epoch 15\n",
      "Epoch 16\n",
      "Epoch 17\n",
      "Epoch 18\n",
      "Epoch 19\n",
      "Epoch 20\n",
      "Epoch 21\n",
      "Epoch 22\n",
      "Epoch 23\n",
      "Epoch 24\n",
      "Epoch 25\n",
      "Epoch 26\n",
      "Epoch 27\n",
      "Epoch 28\n",
      "Epoch 29\n",
      "Epoch 30\n",
      "Epoch 31\n",
      "Epoch 32\n",
      "Epoch 33\n",
      "Epoch 34\n",
      "Epoch 35\n",
      "Epoch 36\n",
      "Epoch 37\n",
      "Epoch 38\n",
      "Epoch 39\n",
      "Epoch 40\n",
      "Epoch 41\n",
      "Epoch 42\n",
      "Epoch 43\n",
      "Epoch 44\n",
      "Epoch 45\n",
      "Epoch 46\n",
      "Epoch 47\n",
      "Epoch 48\n",
      "Epoch 49\n"
     ]
    }
   ],
   "source": [
    "losses = []\n",
    "for epoch in range(50):\n",
    "    print(\"Epoch \"+str(epoch))\n",
    "    pred_y = model(data_x.reshape(-1, 2000))\n",
    "    loss = loss_function(pred_y.reshape(batch_size), data_y)\n",
    "    losses.append(loss.item())\n",
    "\n",
    "    model.zero_grad()\n",
    "    loss.backward()\n",
    "\n",
    "    optimizer.step()"
   ]
  },
  {
   "cell_type": "code",
   "execution_count": 148,
   "id": "f61f2225",
   "metadata": {
    "scrolled": true
   },
   "outputs": [
    {
     "data": {
      "image/png": "[encoded data removed]",
      "text/plain": [
       "<Figure size 640x480 with 1 Axes>"
      ]
     },
     "metadata": {},
     "output_type": "display_data"
    }
   ],
   "source": [
    "import matplotlib.pyplot as plt\n",
    "plt.plot(losses)\n",
    "plt.ylabel('loss')\n",
    "plt.xlabel('epoch')\n",
    "plt.title(\"Learning rate %f\"%(learning_rate))\n",
    "plt.show()"
   ]
  },
  {
   "cell_type": "code",
   "execution_count": 505,
   "id": "a51a6689",
   "metadata": {},
   "outputs": [],
   "source": [
    "#Save the mpdel\n",
    "PATH = './model_manoeuvre.pth'\n",
    "torch.save(model.state_dict(), PATH)"
   ]
  },
  {
   "cell_type": "code",
   "execution_count": 149,
   "id": "680379ea",
   "metadata": {},
   "outputs": [],
   "source": [
    "valid_batch_size = 3974\n",
    "loader2 = DataLoader(validation_dataset, batch_size=valid_batch_size, drop_last=True)\n",
    "feature2,is_maneuver2,maneuver_dv2,maneuver_time2 =next(iter(loader2))"
   ]
  },
  {
   "cell_type": "code",
   "execution_count": 150,
   "id": "e927e6b4",
   "metadata": {},
   "outputs": [],
   "source": [
    "pred2 = model(feature2[:,:,:2].reshape(-1, 2000))"
   ]
  },
  {
   "cell_type": "code",
   "execution_count": 151,
   "id": "cfd82358",
   "metadata": {},
   "outputs": [
    {
     "data": {
      "text/plain": [
       "torch.Size([3974, 1])"
      ]
     },
     "execution_count": 151,
     "metadata": {},
     "output_type": "execute_result"
    }
   ],
   "source": [
    "pred2.shape"
   ]
  },
  {
   "cell_type": "code",
   "execution_count": 152,
   "id": "d840d01e",
   "metadata": {},
   "outputs": [
    {
     "data": {
      "text/plain": [
       "tensor(0.4027, dtype=torch.float64, grad_fn=<BinaryCrossEntropyBackward0>)"
      ]
     },
     "execution_count": 152,
     "metadata": {},
     "output_type": "execute_result"
    }
   ],
   "source": [
    "loss = loss_function(pred2.reshape(valid_batch_size ), is_maneuver2.double())\n",
    "loss"
   ]
  },
  {
   "cell_type": "code",
   "execution_count": 153,
   "id": "1b4c015f",
   "metadata": {},
   "outputs": [
    {
     "name": "stdout",
     "output_type": "stream",
     "text": [
      "\n",
      "TP TN FP FN\n",
      "1287 1961 34 692\n",
      "0\n",
      "Accuracy 81.7312531454454 %\n"
     ]
    }
   ],
   "source": [
    "TT, FT, TF, FF = 0, 0, 0, 0\n",
    "NC = 0\n",
    "\n",
    "pred_maneuver = []\n",
    "\n",
    "for i in range(len(pred2)):\n",
    "    #print(pred2[i].detach().numpy()[0] - is_maneuver2.numpy()[i])\n",
    "    val = pred2[i].detach().numpy()[0] - is_maneuver2.numpy()[i]\n",
    "    if (abs(val) < 0.5) & (is_maneuver2.numpy()[i] == 1):\n",
    "        TT += 1\n",
    "        pred_maneuver.append(1)\n",
    "    elif (abs(val) < 0.5) & (is_maneuver2.numpy()[i] == 0):\n",
    "        TF += 1\n",
    "        pred_maneuver.append(0)\n",
    "    elif (abs(val) > 0.5) & (is_maneuver2.numpy()[i] == 0):\n",
    "        FT += 1\n",
    "        pred_maneuver.append(1)\n",
    "    elif (abs(val) > 0.5) & (is_maneuver2.numpy()[i] == 1):\n",
    "        FF += 1\n",
    "        pred_maneuver.append(0)\n",
    "    else:\n",
    "        NC += 1\n",
    "        print(pred2[i].detach().numpy()[0])\n",
    "print(\"\")\n",
    "print('TP', 'TN', 'FP', 'FN')\n",
    "print(TT, TF, FT, FF)\n",
    "print(NC)\n",
    "print('Accuracy', (TT+TF)/valid_batch_size *100, '%')"
   ]
  },
  {
   "cell_type": "code",
   "execution_count": 154,
   "id": "e9e9fa48",
   "metadata": {},
   "outputs": [
    {
     "name": "stdout",
     "output_type": "stream",
     "text": [
      "              precision    recall  f1-score   support\n",
      "\n",
      "           0       0.74      0.98      0.84      1995\n",
      "           1       0.97      0.65      0.78      1979\n",
      "\n",
      "    accuracy                           0.82      3974\n",
      "   macro avg       0.86      0.82      0.81      3974\n",
      "weighted avg       0.86      0.82      0.81      3974\n",
      "\n"
     ]
    }
   ],
   "source": [
    "from sklearn.metrics import classification_report\n",
    "import numpy as np\n",
    "\n",
    "pred_maneuver = np.array(pred_maneuver)\n",
    "real_maneuver = is_maneuver2.numpy()\n",
    "\n",
    "print(classification_report(real_maneuver, pred_maneuver))"
   ]
  },
  {
   "cell_type": "markdown",
   "id": "69baeb0f",
   "metadata": {},
   "source": [
    "### Time prediction"
   ]
  },
  {
   "cell_type": "code",
   "execution_count": 171,
   "id": "4449f364",
   "metadata": {},
   "outputs": [
    {
     "name": "stdout",
     "output_type": "stream",
     "text": [
      "\n",
      "\n",
      "**********TRAIN DATASET *********\n",
      "Validation/Train ratio: 0.1\n",
      "Samples filtered? MANEUVER_ONLY\n",
      "Samples evenly spaced? False\n",
      "path: TRAIN_1_IRREGULAR_STEPS_V2.json/TRAIN_1_IRREGULAR_STEPS_V2.json\n",
      "loading dataset. Ready in a minute!\n",
      "TRAIN Dataset loaded. Size: 17902\n",
      "\n",
      "\n",
      "**********VALIDATION DATASET *********\n",
      "Validation/Train ratio: 0.1\n",
      "Samples filtered? MANEUVER_ONLY\n",
      "Samples evenly spaced? False\n",
      "path: TRAIN_1_IRREGULAR_STEPS_V2.json/TRAIN_1_IRREGULAR_STEPS_V2.json\n",
      "VALIDATION Dataset loaded. Size: 1989\n"
     ]
    }
   ],
   "source": [
    "from ManeuverDetectionDataset import ManeuverDetectionDataset\n",
    "dataset_path=\"TRAIN_1_IRREGULAR_STEPS_V2.json/TRAIN_1_IRREGULAR_STEPS_V2.json\"\n",
    "train_dataset= ManeuverDetectionDataset(dataset_path, filter_samples=\"MANEUVER_ONLY\")\n",
    "\n",
    "validation_dataset= ManeuverDetectionDataset(dataset_path,dataset_type=\"VALIDATION\",imported_dataset=train_dataset.dataset, filter_samples=\"MANEUVER_ONLY\")\n",
    "\n",
    "from torch.utils.data import DataLoader\n",
    "\n",
    "loader = DataLoader(train_dataset, batch_size=17902, drop_last=True)\n",
    "feature,is_maneuver,maneuver_dv,maneuver_time =next(iter(loader))"
   ]
  },
  {
   "cell_type": "code",
   "execution_count": 193,
   "id": "5f5053de",
   "metadata": {},
   "outputs": [
    {
     "data": {
      "text/plain": [
       "(array([1815., 1798., 1783., 1782., 1737., 1772., 1819., 1859., 1747.,\n",
       "        1790.]),\n",
       " array([2.71502192e+00, 1.72816435e+04, 3.45605719e+04, 5.18395003e+04,\n",
       "        6.91184288e+04, 8.63973572e+04, 1.03676286e+05, 1.20955214e+05,\n",
       "        1.38234143e+05, 1.55513071e+05, 1.72791999e+05]),\n",
       " <BarContainer object of 10 artists>)"
      ]
     },
     "execution_count": 193,
     "metadata": {},
     "output_type": "execute_result"
    },
    {
     "data": {
      "image/png": "[encoded data removed]",
      "text/plain": [
       "<Figure size 640x480 with 1 Axes>"
      ]
     },
     "metadata": {},
     "output_type": "display_data"
    }
   ],
   "source": [
    "hist,bins = np.histogram(maneuver_time.numpy())\n",
    "plt.hist(maneuver_time.numpy(), bins) "
   ]
  },
  {
   "cell_type": "code",
   "execution_count": 172,
   "id": "3514e843",
   "metadata": {},
   "outputs": [],
   "source": [
    "maneuver_time_norm = (maneuver_time - maneuver_time.min())/(maneuver_time.max() - maneuver_time.min())\n",
    "feature_norm = torch.clone(feature)\n",
    "feature_norm[:,:,2] = (feature_norm[:,:,2] - feature[:,:,2].min())/(feature[:,:,2].max() - feature[:,:,2].min())"
   ]
  },
  {
   "cell_type": "markdown",
   "id": "938635c5",
   "metadata": {},
   "source": [
    "#### Interpolation"
   ]
  },
  {
   "cell_type": "code",
   "execution_count": 194,
   "id": "094d2943",
   "metadata": {},
   "outputs": [],
   "source": [
    "import numpy as np\n",
    "import matplotlib.pyplot as plt\n",
    "\n",
    "from sklearn.linear_model import Ridge\n",
    "from sklearn.preprocessing import PolynomialFeatures, SplineTransformer\n",
    "from sklearn.pipeline import make_pipeline"
   ]
  },
  {
   "cell_type": "code",
   "execution_count": 211,
   "id": "8fc4639d",
   "metadata": {},
   "outputs": [
    {
     "name": "stdout",
     "output_type": "stream",
     "text": [
      "x_train [-2.360e-03 -2.482e-03 -2.214e-03 -2.375e-03 -2.123e-03 -2.195e-03\n",
      " -2.120e-03 -2.050e-03 -1.974e-03 -1.965e-03 -2.142e-03 -2.193e-03\n",
      " -1.853e-03 -1.816e-03 -1.915e-03 -1.880e-03 -1.843e-03 -1.667e-03\n",
      " -1.836e-03 -1.668e-03 -1.763e-03 -1.881e-03 -1.750e-03 -1.805e-03\n",
      " -1.574e-03 -1.775e-03 -1.389e-03 -1.446e-03 -1.535e-03 -1.458e-03\n",
      " -1.571e-03 -1.285e-03 -1.586e-03 -9.939e-04 -9.616e-04 -1.039e-03\n",
      " -1.131e-03 -8.893e-04 -1.064e-03 -9.457e-04 -6.609e-04 -7.460e-04\n",
      " -7.768e-04 -7.691e-04 -1.012e-03 -7.006e-04 -6.621e-04 -5.423e-04\n",
      " -4.935e-04 -4.578e-04 -5.331e-04 -4.176e-04 -4.773e-04 -4.596e-04\n",
      " -4.821e-04 -2.911e-04 -4.255e-04 -2.974e-04 -2.367e-04 -4.718e-04\n",
      " -1.480e-04  1.484e-07 -2.897e-04 -2.744e-04  1.791e-04  2.306e-05\n",
      " -4.821e-06 -2.580e-05  3.077e-04  2.875e-04  1.253e-04  2.635e-04\n",
      "  3.720e-04  3.113e-04  3.477e-04  3.679e-04  5.753e-04  2.116e-04\n",
      "  3.184e-04  4.096e-04  4.687e-04  5.826e-04  7.254e-04  5.759e-04\n",
      "  9.582e-04  6.136e-04  9.745e-04  7.669e-04  6.580e-04  1.328e-03\n",
      "  1.426e-03  1.129e-03  1.248e-03  1.081e-03  1.128e-03  1.219e-03\n",
      "  1.209e-03  1.390e-03  1.429e-03  1.380e-03  1.412e-03  1.653e-03\n",
      "  1.440e-03  1.586e-03  1.362e-03  1.555e-03  1.650e-03  1.674e-03\n",
      "  1.602e-03  1.622e-03  1.692e-03  1.708e-03  1.903e-03  2.073e-03\n",
      "  1.757e-03  1.857e-03  1.834e-03  2.038e-03  2.111e-03  1.907e-03\n",
      "  2.016e-03  2.370e-03  2.000e-03  2.311e-03  2.342e-03  2.249e-03\n",
      "  2.483e-03  2.227e-03  2.559e-03  2.346e-03  2.354e-03  2.546e-03\n",
      "  2.576e-03  2.408e-03  2.810e-03  2.694e-03  2.225e-03  2.388e-03\n",
      "  3.405e-03  3.044e-03  3.214e-03  3.416e-03  3.193e-03  3.357e-03\n",
      "  3.315e-03  3.474e-03  3.416e-03  3.392e-03  3.702e-03  3.613e-03\n",
      "  3.529e-03  3.418e-03  3.348e-03  3.501e-03  3.557e-03  3.364e-03\n",
      "  3.530e-03  3.465e-03  3.832e-03  3.779e-03  3.845e-03  3.704e-03\n",
      "  3.696e-03  3.758e-03  3.864e-03  3.550e-03  3.801e-03  3.590e-03\n",
      "  3.733e-03  3.809e-03  3.725e-03  3.721e-03  3.777e-03  3.887e-03\n",
      "  3.679e-03  3.844e-03  3.683e-03  3.900e-03  3.847e-03  3.824e-03\n",
      "  4.040e-03  3.611e-03  3.732e-03  3.666e-03  3.728e-03  3.695e-03\n",
      "  3.766e-03  3.602e-03  3.677e-03  3.705e-03  3.774e-03  3.841e-03\n",
      "  3.657e-03  3.674e-03  3.634e-03  3.526e-03  3.629e-03  3.563e-03\n",
      "  3.604e-03  3.731e-03  3.791e-03  3.367e-03  3.371e-03  3.286e-03\n",
      "  3.533e-03  3.464e-03  3.531e-03  3.254e-03  3.456e-03  3.307e-03\n",
      "  3.356e-03  3.383e-03  3.158e-03  3.394e-03  3.203e-03  3.399e-03\n",
      "  3.222e-03  3.063e-03  3.154e-03  2.982e-03  3.111e-03  3.309e-03\n",
      "  3.098e-03  2.946e-03  3.352e-03  2.993e-03  2.964e-03  3.059e-03\n",
      "  2.941e-03  1.112e-02  1.111e-02  1.128e-02  1.114e-02  1.108e-02\n",
      "  1.121e-02  1.121e-02  1.159e-02  1.129e-02  1.118e-02  1.134e-02\n",
      "  1.153e-02  1.123e-02  1.131e-02  1.139e-02  1.160e-02  1.164e-02\n",
      "  1.147e-02  1.150e-02  1.160e-02  1.150e-02  1.161e-02  1.174e-02\n",
      "  1.179e-02  1.149e-02  1.184e-02  1.190e-02  1.164e-02  1.191e-02\n",
      "  1.174e-02  1.176e-02  1.166e-02  1.175e-02  1.187e-02  1.161e-02\n",
      "  1.172e-02  1.171e-02  1.203e-02  1.209e-02  1.195e-02  1.196e-02\n",
      "  1.205e-02  1.209e-02  1.211e-02  1.221e-02  1.209e-02  1.216e-02\n",
      "  1.222e-02  1.191e-02  1.215e-02  1.209e-02  1.205e-02  1.216e-02\n",
      "  1.197e-02  1.201e-02  1.214e-02  1.219e-02  1.216e-02  1.225e-02\n",
      "  1.212e-02  1.229e-02  1.208e-02  1.203e-02  1.180e-02  1.225e-02\n",
      "  1.196e-02  1.217e-02  1.200e-02  1.210e-02  1.205e-02  1.208e-02\n",
      "  1.222e-02  1.205e-02  1.206e-02  1.205e-02  1.225e-02  1.197e-02\n",
      "  1.192e-02  1.182e-02  1.188e-02  1.170e-02  1.196e-02  1.187e-02\n",
      "  1.176e-02  1.167e-02  1.152e-02  1.163e-02  1.157e-02  1.163e-02\n",
      "  1.138e-02  1.178e-02  1.139e-02  1.174e-02  1.142e-02  1.132e-02\n",
      "  1.151e-02  1.152e-02  1.139e-02  1.104e-02  1.119e-02  1.117e-02\n",
      "  1.086e-02  1.114e-02  1.121e-02  1.118e-02  1.108e-02  1.099e-02\n",
      "  1.088e-02  1.066e-02  1.089e-02  1.079e-02  1.081e-02  1.030e-02\n",
      "  1.023e-02  1.023e-02  1.056e-02  1.039e-02  1.036e-02  1.025e-02\n",
      "  1.041e-02  9.873e-03  1.006e-02  1.001e-02  1.009e-02  1.007e-02\n",
      "  1.030e-02  9.713e-03  9.986e-03  1.002e-02  1.002e-02  9.919e-03\n",
      "  9.895e-03  9.833e-03  9.754e-03  9.565e-03  9.560e-03  9.614e-03\n",
      "  9.754e-03  9.711e-03  9.551e-03  9.087e-03  9.111e-03  9.366e-03\n",
      "  9.371e-03  9.638e-03  9.361e-03  9.277e-03  8.991e-03  8.855e-03\n",
      "  9.107e-03  9.078e-03  8.990e-03  8.831e-03  8.958e-03  8.393e-03\n",
      "  8.409e-03  8.576e-03  8.544e-03  8.737e-03  8.308e-03  8.500e-03\n",
      "  7.844e-03  7.795e-03  7.787e-03  7.803e-03  7.921e-03  7.953e-03\n",
      "  8.118e-03  7.419e-03  7.429e-03  7.797e-03  7.684e-03  7.534e-03\n",
      "  7.378e-03  7.586e-03  7.395e-03  7.311e-03  7.215e-03  7.211e-03\n",
      "  7.414e-03  7.360e-03  7.303e-03  6.945e-03  6.746e-03  6.921e-03\n",
      "  6.922e-03  7.125e-03  6.839e-03  6.834e-03  6.407e-03  6.277e-03\n",
      "  6.316e-03  6.550e-03  6.523e-03  6.413e-03  6.438e-03  6.200e-03\n",
      "  5.989e-03  6.109e-03  6.290e-03  5.914e-03  6.247e-03  6.209e-03\n",
      "  5.903e-03  5.894e-03  5.804e-03  5.818e-03  5.907e-03  5.853e-03\n",
      "  5.881e-03  5.761e-03  5.716e-03  5.487e-03  5.610e-03  5.683e-03\n",
      "  5.811e-03  5.682e-03  4.955e-03  5.065e-03  4.930e-03  5.135e-03\n",
      "  5.094e-03  5.067e-03  5.024e-03  4.756e-03  4.677e-03  4.970e-03\n",
      "  4.748e-03  4.771e-03  4.793e-03  4.859e-03  4.760e-03  4.582e-03\n",
      "  4.744e-03  4.751e-03  4.970e-03  4.424e-03  4.839e-03  1.312e-02\n",
      "  1.338e-02  1.318e-02  1.336e-02  1.331e-02  1.336e-02  1.349e-02\n",
      "  1.357e-02  1.361e-02  1.330e-02  1.349e-02  1.353e-02  1.360e-02\n",
      "  1.345e-02  1.382e-02  1.375e-02  1.370e-02  1.360e-02  1.375e-02\n",
      "  1.355e-02  1.370e-02]\n"
     ]
    },
    {
     "ename": "NameError",
     "evalue": "name 'ax' is not defined",
     "output_type": "error",
     "traceback": [
      "\u001b[0;31m---------------------------------------------------------------------------\u001b[0m",
      "\u001b[0;31mNameError\u001b[0m                                 Traceback (most recent call last)",
      "Cell \u001b[0;32mIn [211], line 18\u001b[0m\n\u001b[1;32m     16\u001b[0m         model_poly\u001b[38;5;241m.\u001b[39mfit(X_train, feature[j,:valid_ind[j],\u001b[38;5;241m1\u001b[39m]\u001b[38;5;241m.\u001b[39mnumpy())\n\u001b[1;32m     17\u001b[0m         y_plot \u001b[38;5;241m=\u001b[39m model_poly\u001b[38;5;241m.\u001b[39mpredict(X_plot)\n\u001b[0;32m---> 18\u001b[0m         ax\u001b[38;5;241m.\u001b[39mplot(x_plot, y_plot, label\u001b[38;5;241m=\u001b[39m\u001b[38;5;124mf\u001b[39m\u001b[38;5;124m\"\u001b[39m\u001b[38;5;124mdegree \u001b[39m\u001b[38;5;132;01m{\u001b[39;00mdegree\u001b[38;5;132;01m}\u001b[39;00m\u001b[38;5;124m\"\u001b[39m)\n\u001b[1;32m     19\u001b[0m     \u001b[38;5;124;03m\"\"\"\u001b[39;00m\n\u001b[1;32m     20\u001b[0m \u001b[38;5;124;03m    model = make_pipeline(SplineTransformer(n_knots=4, degree=3), Ridge(alpha=1e-3))\u001b[39;00m\n\u001b[1;32m     21\u001b[0m \u001b[38;5;124;03m    model.fit(X_train, y_train)\u001b[39;00m\n\u001b[0;32m   (...)\u001b[0m\n\u001b[1;32m     27\u001b[0m \u001b[38;5;124;03m    plt.show()    \u001b[39;00m\n\u001b[1;32m     28\u001b[0m \u001b[38;5;124;03m    \"\"\"\u001b[39;00m\n\u001b[1;32m     30\u001b[0m \u001b[38;5;28mprint\u001b[39m(valid_ind)\n",
      "\u001b[0;31mNameError\u001b[0m: name 'ax' is not defined"
     ]
    },
    {
     "data": {
      "image/png": "[encoded data removed]",
      "text/plain": [
       "<Figure size 640x480 with 1 Axes>"
      ]
     },
     "metadata": {},
     "output_type": "display_data"
    }
   ],
   "source": [
    "valid_ind = []\n",
    "x_plot = np.linspace(0, 175000, 100)\n",
    "X_plot = x_plot[:, np.newaxis]\n",
    "for j in range(1):\n",
    "    fig1 = plt.figure()\n",
    "    for ind in range(1000):\n",
    "        if torch.all(feature[j,ind,:] == torch.tensor([0,0,0])):\n",
    "            valid_ind.append(ind)\n",
    "            break\n",
    "    plt.scatter(feature.numpy()[0][:488,2], feature.numpy()[0][:488,1])\n",
    "    x_train = feature[j,:valid_ind[j],1].numpy()\n",
    "    print(\"x_train\", x_train)\n",
    "    X_train = x_train[:, np.newaxis]\n",
    "    for degree in [3, 4, 5]:\n",
    "        model_poly = make_pipeline(PolynomialFeatures(degree), Ridge(alpha=1e-3))\n",
    "        model_poly.fit(X_train, feature[j,:valid_ind[j],1].numpy())\n",
    "        y_plot = model_poly.predict(X_plot)\n",
    "        ax.plot(x_plot, y_plot, label=f\"degree {degree}\")\n",
    "    \"\"\"\n",
    "    model = make_pipeline(SplineTransformer(n_knots=4, degree=3), Ridge(alpha=1e-3))\n",
    "    model.fit(X_train, y_train)\n",
    "\n",
    "    y_plot = model.predict(X_plot)\n",
    "    ax.plot(x_plot, y_plot, label=\"B-spline\")\n",
    "    ax.legend(loc=\"lower center\")\n",
    "    ax.set_ylim(-20, 10)\n",
    "    plt.show()    \n",
    "    \"\"\"\n",
    "\n",
    "print(valid_ind)\n",
    "\n"
   ]
  },
  {
   "cell_type": "code",
   "execution_count": 173,
   "id": "af442172",
   "metadata": {},
   "outputs": [],
   "source": [
    "n_input, n_hidden, n_out, batch_size, learning_rate = 3000, 500, 1, 17902, 0.005"
   ]
  },
  {
   "cell_type": "code",
   "execution_count": 174,
   "id": "910d38b1",
   "metadata": {},
   "outputs": [],
   "source": [
    "data_x = feature\n",
    "data_y = maneuver_time_norm.double()"
   ]
  },
  {
   "cell_type": "code",
   "execution_count": 175,
   "id": "44a25e39",
   "metadata": {},
   "outputs": [
    {
     "name": "stdout",
     "output_type": "stream",
     "text": [
      "Sequential(\n",
      "  (0): Linear(in_features=3000, out_features=500, bias=True)\n",
      "  (1): ReLU()\n",
      "  (2): Linear(in_features=500, out_features=1, bias=True)\n",
      "  (3): ReLU()\n",
      ")\n"
     ]
    }
   ],
   "source": [
    "model_time = nn.Sequential(nn.Linear(n_input, n_hidden),\n",
    "                      nn.ReLU(),\n",
    "                      nn.Linear(n_hidden, n_out),\n",
    "                      nn.ReLU())\n",
    "model_time.double()\n",
    "print(model_time)"
   ]
  },
  {
   "cell_type": "code",
   "execution_count": 176,
   "id": "a59b53eb",
   "metadata": {},
   "outputs": [],
   "source": [
    "loss_function = nn.L1Loss()\n",
    "optimizer = torch.optim.SGD(model_time.parameters(), lr=learning_rate)"
   ]
  },
  {
   "cell_type": "code",
   "execution_count": 177,
   "id": "9781ca52",
   "metadata": {
    "scrolled": true
   },
   "outputs": [
    {
     "name": "stdout",
     "output_type": "stream",
     "text": [
      "Epoch 0\n",
      "Epoch 1\n",
      "Epoch 2\n",
      "Epoch 3\n",
      "Epoch 4\n",
      "Epoch 5\n",
      "Epoch 6\n",
      "Epoch 7\n",
      "Epoch 8\n",
      "Epoch 9\n",
      "Epoch 10\n",
      "Epoch 11\n",
      "Epoch 12\n",
      "Epoch 13\n",
      "Epoch 14\n",
      "Epoch 15\n",
      "Epoch 16\n",
      "Epoch 17\n",
      "Epoch 18\n",
      "Epoch 19\n",
      "Epoch 20\n",
      "Epoch 21\n",
      "Epoch 22\n",
      "Epoch 23\n",
      "Epoch 24\n",
      "Epoch 25\n",
      "Epoch 26\n",
      "Epoch 27\n",
      "Epoch 28\n",
      "Epoch 29\n",
      "Epoch 30\n",
      "Epoch 31\n",
      "Epoch 32\n",
      "Epoch 33\n",
      "Epoch 34\n",
      "Epoch 35\n",
      "Epoch 36\n",
      "Epoch 37\n",
      "Epoch 38\n",
      "Epoch 39\n",
      "Epoch 40\n",
      "Epoch 41\n",
      "Epoch 42\n",
      "Epoch 43\n",
      "Epoch 44\n",
      "Epoch 45\n",
      "Epoch 46\n",
      "Epoch 47\n",
      "Epoch 48\n",
      "Epoch 49\n",
      "Epoch 50\n",
      "Epoch 51\n",
      "Epoch 52\n",
      "Epoch 53\n",
      "Epoch 54\n",
      "Epoch 55\n",
      "Epoch 56\n",
      "Epoch 57\n",
      "Epoch 58\n",
      "Epoch 59\n",
      "Epoch 60\n",
      "Epoch 61\n",
      "Epoch 62\n",
      "Epoch 63\n",
      "Epoch 64\n",
      "Epoch 65\n",
      "Epoch 66\n",
      "Epoch 67\n",
      "Epoch 68\n",
      "Epoch 69\n",
      "Epoch 70\n",
      "Epoch 71\n",
      "Epoch 72\n",
      "Epoch 73\n",
      "Epoch 74\n",
      "Epoch 75\n",
      "Epoch 76\n",
      "Epoch 77\n",
      "Epoch 78\n",
      "Epoch 79\n",
      "Epoch 80\n",
      "Epoch 81\n",
      "Epoch 82\n",
      "Epoch 83\n",
      "Epoch 84\n",
      "Epoch 85\n",
      "Epoch 86\n",
      "Epoch 87\n",
      "Epoch 88\n",
      "Epoch 89\n",
      "Epoch 90\n",
      "Epoch 91\n",
      "Epoch 92\n",
      "Epoch 93\n",
      "Epoch 94\n",
      "Epoch 95\n",
      "Epoch 96\n",
      "Epoch 97\n",
      "Epoch 98\n",
      "Epoch 99\n",
      "Epoch 100\n",
      "Epoch 101\n",
      "Epoch 102\n",
      "Epoch 103\n",
      "Epoch 104\n",
      "Epoch 105\n",
      "Epoch 106\n",
      "Epoch 107\n",
      "Epoch 108\n",
      "Epoch 109\n",
      "Epoch 110\n",
      "Epoch 111\n",
      "Epoch 112\n",
      "Epoch 113\n",
      "Epoch 114\n",
      "Epoch 115\n",
      "Epoch 116\n",
      "Epoch 117\n",
      "Epoch 118\n",
      "Epoch 119\n",
      "Epoch 120\n",
      "Epoch 121\n",
      "Epoch 122\n",
      "Epoch 123\n",
      "Epoch 124\n",
      "Epoch 125\n",
      "Epoch 126\n",
      "Epoch 127\n",
      "Epoch 128\n",
      "Epoch 129\n",
      "Epoch 130\n",
      "Epoch 131\n",
      "Epoch 132\n",
      "Epoch 133\n",
      "Epoch 134\n",
      "Epoch 135\n",
      "Epoch 136\n",
      "Epoch 137\n",
      "Epoch 138\n",
      "Epoch 139\n",
      "Epoch 140\n",
      "Epoch 141\n",
      "Epoch 142\n",
      "Epoch 143\n",
      "Epoch 144\n",
      "Epoch 145\n",
      "Epoch 146\n",
      "Epoch 147\n",
      "Epoch 148\n",
      "Epoch 149\n",
      "Epoch 150\n",
      "Epoch 151\n",
      "Epoch 152\n",
      "Epoch 153\n",
      "Epoch 154\n",
      "Epoch 155\n",
      "Epoch 156\n",
      "Epoch 157\n",
      "Epoch 158\n",
      "Epoch 159\n",
      "Epoch 160\n",
      "Epoch 161\n",
      "Epoch 162\n",
      "Epoch 163\n",
      "Epoch 164\n",
      "Epoch 165\n",
      "Epoch 166\n",
      "Epoch 167\n",
      "Epoch 168\n",
      "Epoch 169\n",
      "Epoch 170\n",
      "Epoch 171\n",
      "Epoch 172\n",
      "Epoch 173\n",
      "Epoch 174\n",
      "Epoch 175\n",
      "Epoch 176\n",
      "Epoch 177\n",
      "Epoch 178\n",
      "Epoch 179\n",
      "Epoch 180\n",
      "Epoch 181\n",
      "Epoch 182\n",
      "Epoch 183\n",
      "Epoch 184\n",
      "Epoch 185\n",
      "Epoch 186\n",
      "Epoch 187\n",
      "Epoch 188\n",
      "Epoch 189\n",
      "Epoch 190\n",
      "Epoch 191\n",
      "Epoch 192\n",
      "Epoch 193\n",
      "Epoch 194\n",
      "Epoch 195\n",
      "Epoch 196\n",
      "Epoch 197\n",
      "Epoch 198\n",
      "Epoch 199\n"
     ]
    }
   ],
   "source": [
    "losses = []\n",
    "for epoch in range(200):\n",
    "    print(\"Epoch \"+str(epoch))\n",
    "    pred_y = model_time(data_x.reshape(-1, 3000))\n",
    "    loss = loss_function(pred_y.reshape(batch_size), data_y)\n",
    "    losses.append(loss.item())\n",
    "\n",
    "    model_time.zero_grad()\n",
    "    loss.backward()\n",
    "\n",
    "    optimizer.step()"
   ]
  },
  {
   "cell_type": "code",
   "execution_count": 180,
   "id": "248e53d9",
   "metadata": {},
   "outputs": [
    {
     "data": {
      "image/png": "[encoded data removed]",
      "text/plain": [
       "<Figure size 640x480 with 1 Axes>"
      ]
     },
     "metadata": {},
     "output_type": "display_data"
    }
   ],
   "source": [
    "import matplotlib.pyplot as plt\n",
    "plt.plot(losses[1:50])\n",
    "plt.ylabel('loss')\n",
    "plt.xlabel('epoch')\n",
    "plt.title(\"Learning rate %f\"%(learning_rate))\n",
    "plt.show()"
   ]
  },
  {
   "cell_type": "code",
   "execution_count": null,
   "id": "d1638175",
   "metadata": {},
   "outputs": [],
   "source": [
    "#Save the mpdel\n",
    "PATH = './model_temps.pth'\n",
    "torch.save(model.state_dict(), PATH)"
   ]
  },
  {
   "cell_type": "code",
   "execution_count": 99,
   "id": "af988876",
   "metadata": {},
   "outputs": [],
   "source": [
    "valid_batch_size = 1989\n",
    "loader2 = DataLoader(validation_dataset, batch_size=valid_batch_size, drop_last=True)\n",
    "feature2,is_maneuver2,maneuver_dv2,maneuver_time2 =next(iter(loader2))"
   ]
  },
  {
   "cell_type": "code",
   "execution_count": 100,
   "id": "0c5d8c73",
   "metadata": {},
   "outputs": [],
   "source": [
    "maneuver_time2_norm = (maneuver_time2 - maneuver_time.min())/(maneuver_time.max() - maneuver_time.min())\n",
    "feature2_norm = torch.clone(feature2)\n",
    "feature2_norm[:,:,2] = (feature2_norm[:,:,2] - feature[:,:,2].min())/(feature[:,:,2].max() - feature[:,:,2].min())"
   ]
  },
  {
   "cell_type": "code",
   "execution_count": 109,
   "id": "40c8010d",
   "metadata": {},
   "outputs": [
    {
     "data": {
      "text/plain": [
       "tensor(172788.9819, dtype=torch.float64)"
      ]
     },
     "execution_count": 109,
     "metadata": {},
     "output_type": "execute_result"
    }
   ],
   "source": [
    "maneuver_time2.max()"
   ]
  },
  {
   "cell_type": "code",
   "execution_count": 101,
   "id": "fda5ffca",
   "metadata": {},
   "outputs": [
    {
     "data": {
      "text/plain": [
       "tensor(172795.1640, dtype=torch.float64)"
      ]
     },
     "execution_count": 101,
     "metadata": {},
     "output_type": "execute_result"
    }
   ],
   "source": [
    "feature[:,:,2].max()"
   ]
  },
  {
   "cell_type": "code",
   "execution_count": 102,
   "id": "63e63938",
   "metadata": {},
   "outputs": [],
   "source": [
    "pred2 = model_time(feature2_norm.reshape(-1, 3000))"
   ]
  },
  {
   "cell_type": "code",
   "execution_count": 103,
   "id": "d7e6a231",
   "metadata": {},
   "outputs": [],
   "source": [
    "loss_function = nn.L1Loss()\n",
    "#optimizer = torch.optim.SGD(model_time.parameters(), lr=learning_rate)"
   ]
  },
  {
   "cell_type": "code",
   "execution_count": 104,
   "id": "d865e516",
   "metadata": {},
   "outputs": [
    {
     "data": {
      "text/plain": [
       "tensor(0.2046, dtype=torch.float64, grad_fn=<MeanBackward0>)"
      ]
     },
     "execution_count": 104,
     "metadata": {},
     "output_type": "execute_result"
    }
   ],
   "source": [
    "loss = loss_function(pred2.reshape(valid_batch_size), maneuver_time2_norm.double())\n",
    "loss"
   ]
  },
  {
   "cell_type": "code",
   "execution_count": 107,
   "id": "4c51d355",
   "metadata": {},
   "outputs": [
    {
     "data": {
      "text/plain": [
       "tensor([[77438.0453],\n",
       "        [80788.2594],\n",
       "        [47453.9088],\n",
       "        ...,\n",
       "        [89168.6953],\n",
       "        [78606.3793],\n",
       "        [76846.2323]], dtype=torch.float64, grad_fn=<AddBackward0>)"
      ]
     },
     "execution_count": 107,
     "metadata": {},
     "output_type": "execute_result"
    }
   ],
   "source": [
    "#Denormalisation\n",
    "pred2_denorm = pred2*(maneuver_time.max() - maneuver_time.min()) + maneuver_time.min()\n",
    "pred2_denorm"
   ]
  },
  {
   "cell_type": "code",
   "execution_count": 115,
   "id": "160f2f3c",
   "metadata": {},
   "outputs": [
    {
     "data": {
      "text/plain": [
       "tensor(0.6720, dtype=torch.float64, grad_fn=<MaxBackward1>)"
      ]
     },
     "execution_count": 115,
     "metadata": {},
     "output_type": "execute_result"
    }
   ],
   "source": [
    "pred2.max()"
   ]
  },
  {
   "cell_type": "markdown",
   "id": "934496e0",
   "metadata": {},
   "source": [
    "pred2_denorm.max(), maneuver_time2.max()"
   ]
  },
  {
   "cell_type": "code",
   "execution_count": 108,
   "id": "c54523a3",
   "metadata": {},
   "outputs": [
    {
     "data": {
      "text/plain": [
       "tensor(35357.8502, dtype=torch.float64, grad_fn=<MeanBackward0>)"
      ]
     },
     "execution_count": 108,
     "metadata": {},
     "output_type": "execute_result"
    }
   ],
   "source": [
    "loss = loss_function(pred2_denorm.reshape(valid_batch_size), maneuver_time2.double())\n",
    "loss"
   ]
  },
  {
   "cell_type": "markdown",
   "id": "9c546224",
   "metadata": {},
   "source": [
    "--------------------------------------------------------------------------------"
   ]
  },
  {
   "cell_type": "markdown",
   "id": "a824684b",
   "metadata": {
    "papermill": {
     "duration": 0.003731,
     "end_time": "2023-02-26T22:57:13.379353",
     "exception": false,
     "start_time": "2023-02-26T22:57:13.375622",
     "status": "completed"
    },
    "tags": []
   },
   "source": [
    "To load the test dataset, you should set the dataset type to TEST:"
   ]
  },
  {
   "cell_type": "code",
   "execution_count": 512,
   "id": "f61557be",
   "metadata": {
    "execution": {
     "iopub.execute_input": "2023-02-26T22:57:13.388812Z",
     "iopub.status.busy": "2023-02-26T22:57:13.388463Z",
     "iopub.status.idle": "2023-02-26T22:57:14.194171Z",
     "shell.execute_reply": "2023-02-26T22:57:14.192965Z"
    },
    "papermill": {
     "duration": 0.81301,
     "end_time": "2023-02-26T22:57:14.196148",
     "exception": false,
     "start_time": "2023-02-26T22:57:13.383138",
     "status": "completed"
    },
    "tags": []
   },
   "outputs": [
    {
     "name": "stdout",
     "output_type": "stream",
     "text": [
      "\n",
      "\n",
      "**********TEST DATASET *********\n",
      "Validation/Train ratio: 0.1\n",
      "Samples filtered? NO\n",
      "Samples evenly spaced? False\n",
      "path: TEST_FILE_PUBLIC.json/TEST_FILE_PUBLIC.json\n",
      "loading dataset. Ready in a minute!\n",
      "TEST Dataset loaded. Size: 1559\n"
     ]
    }
   ],
   "source": [
    "test_dataset_path=\"TEST_FILE_PUBLIC.json/TEST_FILE_PUBLIC.json\"\n",
    "test_dataset= ManeuverDetectionDataset(test_dataset_path,dataset_type=\"TEST\")\n",
    "test_loader = DataLoader(test_dataset, batch_size=1559, drop_last=True)\n",
    "feature_test, is_maneuver_test ,maneuver_dv_test, maneuver_time_test =next(iter(test_loader))\n",
    "#print(f\"features shape (batch size * nb of meas * nb of feature):{feature.shape}\\nis maneuver: {is_maneuver.item()}\\ndv (m/s): {maneuver_dv.item()}\\nmaneuver date (seconds from the observation start): {maneuver_time.item()}\")\n"
   ]
  },
  {
   "cell_type": "code",
   "execution_count": 513,
   "id": "724830d9",
   "metadata": {},
   "outputs": [
    {
     "data": {
      "text/plain": [
       "1559"
      ]
     },
     "execution_count": 513,
     "metadata": {},
     "output_type": "execute_result"
    }
   ],
   "source": [
    "len(test_dataset)"
   ]
  },
  {
   "cell_type": "code",
   "execution_count": 515,
   "id": "26b7ca24",
   "metadata": {},
   "outputs": [
    {
     "data": {
      "text/plain": [
       "torch.Size([1559, 1000, 3])"
      ]
     },
     "execution_count": 515,
     "metadata": {},
     "output_type": "execute_result"
    }
   ],
   "source": [
    "feature_test.shape"
   ]
  },
  {
   "cell_type": "code",
   "execution_count": 516,
   "id": "2279532b",
   "metadata": {},
   "outputs": [],
   "source": [
    "pred_test = model(feature_test[:,:,:2].reshape(-1, 2000))"
   ]
  },
  {
   "cell_type": "code",
   "execution_count": 518,
   "id": "dba1d46e",
   "metadata": {},
   "outputs": [
    {
     "data": {
      "text/plain": [
       "tensor([[1.0000],\n",
       "        [1.0000],\n",
       "        [0.4605],\n",
       "        ...,\n",
       "        [0.3944],\n",
       "        [0.1585],\n",
       "        [0.3125]], dtype=torch.float64, grad_fn=<SigmoidBackward0>)"
      ]
     },
     "execution_count": 518,
     "metadata": {},
     "output_type": "execute_result"
    }
   ],
   "source": [
    "pred_test.shape\n",
    "pred_test"
   ]
  },
  {
   "cell_type": "code",
   "execution_count": 520,
   "id": "02ab5d92",
   "metadata": {},
   "outputs": [],
   "source": [
    "loss_function = nn.BCELoss()\n",
    "optimizer = torch.optim.Adam(model.parameters(), lr=learning_rate)"
   ]
  },
  {
   "cell_type": "code",
   "execution_count": 521,
   "id": "e3a0ecf8",
   "metadata": {},
   "outputs": [
    {
     "ename": "ValueError",
     "evalue": "Using a target size (torch.Size([35762])) that is different to the input size (torch.Size([1559])) is deprecated. Please ensure they have the same size.",
     "output_type": "error",
     "traceback": [
      "\u001b[0;31m---------------------------------------------------------------------------\u001b[0m",
      "\u001b[0;31mValueError\u001b[0m                                Traceback (most recent call last)",
      "Cell \u001b[0;32mIn [521], line 1\u001b[0m\n\u001b[0;32m----> 1\u001b[0m loss \u001b[38;5;241m=\u001b[39m loss_function(pred_test\u001b[38;5;241m.\u001b[39mreshape(\u001b[38;5;241m1559\u001b[39m), is_maneuver\u001b[38;5;241m.\u001b[39mdouble())\n\u001b[1;32m      2\u001b[0m loss\n",
      "File \u001b[0;32m~/.local/lib/python3.8/site-packages/torch/nn/modules/module.py:1190\u001b[0m, in \u001b[0;36mModule._call_impl\u001b[0;34m(self, *input, **kwargs)\u001b[0m\n\u001b[1;32m   1186\u001b[0m \u001b[38;5;66;03m# If we don't have any hooks, we want to skip the rest of the logic in\u001b[39;00m\n\u001b[1;32m   1187\u001b[0m \u001b[38;5;66;03m# this function, and just call forward.\u001b[39;00m\n\u001b[1;32m   1188\u001b[0m \u001b[38;5;28;01mif\u001b[39;00m \u001b[38;5;129;01mnot\u001b[39;00m (\u001b[38;5;28mself\u001b[39m\u001b[38;5;241m.\u001b[39m_backward_hooks \u001b[38;5;129;01mor\u001b[39;00m \u001b[38;5;28mself\u001b[39m\u001b[38;5;241m.\u001b[39m_forward_hooks \u001b[38;5;129;01mor\u001b[39;00m \u001b[38;5;28mself\u001b[39m\u001b[38;5;241m.\u001b[39m_forward_pre_hooks \u001b[38;5;129;01mor\u001b[39;00m _global_backward_hooks\n\u001b[1;32m   1189\u001b[0m         \u001b[38;5;129;01mor\u001b[39;00m _global_forward_hooks \u001b[38;5;129;01mor\u001b[39;00m _global_forward_pre_hooks):\n\u001b[0;32m-> 1190\u001b[0m     \u001b[38;5;28;01mreturn\u001b[39;00m \u001b[43mforward_call\u001b[49m\u001b[43m(\u001b[49m\u001b[38;5;241;43m*\u001b[39;49m\u001b[38;5;28;43minput\u001b[39;49m\u001b[43m,\u001b[49m\u001b[43m \u001b[49m\u001b[38;5;241;43m*\u001b[39;49m\u001b[38;5;241;43m*\u001b[39;49m\u001b[43mkwargs\u001b[49m\u001b[43m)\u001b[49m\n\u001b[1;32m   1191\u001b[0m \u001b[38;5;66;03m# Do not call functions when jit is used\u001b[39;00m\n\u001b[1;32m   1192\u001b[0m full_backward_hooks, non_full_backward_hooks \u001b[38;5;241m=\u001b[39m [], []\n",
      "File \u001b[0;32m~/.local/lib/python3.8/site-packages/torch/nn/modules/loss.py:619\u001b[0m, in \u001b[0;36mBCELoss.forward\u001b[0;34m(self, input, target)\u001b[0m\n\u001b[1;32m    618\u001b[0m \u001b[38;5;28;01mdef\u001b[39;00m \u001b[38;5;21mforward\u001b[39m(\u001b[38;5;28mself\u001b[39m, \u001b[38;5;28minput\u001b[39m: Tensor, target: Tensor) \u001b[38;5;241m-\u001b[39m\u001b[38;5;241m>\u001b[39m Tensor:\n\u001b[0;32m--> 619\u001b[0m     \u001b[38;5;28;01mreturn\u001b[39;00m \u001b[43mF\u001b[49m\u001b[38;5;241;43m.\u001b[39;49m\u001b[43mbinary_cross_entropy\u001b[49m\u001b[43m(\u001b[49m\u001b[38;5;28;43minput\u001b[39;49m\u001b[43m,\u001b[49m\u001b[43m \u001b[49m\u001b[43mtarget\u001b[49m\u001b[43m,\u001b[49m\u001b[43m \u001b[49m\u001b[43mweight\u001b[49m\u001b[38;5;241;43m=\u001b[39;49m\u001b[38;5;28;43mself\u001b[39;49m\u001b[38;5;241;43m.\u001b[39;49m\u001b[43mweight\u001b[49m\u001b[43m,\u001b[49m\u001b[43m \u001b[49m\u001b[43mreduction\u001b[49m\u001b[38;5;241;43m=\u001b[39;49m\u001b[38;5;28;43mself\u001b[39;49m\u001b[38;5;241;43m.\u001b[39;49m\u001b[43mreduction\u001b[49m\u001b[43m)\u001b[49m\n",
      "File \u001b[0;32m~/.local/lib/python3.8/site-packages/torch/nn/functional.py:3086\u001b[0m, in \u001b[0;36mbinary_cross_entropy\u001b[0;34m(input, target, weight, size_average, reduce, reduction)\u001b[0m\n\u001b[1;32m   3084\u001b[0m     reduction_enum \u001b[38;5;241m=\u001b[39m _Reduction\u001b[38;5;241m.\u001b[39mget_enum(reduction)\n\u001b[1;32m   3085\u001b[0m \u001b[38;5;28;01mif\u001b[39;00m target\u001b[38;5;241m.\u001b[39msize() \u001b[38;5;241m!=\u001b[39m \u001b[38;5;28minput\u001b[39m\u001b[38;5;241m.\u001b[39msize():\n\u001b[0;32m-> 3086\u001b[0m     \u001b[38;5;28;01mraise\u001b[39;00m \u001b[38;5;167;01mValueError\u001b[39;00m(\n\u001b[1;32m   3087\u001b[0m         \u001b[38;5;124m\"\u001b[39m\u001b[38;5;124mUsing a target size (\u001b[39m\u001b[38;5;132;01m{}\u001b[39;00m\u001b[38;5;124m) that is different to the input size (\u001b[39m\u001b[38;5;132;01m{}\u001b[39;00m\u001b[38;5;124m) is deprecated. \u001b[39m\u001b[38;5;124m\"\u001b[39m\n\u001b[1;32m   3088\u001b[0m         \u001b[38;5;124m\"\u001b[39m\u001b[38;5;124mPlease ensure they have the same size.\u001b[39m\u001b[38;5;124m\"\u001b[39m\u001b[38;5;241m.\u001b[39mformat(target\u001b[38;5;241m.\u001b[39msize(), \u001b[38;5;28minput\u001b[39m\u001b[38;5;241m.\u001b[39msize())\n\u001b[1;32m   3089\u001b[0m     )\n\u001b[1;32m   3091\u001b[0m \u001b[38;5;28;01mif\u001b[39;00m weight \u001b[38;5;129;01mis\u001b[39;00m \u001b[38;5;129;01mnot\u001b[39;00m \u001b[38;5;28;01mNone\u001b[39;00m:\n\u001b[1;32m   3092\u001b[0m     new_size \u001b[38;5;241m=\u001b[39m _infer_size(target\u001b[38;5;241m.\u001b[39msize(), weight\u001b[38;5;241m.\u001b[39msize())\n",
      "\u001b[0;31mValueError\u001b[0m: Using a target size (torch.Size([35762])) that is different to the input size (torch.Size([1559])) is deprecated. Please ensure they have the same size."
     ]
    }
   ],
   "source": [
    "loss = loss_function(pred_test.reshape(1559), is_maneuver.double())\n",
    "loss"
   ]
  },
  {
   "cell_type": "code",
   "execution_count": 522,
   "id": "eba89b27",
   "metadata": {},
   "outputs": [
    {
     "name": "stdout",
     "output_type": "stream",
     "text": [
      "\n",
      "TP TN FP FN\n",
      "296 482 277 504\n",
      "0\n",
      "Accuracy 19.577252138902868 %\n"
     ]
    }
   ],
   "source": [
    "TT, FT, TF, FF = 0, 0, 0, 0\n",
    "NC = 0\n",
    "\n",
    "pred_maneuver = []\n",
    "\n",
    "for i in range(len(pred_test)):\n",
    "    val = pred_test[i].detach().numpy()[0] - is_maneuver.numpy()[i]\n",
    "    if (abs(val) < 0.5) & (is_maneuver.numpy()[i] == 1):\n",
    "        TT += 1\n",
    "        pred_maneuver.append(1)\n",
    "    elif (abs(val) < 0.5) & (is_maneuver.numpy()[i] == 0):\n",
    "        TF += 1\n",
    "        pred_maneuver.append(0)\n",
    "    elif (abs(val) > 0.5) & (is_maneuver.numpy()[i] == 0):\n",
    "        FT += 1\n",
    "        pred_maneuver.append(1)\n",
    "    elif (abs(val) > 0.5) & (is_maneuver.numpy()[i] == 1):\n",
    "        FF += 1\n",
    "        pred_maneuver.append(0)\n",
    "    else:\n",
    "        NC += 1\n",
    "        print(pred_test[i].detach().numpy()[0])\n",
    "print(\"\")\n",
    "print('TP', 'TN', 'FP', 'FN')\n",
    "print(TT, TF, FT, FF)\n",
    "print(NC)\n",
    "print('Accuracy', (TT+TF)/valid_batch_size *100, '%')"
   ]
  },
  {
   "cell_type": "code",
   "execution_count": 523,
   "id": "78814ff5",
   "metadata": {},
   "outputs": [
    {
     "data": {
      "text/plain": [
       "[1,\n",
       " 1,\n",
       " 0,\n",
       " 0,\n",
       " 0,\n",
       " 1,\n",
       " 0,\n",
       " 1,\n",
       " 0,\n",
       " 1,\n",
       " 0,\n",
       " 0,\n",
       " 0,\n",
       " 1,\n",
       " 1,\n",
       " 0,\n",
       " 0,\n",
       " 1,\n",
       " 0,\n",
       " 0,\n",
       " 1,\n",
       " 0,\n",
       " 1,\n",
       " 0,\n",
       " 0,\n",
       " 0,\n",
       " 0,\n",
       " 0,\n",
       " 0,\n",
       " 0,\n",
       " 0,\n",
       " 1,\n",
       " 1,\n",
       " 0,\n",
       " 0,\n",
       " 1,\n",
       " 1,\n",
       " 1,\n",
       " 0,\n",
       " 0,\n",
       " 0,\n",
       " 1,\n",
       " 0,\n",
       " 0,\n",
       " 0,\n",
       " 0,\n",
       " 0,\n",
       " 1,\n",
       " 0,\n",
       " 0,\n",
       " 0,\n",
       " 0,\n",
       " 0,\n",
       " 0,\n",
       " 0,\n",
       " 0,\n",
       " 0,\n",
       " 0,\n",
       " 1,\n",
       " 0,\n",
       " 0,\n",
       " 1,\n",
       " 1,\n",
       " 0,\n",
       " 1,\n",
       " 0,\n",
       " 0,\n",
       " 0,\n",
       " 0,\n",
       " 1,\n",
       " 0,\n",
       " 1,\n",
       " 0,\n",
       " 0,\n",
       " 0,\n",
       " 0,\n",
       " 0,\n",
       " 1,\n",
       " 1,\n",
       " 0,\n",
       " 0,\n",
       " 1,\n",
       " 0,\n",
       " 0,\n",
       " 0,\n",
       " 0,\n",
       " 0,\n",
       " 1,\n",
       " 0,\n",
       " 1,\n",
       " 0,\n",
       " 1,\n",
       " 0,\n",
       " 1,\n",
       " 1,\n",
       " 1,\n",
       " 0,\n",
       " 0,\n",
       " 0,\n",
       " 0,\n",
       " 0,\n",
       " 0,\n",
       " 1,\n",
       " 1,\n",
       " 0,\n",
       " 0,\n",
       " 0,\n",
       " 0,\n",
       " 1,\n",
       " 1,\n",
       " 0,\n",
       " 0,\n",
       " 1,\n",
       " 1,\n",
       " 0,\n",
       " 0,\n",
       " 0,\n",
       " 1,\n",
       " 0,\n",
       " 0,\n",
       " 0,\n",
       " 0,\n",
       " 1,\n",
       " 1,\n",
       " 1,\n",
       " 1,\n",
       " 1,\n",
       " 0,\n",
       " 0,\n",
       " 1,\n",
       " 0,\n",
       " 0,\n",
       " 0,\n",
       " 1,\n",
       " 0,\n",
       " 0,\n",
       " 0,\n",
       " 1,\n",
       " 0,\n",
       " 0,\n",
       " 0,\n",
       " 1,\n",
       " 1,\n",
       " 1,\n",
       " 0,\n",
       " 1,\n",
       " 0,\n",
       " 0,\n",
       " 1,\n",
       " 0,\n",
       " 0,\n",
       " 0,\n",
       " 1,\n",
       " 1,\n",
       " 0,\n",
       " 1,\n",
       " 0,\n",
       " 1,\n",
       " 0,\n",
       " 0,\n",
       " 0,\n",
       " 0,\n",
       " 0,\n",
       " 1,\n",
       " 0,\n",
       " 0,\n",
       " 0,\n",
       " 1,\n",
       " 0,\n",
       " 0,\n",
       " 1,\n",
       " 1,\n",
       " 0,\n",
       " 1,\n",
       " 0,\n",
       " 0,\n",
       " 0,\n",
       " 0,\n",
       " 0,\n",
       " 0,\n",
       " 0,\n",
       " 1,\n",
       " 1,\n",
       " 1,\n",
       " 1,\n",
       " 0,\n",
       " 0,\n",
       " 1,\n",
       " 0,\n",
       " 0,\n",
       " 1,\n",
       " 0,\n",
       " 0,\n",
       " 0,\n",
       " 0,\n",
       " 0,\n",
       " 0,\n",
       " 1,\n",
       " 1,\n",
       " 0,\n",
       " 0,\n",
       " 0,\n",
       " 1,\n",
       " 0,\n",
       " 0,\n",
       " 0,\n",
       " 0,\n",
       " 0,\n",
       " 0,\n",
       " 0,\n",
       " 0,\n",
       " 1,\n",
       " 0,\n",
       " 0,\n",
       " 0,\n",
       " 0,\n",
       " 1,\n",
       " 0,\n",
       " 1,\n",
       " 0,\n",
       " 1,\n",
       " 0,\n",
       " 1,\n",
       " 1,\n",
       " 1,\n",
       " 0,\n",
       " 0,\n",
       " 0,\n",
       " 0,\n",
       " 1,\n",
       " 0,\n",
       " 1,\n",
       " 0,\n",
       " 1,\n",
       " 0,\n",
       " 0,\n",
       " 1,\n",
       " 0,\n",
       " 1,\n",
       " 0,\n",
       " 1,\n",
       " 0,\n",
       " 1,\n",
       " 1,\n",
       " 1,\n",
       " 0,\n",
       " 0,\n",
       " 0,\n",
       " 0,\n",
       " 0,\n",
       " 1,\n",
       " 1,\n",
       " 1,\n",
       " 0,\n",
       " 1,\n",
       " 0,\n",
       " 0,\n",
       " 0,\n",
       " 0,\n",
       " 1,\n",
       " 0,\n",
       " 0,\n",
       " 1,\n",
       " 0,\n",
       " 0,\n",
       " 0,\n",
       " 0,\n",
       " 0,\n",
       " 0,\n",
       " 0,\n",
       " 0,\n",
       " 0,\n",
       " 0,\n",
       " 1,\n",
       " 0,\n",
       " 1,\n",
       " 0,\n",
       " 0,\n",
       " 1,\n",
       " 0,\n",
       " 0,\n",
       " 0,\n",
       " 1,\n",
       " 1,\n",
       " 1,\n",
       " 1,\n",
       " 0,\n",
       " 0,\n",
       " 0,\n",
       " 0,\n",
       " 1,\n",
       " 0,\n",
       " 0,\n",
       " 0,\n",
       " 0,\n",
       " 0,\n",
       " 0,\n",
       " 0,\n",
       " 0,\n",
       " 1,\n",
       " 0,\n",
       " 1,\n",
       " 0,\n",
       " 1,\n",
       " 0,\n",
       " 1,\n",
       " 0,\n",
       " 0,\n",
       " 0,\n",
       " 1,\n",
       " 0,\n",
       " 1,\n",
       " 0,\n",
       " 0,\n",
       " 0,\n",
       " 0,\n",
       " 1,\n",
       " 1,\n",
       " 1,\n",
       " 0,\n",
       " 0,\n",
       " 0,\n",
       " 1,\n",
       " 0,\n",
       " 1,\n",
       " 0,\n",
       " 1,\n",
       " 0,\n",
       " 0,\n",
       " 0,\n",
       " 1,\n",
       " 0,\n",
       " 0,\n",
       " 1,\n",
       " 0,\n",
       " 0,\n",
       " 1,\n",
       " 0,\n",
       " 0,\n",
       " 0,\n",
       " 0,\n",
       " 0,\n",
       " 0,\n",
       " 0,\n",
       " 0,\n",
       " 0,\n",
       " 0,\n",
       " 1,\n",
       " 0,\n",
       " 1,\n",
       " 0,\n",
       " 0,\n",
       " 1,\n",
       " 1,\n",
       " 0,\n",
       " 0,\n",
       " 0,\n",
       " 1,\n",
       " 0,\n",
       " 1,\n",
       " 0,\n",
       " 0,\n",
       " 0,\n",
       " 1,\n",
       " 1,\n",
       " 1,\n",
       " 1,\n",
       " 0,\n",
       " 1,\n",
       " 0,\n",
       " 1,\n",
       " 0,\n",
       " 0,\n",
       " 1,\n",
       " 1,\n",
       " 0,\n",
       " 1,\n",
       " 1,\n",
       " 0,\n",
       " 1,\n",
       " 0,\n",
       " 1,\n",
       " 0,\n",
       " 0,\n",
       " 0,\n",
       " 0,\n",
       " 0,\n",
       " 1,\n",
       " 0,\n",
       " 0,\n",
       " 0,\n",
       " 0,\n",
       " 0,\n",
       " 1,\n",
       " 0,\n",
       " 1,\n",
       " 0,\n",
       " 0,\n",
       " 0,\n",
       " 0,\n",
       " 0,\n",
       " 0,\n",
       " 0,\n",
       " 1,\n",
       " 0,\n",
       " 0,\n",
       " 1,\n",
       " 1,\n",
       " 0,\n",
       " 0,\n",
       " 0,\n",
       " 0,\n",
       " 1,\n",
       " 0,\n",
       " 1,\n",
       " 0,\n",
       " 1,\n",
       " 0,\n",
       " 0,\n",
       " 0,\n",
       " 1,\n",
       " 0,\n",
       " 0,\n",
       " 0,\n",
       " 0,\n",
       " 0,\n",
       " 1,\n",
       " 0,\n",
       " 1,\n",
       " 1,\n",
       " 1,\n",
       " 1,\n",
       " 1,\n",
       " 1,\n",
       " 0,\n",
       " 0,\n",
       " 0,\n",
       " 0,\n",
       " 0,\n",
       " 0,\n",
       " 0,\n",
       " 1,\n",
       " 0,\n",
       " 1,\n",
       " 0,\n",
       " 1,\n",
       " 0,\n",
       " 1,\n",
       " 0,\n",
       " 1,\n",
       " 1,\n",
       " 1,\n",
       " 1,\n",
       " 0,\n",
       " 0,\n",
       " 0,\n",
       " 0,\n",
       " 0,\n",
       " 0,\n",
       " 0,\n",
       " 0,\n",
       " 0,\n",
       " 0,\n",
       " 1,\n",
       " 0,\n",
       " 0,\n",
       " 0,\n",
       " 1,\n",
       " 0,\n",
       " 1,\n",
       " 1,\n",
       " 0,\n",
       " 1,\n",
       " 1,\n",
       " 1,\n",
       " 0,\n",
       " 1,\n",
       " 0,\n",
       " 1,\n",
       " 1,\n",
       " 1,\n",
       " 0,\n",
       " 1,\n",
       " 1,\n",
       " 1,\n",
       " 1,\n",
       " 0,\n",
       " 0,\n",
       " 1,\n",
       " 0,\n",
       " 0,\n",
       " 0,\n",
       " 0,\n",
       " 1,\n",
       " 0,\n",
       " 0,\n",
       " 0,\n",
       " 0,\n",
       " 1,\n",
       " 1,\n",
       " 0,\n",
       " 1,\n",
       " 1,\n",
       " 1,\n",
       " 1,\n",
       " 1,\n",
       " 1,\n",
       " 1,\n",
       " 1,\n",
       " 0,\n",
       " 1,\n",
       " 0,\n",
       " 1,\n",
       " 1,\n",
       " 0,\n",
       " 1,\n",
       " 0,\n",
       " 0,\n",
       " 0,\n",
       " 1,\n",
       " 0,\n",
       " 0,\n",
       " 1,\n",
       " 1,\n",
       " 0,\n",
       " 0,\n",
       " 1,\n",
       " 1,\n",
       " 0,\n",
       " 1,\n",
       " 1,\n",
       " 0,\n",
       " 1,\n",
       " 0,\n",
       " 0,\n",
       " 0,\n",
       " 0,\n",
       " 0,\n",
       " 0,\n",
       " 1,\n",
       " 0,\n",
       " 0,\n",
       " 1,\n",
       " 1,\n",
       " 1,\n",
       " 1,\n",
       " 1,\n",
       " 1,\n",
       " 1,\n",
       " 0,\n",
       " 0,\n",
       " 0,\n",
       " 0,\n",
       " 0,\n",
       " 1,\n",
       " 0,\n",
       " 0,\n",
       " 0,\n",
       " 0,\n",
       " 0,\n",
       " 0,\n",
       " 0,\n",
       " 0,\n",
       " 1,\n",
       " 0,\n",
       " 0,\n",
       " 0,\n",
       " 0,\n",
       " 0,\n",
       " 1,\n",
       " 1,\n",
       " 1,\n",
       " 1,\n",
       " 0,\n",
       " 0,\n",
       " 1,\n",
       " 0,\n",
       " 1,\n",
       " 0,\n",
       " 0,\n",
       " 0,\n",
       " 1,\n",
       " 1,\n",
       " 0,\n",
       " 0,\n",
       " 0,\n",
       " 0,\n",
       " 0,\n",
       " 0,\n",
       " 0,\n",
       " 0,\n",
       " 0,\n",
       " 0,\n",
       " 1,\n",
       " 1,\n",
       " 0,\n",
       " 0,\n",
       " 0,\n",
       " 1,\n",
       " 0,\n",
       " 0,\n",
       " 0,\n",
       " 0,\n",
       " 1,\n",
       " 0,\n",
       " 0,\n",
       " 0,\n",
       " 1,\n",
       " 0,\n",
       " 1,\n",
       " 1,\n",
       " 0,\n",
       " 1,\n",
       " 0,\n",
       " 1,\n",
       " 1,\n",
       " 1,\n",
       " 0,\n",
       " 0,\n",
       " 1,\n",
       " 0,\n",
       " 0,\n",
       " 0,\n",
       " 0,\n",
       " 0,\n",
       " 0,\n",
       " 0,\n",
       " 0,\n",
       " 1,\n",
       " 0,\n",
       " 0,\n",
       " 1,\n",
       " 0,\n",
       " 1,\n",
       " 1,\n",
       " 0,\n",
       " 1,\n",
       " 0,\n",
       " 0,\n",
       " 1,\n",
       " 1,\n",
       " 1,\n",
       " 1,\n",
       " 0,\n",
       " 1,\n",
       " 0,\n",
       " 0,\n",
       " 0,\n",
       " 0,\n",
       " 1,\n",
       " 0,\n",
       " 1,\n",
       " 0,\n",
       " 1,\n",
       " 1,\n",
       " 0,\n",
       " 0,\n",
       " 0,\n",
       " 1,\n",
       " 1,\n",
       " 0,\n",
       " 0,\n",
       " 0,\n",
       " 1,\n",
       " 0,\n",
       " 0,\n",
       " 0,\n",
       " 0,\n",
       " 0,\n",
       " 0,\n",
       " 0,\n",
       " 0,\n",
       " 0,\n",
       " 0,\n",
       " 0,\n",
       " 0,\n",
       " 1,\n",
       " 0,\n",
       " 0,\n",
       " 1,\n",
       " 0,\n",
       " 0,\n",
       " 0,\n",
       " 1,\n",
       " 1,\n",
       " 1,\n",
       " 1,\n",
       " 1,\n",
       " 0,\n",
       " 0,\n",
       " 1,\n",
       " 0,\n",
       " 1,\n",
       " 0,\n",
       " 0,\n",
       " 0,\n",
       " 0,\n",
       " 0,\n",
       " 1,\n",
       " 0,\n",
       " 0,\n",
       " 0,\n",
       " 1,\n",
       " 1,\n",
       " 0,\n",
       " 0,\n",
       " 1,\n",
       " 1,\n",
       " 1,\n",
       " 1,\n",
       " 1,\n",
       " 0,\n",
       " 1,\n",
       " 0,\n",
       " 0,\n",
       " 0,\n",
       " 0,\n",
       " 1,\n",
       " 0,\n",
       " 1,\n",
       " 0,\n",
       " 0,\n",
       " 0,\n",
       " 0,\n",
       " 0,\n",
       " 0,\n",
       " 0,\n",
       " 0,\n",
       " 1,\n",
       " 0,\n",
       " 1,\n",
       " 0,\n",
       " 0,\n",
       " 0,\n",
       " 0,\n",
       " 0,\n",
       " 0,\n",
       " 1,\n",
       " 0,\n",
       " 0,\n",
       " 1,\n",
       " 0,\n",
       " 1,\n",
       " 0,\n",
       " 0,\n",
       " 0,\n",
       " 1,\n",
       " 0,\n",
       " 0,\n",
       " 1,\n",
       " 0,\n",
       " 1,\n",
       " 0,\n",
       " 0,\n",
       " 1,\n",
       " 0,\n",
       " 0,\n",
       " 0,\n",
       " 0,\n",
       " 1,\n",
       " 1,\n",
       " 1,\n",
       " 0,\n",
       " 1,\n",
       " 0,\n",
       " 0,\n",
       " 0,\n",
       " 1,\n",
       " 1,\n",
       " 0,\n",
       " 1,\n",
       " 1,\n",
       " 0,\n",
       " 1,\n",
       " 0,\n",
       " 0,\n",
       " 0,\n",
       " 0,\n",
       " 1,\n",
       " 0,\n",
       " 0,\n",
       " 1,\n",
       " 0,\n",
       " 0,\n",
       " 1,\n",
       " 0,\n",
       " 0,\n",
       " 0,\n",
       " 1,\n",
       " 0,\n",
       " 0,\n",
       " 0,\n",
       " 1,\n",
       " 0,\n",
       " 1,\n",
       " 1,\n",
       " 1,\n",
       " 0,\n",
       " 1,\n",
       " 0,\n",
       " 0,\n",
       " 0,\n",
       " 0,\n",
       " 0,\n",
       " 1,\n",
       " 0,\n",
       " 0,\n",
       " 0,\n",
       " 0,\n",
       " 0,\n",
       " 0,\n",
       " 0,\n",
       " 1,\n",
       " 0,\n",
       " 0,\n",
       " 1,\n",
       " 1,\n",
       " 0,\n",
       " 1,\n",
       " 0,\n",
       " 0,\n",
       " 0,\n",
       " 1,\n",
       " 0,\n",
       " 1,\n",
       " 0,\n",
       " 1,\n",
       " 0,\n",
       " 1,\n",
       " 1,\n",
       " 0,\n",
       " 0,\n",
       " 0,\n",
       " 0,\n",
       " 0,\n",
       " 1,\n",
       " 0,\n",
       " 0,\n",
       " 0,\n",
       " 1,\n",
       " 1,\n",
       " 1,\n",
       " 0,\n",
       " 0,\n",
       " 1,\n",
       " 0,\n",
       " 0,\n",
       " 1,\n",
       " 0,\n",
       " 0,\n",
       " 1,\n",
       " 1,\n",
       " 0,\n",
       " 0,\n",
       " 0,\n",
       " 0,\n",
       " 1,\n",
       " 1,\n",
       " 0,\n",
       " 1,\n",
       " 1,\n",
       " 1,\n",
       " 0,\n",
       " 0,\n",
       " 0,\n",
       " 0,\n",
       " 0,\n",
       " 0,\n",
       " 1,\n",
       " 1,\n",
       " 1,\n",
       " 1,\n",
       " 0,\n",
       " 1,\n",
       " 0,\n",
       " 0,\n",
       " 0,\n",
       " 1,\n",
       " 0,\n",
       " 0,\n",
       " 0,\n",
       " 0,\n",
       " 0,\n",
       " 1,\n",
       " 1,\n",
       " 1,\n",
       " 0,\n",
       " 1,\n",
       " 0,\n",
       " 0,\n",
       " 0,\n",
       " 0,\n",
       " 0,\n",
       " 0,\n",
       " 0,\n",
       " 0,\n",
       " 0,\n",
       " 1,\n",
       " 0,\n",
       " 0,\n",
       " 0,\n",
       " 0,\n",
       " 0,\n",
       " 1,\n",
       " 1,\n",
       " 1,\n",
       " 1,\n",
       " 0,\n",
       " 0,\n",
       " 1,\n",
       " 1,\n",
       " 0,\n",
       " 0,\n",
       " 1,\n",
       " 1,\n",
       " 1,\n",
       " 0,\n",
       " 0,\n",
       " 0,\n",
       " 1,\n",
       " 1,\n",
       " 0,\n",
       " 1,\n",
       " 0,\n",
       " 0,\n",
       " 0,\n",
       " 0,\n",
       " 1,\n",
       " 0,\n",
       " 0,\n",
       " 0,\n",
       " 1,\n",
       " 1,\n",
       " 0,\n",
       " 1,\n",
       " 0,\n",
       " 0,\n",
       " 1,\n",
       " 0,\n",
       " 1,\n",
       " 1,\n",
       " 0,\n",
       " 1,\n",
       " 0,\n",
       " 0,\n",
       " 0,\n",
       " 0,\n",
       " 1,\n",
       " 1,\n",
       " 0,\n",
       " 1,\n",
       " 1,\n",
       " 0,\n",
       " 1,\n",
       " 1,\n",
       " 0,\n",
       " 0,\n",
       " 1,\n",
       " 0,\n",
       " 1,\n",
       " 0,\n",
       " 0,\n",
       " 1,\n",
       " 0,\n",
       " 0,\n",
       " 1,\n",
       " 0,\n",
       " 0,\n",
       " 0,\n",
       " 0,\n",
       " 0,\n",
       " 0,\n",
       " 0,\n",
       " 1,\n",
       " 1,\n",
       " 0,\n",
       " 1,\n",
       " 1,\n",
       " 0,\n",
       " 0,\n",
       " 1,\n",
       " 0,\n",
       " 0,\n",
       " 1,\n",
       " 0,\n",
       " 0,\n",
       " 0,\n",
       " 1,\n",
       " 0,\n",
       " 0,\n",
       " 1,\n",
       " 0,\n",
       " 1,\n",
       " 0,\n",
       " 1,\n",
       " 0,\n",
       " 0,\n",
       " 1,\n",
       " 0,\n",
       " 0,\n",
       " ...]"
      ]
     },
     "execution_count": 523,
     "metadata": {},
     "output_type": "execute_result"
    }
   ],
   "source": [
    "pred_maneuver"
   ]
  },
  {
   "cell_type": "code",
   "execution_count": null,
   "id": "5cddd2b7",
   "metadata": {},
   "outputs": [],
   "source": []
  },
  {
   "cell_type": "code",
   "execution_count": null,
   "id": "1fbc262f",
   "metadata": {},
   "outputs": [],
   "source": []
  },
  {
   "cell_type": "code",
   "execution_count": null,
   "id": "e2c7ca40",
   "metadata": {},
   "outputs": [],
   "source": []
  },
  {
   "cell_type": "markdown",
   "id": "0d6d4347",
   "metadata": {
    "papermill": {
     "duration": 0.004098,
     "end_time": "2023-02-26T22:57:14.204646",
     "exception": false,
     "start_time": "2023-02-26T22:57:14.200548",
     "status": "completed"
    },
    "tags": []
   },
   "source": [
    "for evenly spaced dataset, you should use the option fixed_step : \n"
   ]
  },
  {
   "cell_type": "code",
   "execution_count": null,
   "id": "7e1456a7",
   "metadata": {
    "execution": {
     "iopub.execute_input": "2023-02-26T22:57:14.216184Z",
     "iopub.status.busy": "2023-02-26T22:57:14.215152Z",
     "iopub.status.idle": "2023-02-26T22:57:21.836549Z",
     "shell.execute_reply": "2023-02-26T22:57:21.835147Z"
    },
    "papermill": {
     "duration": 7.630304,
     "end_time": "2023-02-26T22:57:21.839182",
     "exception": false,
     "start_time": "2023-02-26T22:57:14.208878",
     "status": "completed"
    },
    "tags": []
   },
   "outputs": [
    {
     "name": "stdout",
     "output_type": "stream",
     "text": [
      "\n",
      "\n",
      "**********TRAIN DATASET *********\n",
      "Validation/Train ratio: 0.1\n",
      "Samples filtered? NO\n",
      "Samples evenly spaced? True\n",
      "path: TRAIN_1_EVENLY_SPACED_V2.json/TRAIN_1_EVENLY_SPACED_V2.json\n",
      "loading dataset. Ready in a minute!\n"
     ]
    }
   ],
   "source": [
    "evenly_spaced_dataset_path=\"TRAIN_1_EVENLY_SPACED_V2.json/TRAIN_1_EVENLY_SPACED_V2.json\"\n",
    "evenly_spaced_dataset= ManeuverDetectionDataset(evenly_spaced_dataset_path,fixed_step=True)\n",
    "evenly_spaced_loader = DataLoader(evenly_spaced_dataset, batch_size=1, drop_last=True)\n",
    "feature,is_maneuver,maneuver_dv,maneuver_time =next(iter(evenly_spaced_loader))\n",
    "print(f\"features shape (batch size * nb of meas * nb of feature):{feature.shape}\\nis maneuver: {is_maneuver.item()}\\ndv (m/s): {maneuver_dv.item()}\\nmaneuver date (seconds from the observation start): {maneuver_time.item()}\")\n"
   ]
  },
  {
   "cell_type": "markdown",
   "id": "9af5e9f0",
   "metadata": {
    "papermill": {
     "duration": 0.003807,
     "end_time": "2023-02-26T22:57:21.847303",
     "exception": false,
     "start_time": "2023-02-26T22:57:21.843496",
     "status": "completed"
    },
    "tags": []
   },
   "source": [
    "#  It is time to submit !"
   ]
  },
  {
   "cell_type": "markdown",
   "id": "fe3349a7",
   "metadata": {
    "papermill": {
     "duration": 0.00385,
     "end_time": "2023-02-26T22:57:21.855064",
     "exception": false,
     "start_time": "2023-02-26T22:57:21.851214",
     "status": "completed"
    },
    "tags": []
   },
   "source": [
    "When you think that your score is great you can submit ! To get started, you can generate your prediction file :"
   ]
  },
  {
   "cell_type": "code",
   "execution_count": 8,
   "id": "dca845b8",
   "metadata": {
    "execution": {
     "iopub.execute_input": "2023-02-26T22:57:21.864964Z",
     "iopub.status.busy": "2023-02-26T22:57:21.864043Z",
     "iopub.status.idle": "2023-02-26T22:57:21.880968Z",
     "shell.execute_reply": "2023-02-26T22:57:21.88006Z"
    },
    "papermill": {
     "duration": 0.024084,
     "end_time": "2023-02-26T22:57:21.88304",
     "exception": false,
     "start_time": "2023-02-26T22:57:21.858956",
     "status": "completed"
    },
    "tags": []
   },
   "outputs": [],
   "source": [
    "from SubmissionGenerator import create_submission\n",
    "import numpy as np\n",
    "#fake prediction\n",
    "pred=np.zeros((len(test_dataset),3))\n",
    "pred[:,0]=np.ones((len(test_dataset))) # classification\n",
    "pred[:,1]=0.01*np.ones((len(test_dataset))) #dv\n",
    "pred[:,2]=24*3600*np.ones((len(test_dataset))) #time of the maneuver\n",
    "create_submission(pred,\"/kaggle/working/prediction\")\n"
   ]
  },
  {
   "cell_type": "code",
   "execution_count": 526,
   "id": "04eacf37",
   "metadata": {},
   "outputs": [
    {
     "data": {
      "text/plain": [
       "list"
      ]
     },
     "execution_count": 526,
     "metadata": {},
     "output_type": "execute_result"
    }
   ],
   "source": [
    "type(pred_maneuver)"
   ]
  },
  {
   "cell_type": "code",
   "execution_count": 529,
   "id": "eb34f9ab",
   "metadata": {},
   "outputs": [],
   "source": [
    "from SubmissionGenerator import create_submission\n",
    "import numpy as np\n",
    "#fake prediction\n",
    "pred=np.zeros((len(test_dataset),3))\n",
    "pred[:,0]=np.array(pred_maneuver) # classification\n",
    "pred[:,1]=0.01*np.ones((len(test_dataset))) #dv\n",
    "pred[:,2]=24*3600*np.ones((len(test_dataset))) #time of the maneuver\n",
    "create_submission(pred,\"./prediction.csv\")"
   ]
  },
  {
   "cell_type": "markdown",
   "id": "bf54c60a",
   "metadata": {
    "papermill": {
     "duration": 0.003972,
     "end_time": "2023-02-26T22:57:21.891452",
     "exception": false,
     "start_time": "2023-02-26T22:57:21.88748",
     "status": "completed"
    },
    "tags": []
   },
   "source": [
    "Then, commit the file prediction.csv in the gitlab repository of your team. Don't forget to pull the repo before!\n",
    "https://gitlab.com/TheoNguyen611/team-1-la-photomentalteam.git\n",
    "\n",
    "https://gitlab.com/TheoNguyen611/team-2-avada-kedavra.git\n",
    "\n",
    "https://gitlab.com/TheoNguyen611/team-3-frosty-gould.git\n",
    "\n",
    "Wait a few moment and you should see your score appear in the leaderboard : http://34.163.85.74:5006/dashboard"
   ]
  }
 ],
 "metadata": {
  "celltoolbar": "Format de la Cellule Texte Brut",
  "kernelspec": {
   "display_name": "Python 3 (ipykernel)",
   "language": "python",
   "name": "python3"
  },
  "language_info": {
   "codemirror_mode": {
    "name": "ipython",
    "version": 3
   },
   "file_extension": ".py",
   "mimetype": "text/x-python",
   "name": "python",
   "nbconvert_exporter": "python",
   "pygments_lexer": "ipython3",
   "version": "3.8.10"
  },
  "papermill": {
   "default_parameters": {},
   "duration": 36.74028,
   "end_time": "2023-02-26T22:57:24.515339",
   "environment_variables": {},
   "exception": null,
   "input_path": "__notebook__.ipynb",
   "output_path": "__notebook__.ipynb",
   "parameters": {},
   "start_time": "2023-02-26T22:56:47.775059",
   "version": "2.4.0"
  }
 },
 "nbformat": 4,
 "nbformat_minor": 5
}
